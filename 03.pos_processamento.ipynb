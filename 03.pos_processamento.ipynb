{
 "cells": [
  {
   "cell_type": "markdown",
   "id": "493c5289-7903-40af-ad18-0cfd44f987d3",
   "metadata": {},
   "source": [
    "Nothing here yet"
   ]
  },
  {
   "cell_type": "code",
   "execution_count": 2,
   "id": "ranking-stake",
   "metadata": {},
   "outputs": [],
   "source": [
    "# apresentacao dos resultados ou chamado aos Trabalhos Futuros\n"
   ]
  },
  {
   "cell_type": "code",
   "execution_count": null,
   "id": "typical-sixth",
   "metadata": {},
   "outputs": [],
   "source": []
  },
  {
   "cell_type": "code",
   "execution_count": null,
   "id": "velvet-drink",
   "metadata": {},
   "outputs": [],
   "source": []
  }
 ],
 "metadata": {
  "kernelspec": {
   "display_name": "Python 3 (ipykernel)",
   "language": "python",
   "name": "python3"
  },
  "language_info": {
   "codemirror_mode": {
    "name": "ipython",
    "version": 3
   },
   "file_extension": ".py",
   "mimetype": "text/x-python",
   "name": "python",
   "nbconvert_exporter": "python",
   "pygments_lexer": "ipython3",
   "version": "3.7.12"
  }
 },
 "nbformat": 4,
 "nbformat_minor": 5
}

import numpy as np
import matplotlib.pyplot as plt
import pandas as pd
import seaborn as sns

get_ipython().run_line_magic("matplotlib", " inline")


isolados = pd.read_csv('data/01 - geral_normalizada.csv')
isolados.sample(5)


df = pd.read_csv('data/02 - reacoes_normalizada.csv', names=['Ano','CCR','Composto','Resultado'], header=None, index_col=0)
df.sample(5)


# junta os termos em um unico identificador do isolado:
df["Isolado"] = "UFT."+df['Ano'].astype(str)+"(L)"+df['CCR'].astype(str)

# remove as colunas que não serao mais uteis:
del df['Ano']
del df['CCR']


# define nova coluna de indice:
df.set_index(['Isolado'], inplace=True)


# compostos = []
# for i in range(1,81):
#     compostos.append(i)

# compostos
df.sample(5)


# converte coluna de resultados em linhas:
df = df.pivot(columns='Composto')


# salva estado atual do dataframe em arquivo CSV:
df.to_csv('03 - reacoes_formatadas.csv')


df.sample(5)


# dimensoes - linhas e colunas
df.shape

# informações diversas:
df.info()


# descricao dos dados sob analise:
df.describe(include='object')


# mostra valores faltantes dentro de uma amostra dos dados:
sns.heatmap(df.isnull())
plt.show()


# plota cada característica categorica:
for column in df.select_dtypes(include='object'):
    if df[column].nunique() < 10:
        sns.countplot(y=column, data=df)
        plt.show()


# remocao das colunas com maioria dos valores nulos:
#df.isnull().sum()
df[df.columns[df.isnull().any()]].isnull().sum() * 100 / df.shape[0]


# mostra colunas com qtd de valores nulos maior que 50% dos possiveis registros: 
total = df.isnull().sum().sort_values(ascending=False)
percent = (df.isnull().sum()/df.isnull().count()).sort_values(ascending=False)
missing_data = pd.concat([total, percent], axis=1, keys=['Total', 'Missing Percent'])
missing_data['Missing Percent'] = missing_data['Missing Percent'].apply(lambda x: x * 100)
missing_data.loc[missing_data['Missing Percent'] > 50]


df.sample(5)


# o dataframe é o mesmo, só eliminei manualmente o identificador "Resultado" e ajeitei o header do arquivo:
data = pd.read_csv('data/03.1 - reacoes_formatadas.csv', index_col=0)
data.sample(5)


from pandas_profiling import ProfileReport


relatorio_inicial = ProfileReport(data, title="Reações - Relatorio Inicial", correlations={"cramers": {"calculate": False}})


relatorio_inicial.to_widgets()


relatorio_inicial.to_file("01 - relatorio-inicial_reacoes.html")


# from autovizwidget.widget.utils import display_dataframe

# display_dataframe(data)

















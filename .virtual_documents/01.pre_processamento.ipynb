import numpy as np
import matplotlib.pyplot as plt
import pandas as pd
import seaborn as sns
get_ipython().run_line_magic("matplotlib", " inline")


isolados = pd.read_csv('data/01 - geral_denormalizada.csv')
isolados.sample(5)


df = pd.read_csv('data/02 - reacoes_denormalizada.csv', names=['Ano','CCR','Composto','Resultado'], header=None, index_col=0)
df.sample(5)


# junta os termos em um unico identificador do isolado:
df["Isolado"] = "UFT."+df['Ano'].astype(str)+"(L)"+df['CCR'].astype(str)

# remove as colunas que não serao mais uteis:
del df['Ano']
del df['CCR']


# define nova coluna de indice:
df.set_index(['Isolado'], inplace=True)


# converte coluna de resultados em linhas:



#df['Isolado'].sample(5)

df.sample(5)


# faz a transposição de coluna para linhas, deixando a tabela com a estrutura desejada:
df2.melt(id_vars=["", "name", ''], 
        var_name="Date", 
        value_name="Value")































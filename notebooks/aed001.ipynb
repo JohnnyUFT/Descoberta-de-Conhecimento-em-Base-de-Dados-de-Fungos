{
 "cells": [
  {
   "cell_type": "markdown",
   "id": "547ba093-eb96-4c85-9044-71c17a4ea900",
   "metadata": {},
   "source": [
    "# Análise Exploratória de Dados"
   ]
  },
  {
   "cell_type": "code",
   "execution_count": 1,
   "id": "2e39e816-00fd-422b-a9e2-5282a200e387",
   "metadata": {},
   "outputs": [],
   "source": [
    "import pandas as pd\n",
    "# import numpy as np\n",
    "import matplotlib.pyplot as plt\n",
    "%matplotlib inline\n",
    "# import seaborn as sns\n",
    "\n",
    "# from pandas_profiling import ProfileReport\n",
    "# from pandas.plotting import scatter_matrix"
   ]
  },
  {
   "cell_type": "code",
   "execution_count": null,
   "id": "9d5bfdd8-dbd1-469e-801c-5ab7e3704551",
   "metadata": {},
   "outputs": [],
   "source": []
  },
  {
   "cell_type": "markdown",
   "id": "dc89b5ae-e5a1-45a7-98b1-bce7889abdcb",
   "metadata": {},
   "source": [
    "# 1. Isolados"
   ]
  },
  {
   "cell_type": "code",
   "execution_count": null,
   "id": "48fe3554-f0ce-4bca-b7cd-d70a2abade51",
   "metadata": {},
   "outputs": [],
   "source": [
    "isolados = pd.read_csv('base-denormalizada.csv', names=['isolado_id', 'Ano', 'CCR', 'Amostra_obs', 'Codigo_amostra', 'Codigo_coleta',\n",
    "       'Latitude', 'Longitude', 'Data_coleta', 'Localidade', 'Coleta_obs',\n",
    "       'Equipe', 'Substrato', 'Nome_cientifico', 'Cidade', 'UF'], encoding='cp1252')\n",
    "isolados.head()"
   ]
  },
  {
   "cell_type": "markdown",
   "id": "b4fcd3bf-551e-42f9-bdfa-e6d870880374",
   "metadata": {},
   "source": [
    "## 1.1 - Análise Exploratória Isolados:"
   ]
  },
  {
   "cell_type": "code",
   "execution_count": null,
   "id": "a56affa8-7191-41c0-9c67-ae83866c4765",
   "metadata": {},
   "outputs": [],
   "source": [
    "isolados.columns"
   ]
  },
  {
   "cell_type": "code",
   "execution_count": null,
   "id": "4522af98-b705-499b-855c-3fae22e4fb8c",
   "metadata": {},
   "outputs": [],
   "source": [
    "isolados.info()"
   ]
  },
  {
   "cell_type": "code",
   "execution_count": null,
   "id": "47d864d9-09d8-45a7-9b0e-ded2570eb422",
   "metadata": {},
   "outputs": [],
   "source": [
    "isolados.describe()"
   ]
  },
  {
   "cell_type": "code",
   "execution_count": null,
   "id": "58ae5003-aef8-4d1d-8478-374a3ca56e31",
   "metadata": {},
   "outputs": [],
   "source": [
    "isolados['Substrato'].value_counts()"
   ]
  },
  {
   "cell_type": "code",
   "execution_count": null,
   "id": "ad639832-8230-4da1-9856-d26ffff27390",
   "metadata": {},
   "outputs": [],
   "source": [
    "isolados."
   ]
  },
  {
   "cell_type": "code",
   "execution_count": null,
   "id": "42d7ab36-bad7-46c7-bf0e-48a1283b7d8b",
   "metadata": {},
   "outputs": [],
   "source": []
  },
  {
   "cell_type": "code",
   "execution_count": null,
   "id": "53cfaebb-a5d9-4052-b68d-f47947c20009",
   "metadata": {},
   "outputs": [],
   "source": [
    "# Profilling sem quaisquer tratamentos no dataset:\n",
    "profile = ProfileReport(isolados, title='Isolados Profiling Report', explorative=True)\n",
    "profile.to_widgets()"
   ]
  },
  {
   "cell_type": "code",
   "execution_count": null,
   "id": "005fd0b1-3f0b-4aec-860d-6236a8eb8450",
   "metadata": {},
   "outputs": [],
   "source": []
  },
  {
   "cell_type": "markdown",
   "id": "846c6f77-c8e2-472a-b55d-5756a320c702",
   "metadata": {},
   "source": [
    "## 2. Reações"
   ]
  },
  {
   "cell_type": "code",
   "execution_count": 4,
   "id": "82584361-9f18-45df-a62c-d089996d4930",
   "metadata": {},
   "outputs": [
    {
     "data": {
      "text/html": [
       "<div>\n",
       "<style scoped>\n",
       "    .dataframe tbody tr th:only-of-type {\n",
       "        vertical-align: middle;\n",
       "    }\n",
       "\n",
       "    .dataframe tbody tr th {\n",
       "        vertical-align: top;\n",
       "    }\n",
       "\n",
       "    .dataframe thead th {\n",
       "        text-align: right;\n",
       "    }\n",
       "</style>\n",
       "<table border=\"1\" class=\"dataframe\">\n",
       "  <thead>\n",
       "    <tr style=\"text-align: right;\">\n",
       "      <th></th>\n",
       "      <th>isolado_id</th>\n",
       "      <th>composto_id</th>\n",
       "      <th>resultado</th>\n",
       "    </tr>\n",
       "  </thead>\n",
       "  <tbody>\n",
       "    <tr>\n",
       "      <th>0</th>\n",
       "      <td>82</td>\n",
       "      <td>2</td>\n",
       "      <td>+</td>\n",
       "    </tr>\n",
       "    <tr>\n",
       "      <th>1</th>\n",
       "      <td>82</td>\n",
       "      <td>3</td>\n",
       "      <td>+</td>\n",
       "    </tr>\n",
       "    <tr>\n",
       "      <th>2</th>\n",
       "      <td>82</td>\n",
       "      <td>4</td>\n",
       "      <td>+</td>\n",
       "    </tr>\n",
       "    <tr>\n",
       "      <th>3</th>\n",
       "      <td>82</td>\n",
       "      <td>5</td>\n",
       "      <td>+</td>\n",
       "    </tr>\n",
       "    <tr>\n",
       "      <th>4</th>\n",
       "      <td>82</td>\n",
       "      <td>6</td>\n",
       "      <td>+</td>\n",
       "    </tr>\n",
       "  </tbody>\n",
       "</table>\n",
       "</div>"
      ],
      "text/plain": [
       "   isolado_id  composto_id resultado\n",
       "0          82            2         +\n",
       "1          82            3         +\n",
       "2          82            4         +\n",
       "3          82            5         +\n",
       "4          82            6         +"
      ]
     },
     "execution_count": 4,
     "metadata": {},
     "output_type": "execute_result"
    }
   ],
   "source": [
    "reacoes = pd.read_csv('02.reacoes2.csv', encoding='cp1252')\n",
    "reacoes.head()"
   ]
  },
  {
   "cell_type": "code",
   "execution_count": null,
   "id": "718319db-ebdd-4828-9e55-e9d426b0d2ba",
   "metadata": {},
   "outputs": [],
   "source": [
    "reacoes.corr()"
   ]
  },
  {
   "cell_type": "code",
   "execution_count": null,
   "id": "b3cf1cbd-694f-4282-bed8-4b942d5d2c00",
   "metadata": {},
   "outputs": [],
   "source": [
    "# scatter_matrix(reacoes)"
   ]
  },
  {
   "cell_type": "code",
   "execution_count": null,
   "id": "9e1247fd-878f-45b4-b14c-e3d4cf1eee2d",
   "metadata": {},
   "outputs": [],
   "source": [
    "# sns.heatmap(reacoes[[\"isolado_id\",\"composto_id\",\"resultado\"]].corr(), annot = True)\n",
    "# plt.show()"
   ]
  },
  {
   "cell_type": "code",
   "execution_count": null,
   "id": "fe6c316f-1489-4c3e-8654-cd1032127692",
   "metadata": {},
   "outputs": [],
   "source": []
  },
  {
   "cell_type": "markdown",
   "id": "35ac239c-536c-4edb-a04f-8d80f29ad9d7",
   "metadata": {},
   "source": [
    "### 2.1 - Rearranjando o dataset de reacoes:"
   ]
  },
  {
   "cell_type": "code",
   "execution_count": 6,
   "id": "efa28c61-43d7-46f2-ba94-88d228126543",
   "metadata": {},
   "outputs": [],
   "source": [
    "composto_list = [x for x in range(1, 81)] # id composto vai de 1 a 80"
   ]
  },
  {
   "cell_type": "code",
   "execution_count": 7,
   "id": "fd7ef50d-42e6-489d-86b2-f61e1b7e3349",
   "metadata": {},
   "outputs": [],
   "source": [
    "composto_list.sort()"
   ]
  },
  {
   "cell_type": "code",
   "execution_count": 11,
   "id": "d1e67abb-b2c0-4ee3-bbf4-ad9206ccaa35",
   "metadata": {},
   "outputs": [],
   "source": [
    "# composto_list"
   ]
  },
  {
   "cell_type": "code",
   "execution_count": 9,
   "id": "ce471f89-6f1f-4a16-bd50-5690d31a04c2",
   "metadata": {},
   "outputs": [
    {
     "ename": "KeyError",
     "evalue": "1",
     "output_type": "error",
     "traceback": [
      "\u001b[1;31m---------------------------------------------------------------------------\u001b[0m",
      "\u001b[1;31mKeyError\u001b[0m                                  Traceback (most recent call last)",
      "\u001b[1;32m~\\.conda\\envs\\visualization\\lib\\site-packages\\pandas\\core\\indexes\\base.py\u001b[0m in \u001b[0;36mget_loc\u001b[1;34m(self, key, method, tolerance)\u001b[0m\n\u001b[0;32m   2894\u001b[0m             \u001b[1;32mtry\u001b[0m\u001b[1;33m:\u001b[0m\u001b[1;33m\u001b[0m\u001b[1;33m\u001b[0m\u001b[0m\n\u001b[1;32m-> 2895\u001b[1;33m                 \u001b[1;32mreturn\u001b[0m \u001b[0mself\u001b[0m\u001b[1;33m.\u001b[0m\u001b[0m_engine\u001b[0m\u001b[1;33m.\u001b[0m\u001b[0mget_loc\u001b[0m\u001b[1;33m(\u001b[0m\u001b[0mcasted_key\u001b[0m\u001b[1;33m)\u001b[0m\u001b[1;33m\u001b[0m\u001b[1;33m\u001b[0m\u001b[0m\n\u001b[0m\u001b[0;32m   2896\u001b[0m             \u001b[1;32mexcept\u001b[0m \u001b[0mKeyError\u001b[0m \u001b[1;32mas\u001b[0m \u001b[0merr\u001b[0m\u001b[1;33m:\u001b[0m\u001b[1;33m\u001b[0m\u001b[1;33m\u001b[0m\u001b[0m\n",
      "\u001b[1;32mpandas\\_libs\\index.pyx\u001b[0m in \u001b[0;36mpandas._libs.index.IndexEngine.get_loc\u001b[1;34m()\u001b[0m\n",
      "\u001b[1;32mpandas\\_libs\\index.pyx\u001b[0m in \u001b[0;36mpandas._libs.index.IndexEngine.get_loc\u001b[1;34m()\u001b[0m\n",
      "\u001b[1;32mpandas\\_libs\\hashtable_class_helper.pxi\u001b[0m in \u001b[0;36mpandas._libs.hashtable.PyObjectHashTable.get_item\u001b[1;34m()\u001b[0m\n",
      "\u001b[1;32mpandas\\_libs\\hashtable_class_helper.pxi\u001b[0m in \u001b[0;36mpandas._libs.hashtable.PyObjectHashTable.get_item\u001b[1;34m()\u001b[0m\n",
      "\u001b[1;31mKeyError\u001b[0m: 1",
      "\nThe above exception was the direct cause of the following exception:\n",
      "\u001b[1;31mKeyError\u001b[0m                                  Traceback (most recent call last)",
      "\u001b[1;32m<ipython-input-9-6b60d10addc2>\u001b[0m in \u001b[0;36m<module>\u001b[1;34m\u001b[0m\n\u001b[1;32m----> 1\u001b[1;33m \u001b[0mreac\u001b[0m \u001b[1;33m=\u001b[0m \u001b[0mreacoes\u001b[0m\u001b[1;33m.\u001b[0m\u001b[0mpivot\u001b[0m\u001b[1;33m(\u001b[0m\u001b[0mindex\u001b[0m\u001b[1;33m=\u001b[0m\u001b[1;34m'isolado_id'\u001b[0m\u001b[1;33m,\u001b[0m \u001b[0mcolumns\u001b[0m\u001b[1;33m=\u001b[0m\u001b[0mcomposto_list\u001b[0m\u001b[1;33m,\u001b[0m \u001b[0mvalues\u001b[0m\u001b[1;33m=\u001b[0m\u001b[1;34m'resultado'\u001b[0m\u001b[1;33m)\u001b[0m\u001b[1;33m\u001b[0m\u001b[1;33m\u001b[0m\u001b[0m\n\u001b[0m\u001b[0;32m      2\u001b[0m \u001b[0mreac\u001b[0m\u001b[1;33m.\u001b[0m\u001b[0mhead\u001b[0m\u001b[1;33m(\u001b[0m\u001b[1;33m)\u001b[0m\u001b[1;33m\u001b[0m\u001b[1;33m\u001b[0m\u001b[0m\n",
      "\u001b[1;32m~\\.conda\\envs\\visualization\\lib\\site-packages\\pandas\\core\\frame.py\u001b[0m in \u001b[0;36mpivot\u001b[1;34m(self, index, columns, values)\u001b[0m\n\u001b[0;32m   6672\u001b[0m         \u001b[1;32mfrom\u001b[0m \u001b[0mpandas\u001b[0m\u001b[1;33m.\u001b[0m\u001b[0mcore\u001b[0m\u001b[1;33m.\u001b[0m\u001b[0mreshape\u001b[0m\u001b[1;33m.\u001b[0m\u001b[0mpivot\u001b[0m \u001b[1;32mimport\u001b[0m \u001b[0mpivot\u001b[0m\u001b[1;33m\u001b[0m\u001b[1;33m\u001b[0m\u001b[0m\n\u001b[0;32m   6673\u001b[0m \u001b[1;33m\u001b[0m\u001b[0m\n\u001b[1;32m-> 6674\u001b[1;33m         \u001b[1;32mreturn\u001b[0m \u001b[0mpivot\u001b[0m\u001b[1;33m(\u001b[0m\u001b[0mself\u001b[0m\u001b[1;33m,\u001b[0m \u001b[0mindex\u001b[0m\u001b[1;33m=\u001b[0m\u001b[0mindex\u001b[0m\u001b[1;33m,\u001b[0m \u001b[0mcolumns\u001b[0m\u001b[1;33m=\u001b[0m\u001b[0mcolumns\u001b[0m\u001b[1;33m,\u001b[0m \u001b[0mvalues\u001b[0m\u001b[1;33m=\u001b[0m\u001b[0mvalues\u001b[0m\u001b[1;33m)\u001b[0m\u001b[1;33m\u001b[0m\u001b[1;33m\u001b[0m\u001b[0m\n\u001b[0m\u001b[0;32m   6675\u001b[0m \u001b[1;33m\u001b[0m\u001b[0m\n\u001b[0;32m   6676\u001b[0m     _shared_docs[\n",
      "\u001b[1;32m~\\.conda\\envs\\visualization\\lib\\site-packages\\pandas\\core\\reshape\\pivot.py\u001b[0m in \u001b[0;36mpivot\u001b[1;34m(data, index, columns, values)\u001b[0m\n\u001b[0;32m    463\u001b[0m             \u001b[0mindex\u001b[0m \u001b[1;33m=\u001b[0m \u001b[1;33m[\u001b[0m\u001b[0mdata\u001b[0m\u001b[1;33m[\u001b[0m\u001b[0midx\u001b[0m\u001b[1;33m]\u001b[0m \u001b[1;32mfor\u001b[0m \u001b[0midx\u001b[0m \u001b[1;32min\u001b[0m \u001b[0mindex\u001b[0m\u001b[1;33m]\u001b[0m\u001b[1;33m\u001b[0m\u001b[1;33m\u001b[0m\u001b[0m\n\u001b[0;32m    464\u001b[0m \u001b[1;33m\u001b[0m\u001b[0m\n\u001b[1;32m--> 465\u001b[1;33m         \u001b[0mdata_columns\u001b[0m \u001b[1;33m=\u001b[0m \u001b[1;33m[\u001b[0m\u001b[0mdata\u001b[0m\u001b[1;33m[\u001b[0m\u001b[0mcol\u001b[0m\u001b[1;33m]\u001b[0m \u001b[1;32mfor\u001b[0m \u001b[0mcol\u001b[0m \u001b[1;32min\u001b[0m \u001b[0mcolumns\u001b[0m\u001b[1;33m]\u001b[0m\u001b[1;33m\u001b[0m\u001b[1;33m\u001b[0m\u001b[0m\n\u001b[0m\u001b[0;32m    466\u001b[0m         \u001b[0mindex\u001b[0m\u001b[1;33m.\u001b[0m\u001b[0mextend\u001b[0m\u001b[1;33m(\u001b[0m\u001b[0mdata_columns\u001b[0m\u001b[1;33m)\u001b[0m\u001b[1;33m\u001b[0m\u001b[1;33m\u001b[0m\u001b[0m\n\u001b[0;32m    467\u001b[0m         \u001b[0mindex\u001b[0m \u001b[1;33m=\u001b[0m \u001b[0mMultiIndex\u001b[0m\u001b[1;33m.\u001b[0m\u001b[0mfrom_arrays\u001b[0m\u001b[1;33m(\u001b[0m\u001b[0mindex\u001b[0m\u001b[1;33m)\u001b[0m\u001b[1;33m\u001b[0m\u001b[1;33m\u001b[0m\u001b[0m\n",
      "\u001b[1;32m~\\.conda\\envs\\visualization\\lib\\site-packages\\pandas\\core\\reshape\\pivot.py\u001b[0m in \u001b[0;36m<listcomp>\u001b[1;34m(.0)\u001b[0m\n\u001b[0;32m    463\u001b[0m             \u001b[0mindex\u001b[0m \u001b[1;33m=\u001b[0m \u001b[1;33m[\u001b[0m\u001b[0mdata\u001b[0m\u001b[1;33m[\u001b[0m\u001b[0midx\u001b[0m\u001b[1;33m]\u001b[0m \u001b[1;32mfor\u001b[0m \u001b[0midx\u001b[0m \u001b[1;32min\u001b[0m \u001b[0mindex\u001b[0m\u001b[1;33m]\u001b[0m\u001b[1;33m\u001b[0m\u001b[1;33m\u001b[0m\u001b[0m\n\u001b[0;32m    464\u001b[0m \u001b[1;33m\u001b[0m\u001b[0m\n\u001b[1;32m--> 465\u001b[1;33m         \u001b[0mdata_columns\u001b[0m \u001b[1;33m=\u001b[0m \u001b[1;33m[\u001b[0m\u001b[0mdata\u001b[0m\u001b[1;33m[\u001b[0m\u001b[0mcol\u001b[0m\u001b[1;33m]\u001b[0m \u001b[1;32mfor\u001b[0m \u001b[0mcol\u001b[0m \u001b[1;32min\u001b[0m \u001b[0mcolumns\u001b[0m\u001b[1;33m]\u001b[0m\u001b[1;33m\u001b[0m\u001b[1;33m\u001b[0m\u001b[0m\n\u001b[0m\u001b[0;32m    466\u001b[0m         \u001b[0mindex\u001b[0m\u001b[1;33m.\u001b[0m\u001b[0mextend\u001b[0m\u001b[1;33m(\u001b[0m\u001b[0mdata_columns\u001b[0m\u001b[1;33m)\u001b[0m\u001b[1;33m\u001b[0m\u001b[1;33m\u001b[0m\u001b[0m\n\u001b[0;32m    467\u001b[0m         \u001b[0mindex\u001b[0m \u001b[1;33m=\u001b[0m \u001b[0mMultiIndex\u001b[0m\u001b[1;33m.\u001b[0m\u001b[0mfrom_arrays\u001b[0m\u001b[1;33m(\u001b[0m\u001b[0mindex\u001b[0m\u001b[1;33m)\u001b[0m\u001b[1;33m\u001b[0m\u001b[1;33m\u001b[0m\u001b[0m\n",
      "\u001b[1;32m~\\.conda\\envs\\visualization\\lib\\site-packages\\pandas\\core\\frame.py\u001b[0m in \u001b[0;36m__getitem__\u001b[1;34m(self, key)\u001b[0m\n\u001b[0;32m   2900\u001b[0m             \u001b[1;32mif\u001b[0m \u001b[0mself\u001b[0m\u001b[1;33m.\u001b[0m\u001b[0mcolumns\u001b[0m\u001b[1;33m.\u001b[0m\u001b[0mnlevels\u001b[0m \u001b[1;33m>\u001b[0m \u001b[1;36m1\u001b[0m\u001b[1;33m:\u001b[0m\u001b[1;33m\u001b[0m\u001b[1;33m\u001b[0m\u001b[0m\n\u001b[0;32m   2901\u001b[0m                 \u001b[1;32mreturn\u001b[0m \u001b[0mself\u001b[0m\u001b[1;33m.\u001b[0m\u001b[0m_getitem_multilevel\u001b[0m\u001b[1;33m(\u001b[0m\u001b[0mkey\u001b[0m\u001b[1;33m)\u001b[0m\u001b[1;33m\u001b[0m\u001b[1;33m\u001b[0m\u001b[0m\n\u001b[1;32m-> 2902\u001b[1;33m             \u001b[0mindexer\u001b[0m \u001b[1;33m=\u001b[0m \u001b[0mself\u001b[0m\u001b[1;33m.\u001b[0m\u001b[0mcolumns\u001b[0m\u001b[1;33m.\u001b[0m\u001b[0mget_loc\u001b[0m\u001b[1;33m(\u001b[0m\u001b[0mkey\u001b[0m\u001b[1;33m)\u001b[0m\u001b[1;33m\u001b[0m\u001b[1;33m\u001b[0m\u001b[0m\n\u001b[0m\u001b[0;32m   2903\u001b[0m             \u001b[1;32mif\u001b[0m \u001b[0mis_integer\u001b[0m\u001b[1;33m(\u001b[0m\u001b[0mindexer\u001b[0m\u001b[1;33m)\u001b[0m\u001b[1;33m:\u001b[0m\u001b[1;33m\u001b[0m\u001b[1;33m\u001b[0m\u001b[0m\n\u001b[0;32m   2904\u001b[0m                 \u001b[0mindexer\u001b[0m \u001b[1;33m=\u001b[0m \u001b[1;33m[\u001b[0m\u001b[0mindexer\u001b[0m\u001b[1;33m]\u001b[0m\u001b[1;33m\u001b[0m\u001b[1;33m\u001b[0m\u001b[0m\n",
      "\u001b[1;32m~\\.conda\\envs\\visualization\\lib\\site-packages\\pandas\\core\\indexes\\base.py\u001b[0m in \u001b[0;36mget_loc\u001b[1;34m(self, key, method, tolerance)\u001b[0m\n\u001b[0;32m   2895\u001b[0m                 \u001b[1;32mreturn\u001b[0m \u001b[0mself\u001b[0m\u001b[1;33m.\u001b[0m\u001b[0m_engine\u001b[0m\u001b[1;33m.\u001b[0m\u001b[0mget_loc\u001b[0m\u001b[1;33m(\u001b[0m\u001b[0mcasted_key\u001b[0m\u001b[1;33m)\u001b[0m\u001b[1;33m\u001b[0m\u001b[1;33m\u001b[0m\u001b[0m\n\u001b[0;32m   2896\u001b[0m             \u001b[1;32mexcept\u001b[0m \u001b[0mKeyError\u001b[0m \u001b[1;32mas\u001b[0m \u001b[0merr\u001b[0m\u001b[1;33m:\u001b[0m\u001b[1;33m\u001b[0m\u001b[1;33m\u001b[0m\u001b[0m\n\u001b[1;32m-> 2897\u001b[1;33m                 \u001b[1;32mraise\u001b[0m \u001b[0mKeyError\u001b[0m\u001b[1;33m(\u001b[0m\u001b[0mkey\u001b[0m\u001b[1;33m)\u001b[0m \u001b[1;32mfrom\u001b[0m \u001b[0merr\u001b[0m\u001b[1;33m\u001b[0m\u001b[1;33m\u001b[0m\u001b[0m\n\u001b[0m\u001b[0;32m   2898\u001b[0m \u001b[1;33m\u001b[0m\u001b[0m\n\u001b[0;32m   2899\u001b[0m         \u001b[1;32mif\u001b[0m \u001b[0mtolerance\u001b[0m \u001b[1;32mis\u001b[0m \u001b[1;32mnot\u001b[0m \u001b[1;32mNone\u001b[0m\u001b[1;33m:\u001b[0m\u001b[1;33m\u001b[0m\u001b[1;33m\u001b[0m\u001b[0m\n",
      "\u001b[1;31mKeyError\u001b[0m: 1"
     ]
    }
   ],
   "source": [
    "reac = reacoes.pivot(index='isolado_id', columns=composto_list, values='resultado')\n",
    "reac.head()"
   ]
  },
  {
   "cell_type": "code",
   "execution_count": null,
   "id": "63ef52b5-f11c-4d75-baff-1b7a3db1d613",
   "metadata": {},
   "outputs": [],
   "source": [
    "reac.columns"
   ]
  },
  {
   "cell_type": "code",
   "execution_count": null,
   "id": "3b6473bc-9b2c-4f75-a608-83b0132af85a",
   "metadata": {},
   "outputs": [],
   "source": [
    "# teste salva csv:\n",
    "reac.to_csv(\"reac-pivot.csv\")"
   ]
  },
  {
   "cell_type": "code",
   "execution_count": null,
   "id": "e5afd3fa-7350-4ce6-9361-9b9aaaf5897c",
   "metadata": {},
   "outputs": [],
   "source": [
    "reac['id'] = [x for x in range(1, len(reac.values)+1)]"
   ]
  },
  {
   "cell_type": "code",
   "execution_count": null,
   "id": "225b0153-8c1a-4d4c-80b0-966aae07f67d",
   "metadata": {},
   "outputs": [],
   "source": [
    "reac.set_index('id', append=True, inplace=True)"
   ]
  },
  {
   "cell_type": "code",
   "execution_count": null,
   "id": "582a8908-57d4-4a76-a580-78a60dc2d13f",
   "metadata": {},
   "outputs": [],
   "source": [
    "reac.head(3)"
   ]
  },
  {
   "cell_type": "code",
   "execution_count": null,
   "id": "6b5b15c6-6919-4a41-9c41-b669b5e612e5",
   "metadata": {},
   "outputs": [],
   "source": [
    "reac.index"
   ]
  },
  {
   "cell_type": "code",
   "execution_count": null,
   "id": "479846f7-b712-4c28-8379-33ffca92f6ac",
   "metadata": {},
   "outputs": [],
   "source": [
    "df_reac = reac.reset_index(['isolado_id'])"
   ]
  },
  {
   "cell_type": "code",
   "execution_count": null,
   "id": "8be4ca36-3319-4755-9825-d7b49ed06b35",
   "metadata": {},
   "outputs": [],
   "source": [
    "df_reac.head()"
   ]
  },
  {
   "cell_type": "code",
   "execution_count": null,
   "id": "a6ba2d5b-7a9d-49f9-81bf-0d0b89069362",
   "metadata": {},
   "outputs": [],
   "source": [
    "# Profilling sem quaisquer tratamentos no dataset:\n",
    "profile2 = ProfileReport(df_reac, title='Reacoes Profiling Report', explorative=True)\n",
    "profile2.to_widgets()"
   ]
  },
  {
   "cell_type": "code",
   "execution_count": null,
   "id": "b18f4150-0827-4d3d-b1c7-f6f0bffc85b3",
   "metadata": {},
   "outputs": [],
   "source": []
  },
  {
   "cell_type": "code",
   "execution_count": null,
   "id": "6ed12d5f-e58f-4ac3-afeb-bc71042d4b7d",
   "metadata": {},
   "outputs": [],
   "source": []
  },
  {
   "cell_type": "code",
   "execution_count": null,
   "id": "466265fd-202f-4f6f-bd0c-6113e25fa9a4",
   "metadata": {},
   "outputs": [],
   "source": []
  },
  {
   "cell_type": "markdown",
   "id": "3cf744ad-cc12-4c4d-8fae-223e09f49fdb",
   "metadata": {},
   "source": [
    "### Dataframe Info Genetica"
   ]
  },
  {
   "cell_type": "code",
   "execution_count": null,
   "id": "0b8be0de-a45e-4006-bd80-2c174501fb16",
   "metadata": {},
   "outputs": [],
   "source": [
    "info = pd.read_csv('info_genetica.csv', encoding='cp1252')\n",
    "info.head()"
   ]
  },
  {
   "cell_type": "code",
   "execution_count": null,
   "id": "4b6e6999-02c9-46ed-befb-f02861b9c3a2",
   "metadata": {},
   "outputs": [],
   "source": []
  },
  {
   "cell_type": "code",
   "execution_count": null,
   "id": "f96b2476-f2f2-4d03-9683-ecc7c800133a",
   "metadata": {},
   "outputs": [],
   "source": []
  },
  {
   "cell_type": "code",
   "execution_count": null,
   "id": "e38a9d58-e5b3-47ec-8510-6d253f8b6355",
   "metadata": {},
   "outputs": [],
   "source": []
  },
  {
   "cell_type": "code",
   "execution_count": null,
   "id": "c0adda00-0809-4c76-ad96-ee4ea2565026",
   "metadata": {},
   "outputs": [],
   "source": []
  },
  {
   "cell_type": "code",
   "execution_count": null,
   "id": "db8ac3b1-550b-470b-a248-0e452131ca55",
   "metadata": {},
   "outputs": [],
   "source": []
  },
  {
   "cell_type": "markdown",
   "id": "86c4a328-855e-4c14-97fb-710b08e76125",
   "metadata": {},
   "source": [
    "### 2.2 - Merging Datasets: Isolados, Info Genetica e Reacoes"
   ]
  },
  {
   "cell_type": "code",
   "execution_count": null,
   "id": "efd15b5e-7243-40c3-92b0-de3dccd740b6",
   "metadata": {},
   "outputs": [],
   "source": [
    "result = pd.merge(isolados, df_reac, how='left', on='isolado_id')"
   ]
  },
  {
   "cell_type": "code",
   "execution_count": null,
   "id": "32426307-c00a-4a4b-a7dd-03342222e037",
   "metadata": {},
   "outputs": [],
   "source": [
    "result.sample(5)"
   ]
  },
  {
   "cell_type": "code",
   "execution_count": null,
   "id": "de5647d5-71a4-4379-ba34-316b97eba3fd",
   "metadata": {},
   "outputs": [],
   "source": [
    "profile3 = ProfileReport(result, title='Result Profiling Report')\n",
    "profile3.to_widgets()"
   ]
  },
  {
   "cell_type": "code",
   "execution_count": null,
   "id": "e7c7a9ad-abe0-47e0-9706-e64436c5d427",
   "metadata": {},
   "outputs": [],
   "source": [
    "# salva DataFrame como arquivo csv na pasta atual:\n",
    "result.to_csv(\"result.csv\")"
   ]
  },
  {
   "cell_type": "code",
   "execution_count": null,
   "id": "91e7cf1c-8b35-492b-92b1-519445e12caf",
   "metadata": {},
   "outputs": [],
   "source": []
  },
  {
   "cell_type": "code",
   "execution_count": null,
   "id": "eeff3481-cbd3-4a90-acac-2feaa18d5b12",
   "metadata": {},
   "outputs": [],
   "source": []
  }
 ],
 "metadata": {
  "kernelspec": {
   "display_name": "Python 3",
   "language": "python",
   "name": "python3"
  },
  "language_info": {
   "codemirror_mode": {
    "name": "ipython",
    "version": 3
   },
   "file_extension": ".py",
   "mimetype": "text/x-python",
   "name": "python",
   "nbconvert_exporter": "python",
   "pygments_lexer": "ipython3",
   "version": "3.6.13"
  }
 },
 "nbformat": 4,
 "nbformat_minor": 5
}

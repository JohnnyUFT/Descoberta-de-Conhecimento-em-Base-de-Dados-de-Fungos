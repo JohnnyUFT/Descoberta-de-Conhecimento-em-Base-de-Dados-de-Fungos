{
 "cells": [
  {
   "cell_type": "code",
   "execution_count": 1,
   "id": "ac1e6fd0-a82e-4e08-b897-cc39cd54fb92",
   "metadata": {},
   "outputs": [],
   "source": [
    "import sweetviz as sv\n",
    "import pandas as pd\n",
    "import seaborn as sns"
   ]
  },
  {
   "cell_type": "code",
   "execution_count": 2,
   "id": "96308978-df5a-402a-8896-948235deeb11",
   "metadata": {},
   "outputs": [],
   "source": [
    "# para ignorar avisos do jupyter lab:\n",
    "import warnings\n",
    "warnings.filterwarnings('ignore')\n"
   ]
  },
  {
   "cell_type": "code",
   "execution_count": 3,
   "id": "a19919f7-43c3-494f-99c4-3007d64268bd",
   "metadata": {},
   "outputs": [
    {
     "data": {
      "text/html": [
       "<div>\n",
       "<style scoped>\n",
       "    .dataframe tbody tr th:only-of-type {\n",
       "        vertical-align: middle;\n",
       "    }\n",
       "\n",
       "    .dataframe tbody tr th {\n",
       "        vertical-align: top;\n",
       "    }\n",
       "\n",
       "    .dataframe thead th {\n",
       "        text-align: right;\n",
       "    }\n",
       "</style>\n",
       "<table border=\"1\" class=\"dataframe\">\n",
       "  <thead>\n",
       "    <tr style=\"text-align: right;\">\n",
       "      <th></th>\n",
       "      <th>1</th>\n",
       "      <th>2</th>\n",
       "      <th>3</th>\n",
       "      <th>4</th>\n",
       "      <th>5</th>\n",
       "      <th>6</th>\n",
       "      <th>7</th>\n",
       "      <th>8</th>\n",
       "      <th>9</th>\n",
       "      <th>10</th>\n",
       "      <th>...</th>\n",
       "      <th>52</th>\n",
       "      <th>53</th>\n",
       "      <th>64</th>\n",
       "      <th>65</th>\n",
       "      <th>66</th>\n",
       "      <th>67</th>\n",
       "      <th>68</th>\n",
       "      <th>69</th>\n",
       "      <th>78</th>\n",
       "      <th>79</th>\n",
       "    </tr>\n",
       "  </thead>\n",
       "  <tbody>\n",
       "    <tr>\n",
       "      <th>UFT.2014(L)7898</th>\n",
       "      <td>NaN</td>\n",
       "      <td>+</td>\n",
       "      <td>+</td>\n",
       "      <td>+</td>\n",
       "      <td>+</td>\n",
       "      <td>+</td>\n",
       "      <td>+</td>\n",
       "      <td>-</td>\n",
       "      <td>+</td>\n",
       "      <td>+</td>\n",
       "      <td>...</td>\n",
       "      <td>NaN</td>\n",
       "      <td>NaN</td>\n",
       "      <td>NaN</td>\n",
       "      <td>NaN</td>\n",
       "      <td>NaN</td>\n",
       "      <td>NaN</td>\n",
       "      <td>NaN</td>\n",
       "      <td>NaN</td>\n",
       "      <td>NaN</td>\n",
       "      <td>NaN</td>\n",
       "    </tr>\n",
       "    <tr>\n",
       "      <th>UFT.2014(L)7532</th>\n",
       "      <td>NaN</td>\n",
       "      <td>+</td>\n",
       "      <td>+</td>\n",
       "      <td>+</td>\n",
       "      <td>+</td>\n",
       "      <td>+</td>\n",
       "      <td>+</td>\n",
       "      <td>-</td>\n",
       "      <td>+</td>\n",
       "      <td>+</td>\n",
       "      <td>...</td>\n",
       "      <td>NaN</td>\n",
       "      <td>NaN</td>\n",
       "      <td>NaN</td>\n",
       "      <td>NaN</td>\n",
       "      <td>NaN</td>\n",
       "      <td>NaN</td>\n",
       "      <td>NaN</td>\n",
       "      <td>NaN</td>\n",
       "      <td>NaN</td>\n",
       "      <td>NaN</td>\n",
       "    </tr>\n",
       "    <tr>\n",
       "      <th>UFT.2014(L)7900</th>\n",
       "      <td>NaN</td>\n",
       "      <td>+</td>\n",
       "      <td>+</td>\n",
       "      <td>+</td>\n",
       "      <td>+</td>\n",
       "      <td>+</td>\n",
       "      <td>+</td>\n",
       "      <td>-</td>\n",
       "      <td>+</td>\n",
       "      <td>+</td>\n",
       "      <td>...</td>\n",
       "      <td>NaN</td>\n",
       "      <td>NaN</td>\n",
       "      <td>NaN</td>\n",
       "      <td>NaN</td>\n",
       "      <td>NaN</td>\n",
       "      <td>NaN</td>\n",
       "      <td>NaN</td>\n",
       "      <td>NaN</td>\n",
       "      <td>NaN</td>\n",
       "      <td>NaN</td>\n",
       "    </tr>\n",
       "    <tr>\n",
       "      <th>UFT.2015(L)8551</th>\n",
       "      <td>NaN</td>\n",
       "      <td>+</td>\n",
       "      <td>+</td>\n",
       "      <td>+w</td>\n",
       "      <td>+</td>\n",
       "      <td>+</td>\n",
       "      <td>-+</td>\n",
       "      <td>-</td>\n",
       "      <td>+w</td>\n",
       "      <td>+w</td>\n",
       "      <td>...</td>\n",
       "      <td>NaN</td>\n",
       "      <td>NaN</td>\n",
       "      <td>NaN</td>\n",
       "      <td>NaN</td>\n",
       "      <td>NaN</td>\n",
       "      <td>NaN</td>\n",
       "      <td>NaN</td>\n",
       "      <td>NaN</td>\n",
       "      <td>NaN</td>\n",
       "      <td>NaN</td>\n",
       "    </tr>\n",
       "    <tr>\n",
       "      <th>UFT.2014(L)7821</th>\n",
       "      <td>NaN</td>\n",
       "      <td>+</td>\n",
       "      <td>+</td>\n",
       "      <td>+</td>\n",
       "      <td>+</td>\n",
       "      <td>+</td>\n",
       "      <td>+</td>\n",
       "      <td>-</td>\n",
       "      <td>+</td>\n",
       "      <td>+</td>\n",
       "      <td>...</td>\n",
       "      <td>NaN</td>\n",
       "      <td>NaN</td>\n",
       "      <td>NaN</td>\n",
       "      <td>NaN</td>\n",
       "      <td>NaN</td>\n",
       "      <td>NaN</td>\n",
       "      <td>NaN</td>\n",
       "      <td>NaN</td>\n",
       "      <td>NaN</td>\n",
       "      <td>NaN</td>\n",
       "    </tr>\n",
       "  </tbody>\n",
       "</table>\n",
       "<p>5 rows × 57 columns</p>\n",
       "</div>"
      ],
      "text/plain": [
       "                   1  2  3   4  5  6   7  8   9  10  ...   52   53   64   65  \\\n",
       "UFT.2014(L)7898  NaN  +  +   +  +  +   +  -   +   +  ...  NaN  NaN  NaN  NaN   \n",
       "UFT.2014(L)7532  NaN  +  +   +  +  +   +  -   +   +  ...  NaN  NaN  NaN  NaN   \n",
       "UFT.2014(L)7900  NaN  +  +   +  +  +   +  -   +   +  ...  NaN  NaN  NaN  NaN   \n",
       "UFT.2015(L)8551  NaN  +  +  +w  +  +  -+  -  +w  +w  ...  NaN  NaN  NaN  NaN   \n",
       "UFT.2014(L)7821  NaN  +  +   +  +  +   +  -   +   +  ...  NaN  NaN  NaN  NaN   \n",
       "\n",
       "                  66   67   68   69   78   79  \n",
       "UFT.2014(L)7898  NaN  NaN  NaN  NaN  NaN  NaN  \n",
       "UFT.2014(L)7532  NaN  NaN  NaN  NaN  NaN  NaN  \n",
       "UFT.2014(L)7900  NaN  NaN  NaN  NaN  NaN  NaN  \n",
       "UFT.2015(L)8551  NaN  NaN  NaN  NaN  NaN  NaN  \n",
       "UFT.2014(L)7821  NaN  NaN  NaN  NaN  NaN  NaN  \n",
       "\n",
       "[5 rows x 57 columns]"
      ]
     },
     "execution_count": 3,
     "metadata": {},
     "output_type": "execute_result"
    }
   ],
   "source": [
    "reac = pd.read_csv('data/reacoes.csv', index_col=0, )\n",
    "reac.sample(5)"
   ]
  },
  {
   "cell_type": "code",
   "execution_count": null,
   "id": "59de8581-3367-4e73-98ea-acba83f57b67",
   "metadata": {},
   "outputs": [],
   "source": [
    "reac.describe(include='all')# repare no esultado do indicador 'top'"
   ]
  },
  {
   "cell_type": "code",
   "execution_count": null,
   "id": "fe7989bd-9c09-481b-ac73-323e22fe3f5a",
   "metadata": {},
   "outputs": [],
   "source": [
    "reac.shape"
   ]
  },
  {
   "cell_type": "code",
   "execution_count": null,
   "id": "683df944-998e-4f7c-a791-a3ef028e293c",
   "metadata": {
    "tags": []
   },
   "outputs": [],
   "source": [
    "reac.info()"
   ]
  },
  {
   "cell_type": "code",
   "execution_count": null,
   "id": "6bf6c65b-1a52-45ee-9908-f5fc0879b047",
   "metadata": {},
   "outputs": [],
   "source": []
  },
  {
   "cell_type": "code",
   "execution_count": null,
   "id": "f60134bb-fb10-4bcd-8331-ee3c5420921e",
   "metadata": {
    "tags": []
   },
   "outputs": [],
   "source": [
    "# mostra a porcentagem de valores nulos para cada coluna:\n",
    "null = reac.isna().sum()/len(reac)\n",
    "null[null > 0].sort_values()"
   ]
  },
  {
   "cell_type": "code",
   "execution_count": null,
   "id": "34a23a86-fdc8-47f7-94a2-2ef74eaa2716",
   "metadata": {
    "tags": []
   },
   "outputs": [],
   "source": [
    "missing_count = reac.isnull().sum()# quantidade de valores faltantes\n",
    "value_count   = reac.isnull().count()# quantidade total de valores/observacoes\n",
    "\n",
    "missing_percentage = round(missing_count / value_count * 100, 2)# porcentagem de valores faltantes\n",
    "\n",
    "missing_df = pd.DataFrame({'count':missing_count, 'percentage':missing_percentage})# cria novo dataframe\n",
    "\n",
    "print(missing_df)"
   ]
  },
  {
   "cell_type": "code",
   "execution_count": null,
   "id": "96c55ee4-e560-4e41-be78-bc572976eb7d",
   "metadata": {
    "tags": []
   },
   "outputs": [],
   "source": [
    "# categorical vs. categorical data:\n",
    "# so funciona com tabelas cheias (sem valores nulos)!\n",
    "\n",
    "for i in reac.columns:\n",
    "    primary_cat = reac[i]\n",
    "    for j in reac.columns:\n",
    "        secondary_cat = reac[j]\n",
    "        if(secondary_cat != primary_cat):\n",
    "            plt.figure (figsize = (15,15))\n",
    "            chart = sns.countplot(\n",
    "                data = reac,\n",
    "                x = primary_cat,\n",
    "                hue = secondary_cat,\n",
    "                palette = 'GnBu',\n",
    "                order = reac[primary_cat].values_counts().iloc[:10].index# mostra somente os 10 primeiros\n",
    "            )\n"
   ]
  },
  {
   "cell_type": "code",
   "execution_count": null,
   "id": "49c9dfe4-cb46-43f0-8bf8-690fb51498a6",
   "metadata": {
    "tags": []
   },
   "outputs": [],
   "source": [
    "reac.iloc[:10]"
   ]
  },
  {
   "cell_type": "code",
   "execution_count": null,
   "id": "f22535f3-2c5c-47ff-b066-4243edbd1367",
   "metadata": {},
   "outputs": [],
   "source": [
    "reac.columns"
   ]
  },
  {
   "cell_type": "markdown",
   "id": "056a2360-a3e6-4ecd-acd3-61ae492fccae",
   "metadata": {},
   "source": [
    "### Gerando relatorio com o SweetViz:"
   ]
  },
  {
   "cell_type": "code",
   "execution_count": null,
   "id": "9718c284-5350-46d3-a167-90395d6dcb47",
   "metadata": {
    "tags": []
   },
   "outputs": [],
   "source": [
    "#analyzing the dataset\n",
    "advert_report = sv.analyze(reac)"
   ]
  },
  {
   "cell_type": "code",
   "execution_count": null,
   "id": "48999bb0-2189-43d7-b970-20edeef61c61",
   "metadata": {},
   "outputs": [],
   "source": [
    "#display the report\n",
    "advert_report.show_html('sweetviz_report.html')"
   ]
  },
  {
   "cell_type": "code",
   "execution_count": null,
   "id": "42e19a2f-bd33-44a0-abf5-78eb9707a33b",
   "metadata": {},
   "outputs": [],
   "source": []
  },
  {
   "cell_type": "markdown",
   "id": "3280c8a3-d71e-4df8-bf1e-8aa0b0b428be",
   "metadata": {},
   "source": [
    "### Gerando relatorio com DataPrep"
   ]
  },
  {
   "cell_type": "code",
   "execution_count": null,
   "id": "085a18ff-31c9-4d36-ba57-9e1b572eb6ed",
   "metadata": {
    "tags": []
   },
   "outputs": [],
   "source": [
    "from dataprep.eda import create_report"
   ]
  },
  {
   "cell_type": "code",
   "execution_count": null,
   "id": "d976e5cc-d26a-47c3-9fdc-88fe506549ff",
   "metadata": {},
   "outputs": [],
   "source": [
    "report = create_report(reac)"
   ]
  },
  {
   "cell_type": "code",
   "execution_count": null,
   "id": "f259093f-408d-4a07-9152-0fd3da35bf73",
   "metadata": {},
   "outputs": [],
   "source": [
    "# mostra relatorio recem criado:\n",
    "report"
   ]
  },
  {
   "cell_type": "code",
   "execution_count": null,
   "id": "fcf6b4de-43e8-42fa-af2c-908e88a3ca4f",
   "metadata": {},
   "outputs": [],
   "source": [
    "# salva relatorio do DataPrep:\n",
    "report.save(filename='data_prep_report_01')\n"
   ]
  },
  {
   "cell_type": "code",
   "execution_count": null,
   "id": "ccc28b46-6844-400c-9afd-7c825a3c25c1",
   "metadata": {},
   "outputs": [],
   "source": []
  },
  {
   "cell_type": "markdown",
   "id": "4b983ebf-d5f1-42e8-9744-1446c29c34cd",
   "metadata": {},
   "source": [
    "### Obtendo insights com Autoplotter"
   ]
  },
  {
   "cell_type": "code",
   "execution_count": 4,
   "id": "9a265eeb-12e4-4e9e-aaf5-8f16d9d88431",
   "metadata": {},
   "outputs": [],
   "source": [
    "from autoplotter import run_app\n",
    "import plotly.express as px"
   ]
  },
  {
   "cell_type": "code",
   "execution_count": 5,
   "id": "e9c6f927-75eb-42f5-ae1d-52e443f0c52c",
   "metadata": {
    "collapsed": true,
    "jupyter": {
     "outputs_hidden": true
    },
    "tags": []
   },
   "outputs": [
    {
     "ename": "AttributeError",
     "evalue": "('Read-only: can only be set in the Dash constructor or during init_app()', 'requests_pathname_prefix')",
     "output_type": "error",
     "traceback": [
      "\u001b[0;31m---------------------------------------------------------------------------\u001b[0m",
      "\u001b[0;31mAttributeError\u001b[0m                            Traceback (most recent call last)",
      "Input \u001b[0;32mIn [5]\u001b[0m, in \u001b[0;36m<module>\u001b[0;34m\u001b[0m\n\u001b[0;32m----> 1\u001b[0m \u001b[43mrun_app\u001b[49m\u001b[43m(\u001b[49m\u001b[43mreac\u001b[49m\u001b[43m)\u001b[49m\n",
      "File \u001b[0;32m~/anaconda3/envs/machinelearning/lib/python3.8/site-packages/autoplotter/app.py:415\u001b[0m, in \u001b[0;36mrun_app\u001b[0;34m(df, mode, host, port)\u001b[0m\n\u001b[1;32m    411\u001b[0m         \u001b[38;5;28;01mreturn\u001b[39;00m \u001b[38;5;129;01mnot\u001b[39;00m is_open\n\u001b[1;32m    412\u001b[0m     \u001b[38;5;28;01mreturn\u001b[39;00m is_open\n\u001b[0;32m--> 415\u001b[0m \u001b[43mapp\u001b[49m\u001b[38;5;241;43m.\u001b[39;49m\u001b[43mrun_server\u001b[49m\u001b[43m(\u001b[49m\u001b[43mmode\u001b[49m\u001b[38;5;241;43m=\u001b[39;49m\u001b[43mmode\u001b[49m\u001b[43m,\u001b[49m\u001b[43mport\u001b[49m\u001b[38;5;241;43m=\u001b[39;49m\u001b[43mport\u001b[49m\u001b[43m,\u001b[49m\u001b[43mdebug\u001b[49m\u001b[38;5;241;43m=\u001b[39;49m\u001b[38;5;28;43;01mTrue\u001b[39;49;00m\u001b[43m,\u001b[49m\u001b[43mhost\u001b[49m\u001b[38;5;241;43m=\u001b[39;49m\u001b[43mhost\u001b[49m\u001b[43m)\u001b[49m\n",
      "File \u001b[0;32m~/anaconda3/envs/machinelearning/lib/python3.8/site-packages/autoplotter/jupyter_dash/jupyter_app.py:210\u001b[0m, in \u001b[0;36mJupyterDash.run_server\u001b[0;34m(self, mode, width, height, inline_exceptions, **kwargs)\u001b[0m\n\u001b[1;32m    208\u001b[0m \u001b[38;5;28;01melse\u001b[39;00m:\n\u001b[1;32m    209\u001b[0m     requests_pathname_prefix \u001b[38;5;241m=\u001b[39m \u001b[38;5;124m'\u001b[39m\u001b[38;5;124m/\u001b[39m\u001b[38;5;124m'\u001b[39m\n\u001b[0;32m--> 210\u001b[0m \u001b[38;5;28;43mself\u001b[39;49m\u001b[38;5;241;43m.\u001b[39;49m\u001b[43mconfig\u001b[49m\u001b[38;5;241;43m.\u001b[39;49m\u001b[43mupdate\u001b[49m\u001b[43m(\u001b[49m\u001b[43m{\u001b[49m\u001b[38;5;124;43m'\u001b[39;49m\u001b[38;5;124;43mrequests_pathname_prefix\u001b[39;49m\u001b[38;5;124;43m'\u001b[39;49m\u001b[43m:\u001b[49m\u001b[43m \u001b[49m\u001b[43mrequests_pathname_prefix\u001b[49m\u001b[43m}\u001b[49m\u001b[43m)\u001b[49m\n\u001b[1;32m    212\u001b[0m \u001b[38;5;66;03m# Compute server_url url\u001b[39;00m\n\u001b[1;32m    213\u001b[0m \u001b[38;5;28;01mif\u001b[39;00m \u001b[38;5;28mself\u001b[39m\u001b[38;5;241m.\u001b[39mserver_url \u001b[38;5;129;01mis\u001b[39;00m \u001b[38;5;28;01mNone\u001b[39;00m:\n",
      "File \u001b[0;32m~/anaconda3/envs/machinelearning/lib/python3.8/site-packages/dash/_utils.py:114\u001b[0m, in \u001b[0;36mAttributeDict.update\u001b[0;34m(self, other)\u001b[0m\n\u001b[1;32m    111\u001b[0m \u001b[38;5;28;01mdef\u001b[39;00m \u001b[38;5;21mupdate\u001b[39m(\u001b[38;5;28mself\u001b[39m, other):\n\u001b[1;32m    112\u001b[0m     \u001b[38;5;66;03m# Overrides dict.update() to use __setitem__ above\u001b[39;00m\n\u001b[1;32m    113\u001b[0m     \u001b[38;5;28;01mfor\u001b[39;00m k, v \u001b[38;5;129;01min\u001b[39;00m other\u001b[38;5;241m.\u001b[39mitems():\n\u001b[0;32m--> 114\u001b[0m         \u001b[38;5;28mself\u001b[39m[k] \u001b[38;5;241m=\u001b[39m v\n",
      "File \u001b[0;32m~/anaconda3/envs/machinelearning/lib/python3.8/site-packages/dash/_utils.py:103\u001b[0m, in \u001b[0;36mAttributeDict.__setitem__\u001b[0;34m(self, key, val)\u001b[0m\n\u001b[1;32m    101\u001b[0m \u001b[38;5;28;01mdef\u001b[39;00m \u001b[38;5;21m__setitem__\u001b[39m(\u001b[38;5;28mself\u001b[39m, key, val):\n\u001b[1;32m    102\u001b[0m     \u001b[38;5;28;01mif\u001b[39;00m key \u001b[38;5;129;01min\u001b[39;00m \u001b[38;5;28mself\u001b[39m\u001b[38;5;241m.\u001b[39m\u001b[38;5;18m__dict__\u001b[39m\u001b[38;5;241m.\u001b[39mget(\u001b[38;5;124m\"\u001b[39m\u001b[38;5;124m_read_only\u001b[39m\u001b[38;5;124m\"\u001b[39m, {}):\n\u001b[0;32m--> 103\u001b[0m         \u001b[38;5;28;01mraise\u001b[39;00m \u001b[38;5;167;01mAttributeError\u001b[39;00m(\u001b[38;5;28mself\u001b[39m\u001b[38;5;241m.\u001b[39m_read_only[key], key)\n\u001b[1;32m    105\u001b[0m     final_msg \u001b[38;5;241m=\u001b[39m \u001b[38;5;28mself\u001b[39m\u001b[38;5;241m.\u001b[39m\u001b[38;5;18m__dict__\u001b[39m\u001b[38;5;241m.\u001b[39mget(\u001b[38;5;124m\"\u001b[39m\u001b[38;5;124m_final\u001b[39m\u001b[38;5;124m\"\u001b[39m)\n\u001b[1;32m    106\u001b[0m     \u001b[38;5;28;01mif\u001b[39;00m final_msg \u001b[38;5;129;01mand\u001b[39;00m key \u001b[38;5;129;01mnot\u001b[39;00m \u001b[38;5;129;01min\u001b[39;00m \u001b[38;5;28mself\u001b[39m:\n",
      "\u001b[0;31mAttributeError\u001b[0m: ('Read-only: can only be set in the Dash constructor or during init_app()', 'requests_pathname_prefix')"
     ]
    }
   ],
   "source": [
    "run_app(reac)"
   ]
  },
  {
   "cell_type": "code",
   "execution_count": null,
   "id": "8f797c1e-8349-4294-a1e7-bb1335b4f56c",
   "metadata": {},
   "outputs": [],
   "source": []
  },
  {
   "cell_type": "code",
   "execution_count": null,
   "id": "dd4120fc-cf3f-4f18-be4f-ed6c7e0f8230",
   "metadata": {},
   "outputs": [],
   "source": []
  }
 ],
 "metadata": {
  "kernelspec": {
   "display_name": "Python 3 (ipykernel)",
   "language": "python",
   "name": "python3"
  },
  "language_info": {
   "codemirror_mode": {
    "name": "ipython",
    "version": 3
   },
   "file_extension": ".py",
   "mimetype": "text/x-python",
   "name": "python",
   "nbconvert_exporter": "python",
   "pygments_lexer": "ipython3",
   "version": "3.7.12"
  }
 },
 "nbformat": 4,
 "nbformat_minor": 5
}

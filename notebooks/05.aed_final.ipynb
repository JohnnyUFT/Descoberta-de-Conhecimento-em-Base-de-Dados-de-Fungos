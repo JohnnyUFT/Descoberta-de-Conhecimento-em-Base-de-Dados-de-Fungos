{
 "cells": [
  {
   "cell_type": "code",
   "execution_count": 1,
   "id": "ff31e569-3d4c-40ae-a3c1-e3268b432fa6",
   "metadata": {},
   "outputs": [],
   "source": [
    "import numpy as np\n",
    "import matplotlib.pyplot as plt\n",
    "import pandas as pd\n",
    "\n",
    "%matplotlib inline\n",
    "\n",
    "import seaborn as sns"
   ]
  },
  {
   "cell_type": "code",
   "execution_count": 2,
   "id": "90bf52b2-59e9-4c7b-91bd-b5e4510d51b0",
   "metadata": {},
   "outputs": [],
   "source": [
    "# bibliotecas para Análise Exploratória de Dados\n",
    "import lux\n",
    "from pandas_profiling import ProfileReport\n"
   ]
  },
  {
   "cell_type": "code",
   "execution_count": 3,
   "id": "d583f83d-5306-47c7-a54d-a740810e329e",
   "metadata": {},
   "outputs": [],
   "source": [
    "# tabela de reacoes denormalizada:\n",
    "#reacoes = pd.read_csv('reacoes.csv', index_col='id')\n"
   ]
  },
  {
   "cell_type": "code",
   "execution_count": 4,
   "id": "ad596044-7ec9-4665-8e75-03ec8ca38c14",
   "metadata": {},
   "outputs": [],
   "source": [
    "#reacoes.head(5)"
   ]
  },
  {
   "cell_type": "code",
   "execution_count": 14,
   "id": "0d3cd387-722c-4a1b-85f3-4bac3efec755",
   "metadata": {},
   "outputs": [],
   "source": [
    "# tabela de isolados denormalizada:\n",
    "isolados = pd.read_csv('final - final.csv', index_col='id')"
   ]
  },
  {
   "cell_type": "code",
   "execution_count": 15,
   "id": "f2455d50-f73f-4449-830b-bab9fbfdbc11",
   "metadata": {
    "collapsed": true,
    "jupyter": {
     "outputs_hidden": true
    },
    "tags": []
   },
   "outputs": [
    {
     "name": "stderr",
     "output_type": "stream",
     "text": [
      "/home/john/anaconda3/envs/eda/lib/python3.7/site-packages/lux/executor/PandasExecutor.py:448: UserWarning:\n",
      "Lux detects that attributes ['data_coleta', 'ano'] may be temporal.\n",
      "To display visualizations for these attributes accurately, please convert temporal attributes to Datetime objects.\n",
      "For example, you can convert a Year attribute (e.g., 1998, 1971, 1982) using pd.to_datetime by specifying the `format` as '%Y'.\n",
      "\n",
      "Here is a starter template that you can use for converting the temporal fields:\n",
      "\tdf['data_coleta'] = pd.to_datetime(df['data_coleta'], format='<replace-with-datetime-format>')\n",
      "\tdf['ano'] = pd.to_datetime(df['ano'], format='<replace-with-datetime-format>')\n",
      "\n",
      "See more at: https://pandas.pydata.org/pandas-docs/stable/reference/api/pandas.to_datetime.html\n",
      "If ano is not a temporal attribute, please use override Lux's automatically detected type:\n",
      "\tdf.set_data_type({'ano':'quantitative'})\n"
     ]
    },
    {
     "data": {
      "application/vnd.jupyter.widget-view+json": {
       "model_id": "1cf90d79e9b74892ad23c5213cb1b282",
       "version_major": 2,
       "version_minor": 0
      },
      "text/plain": [
       "Button(description='Toggle Pandas/Lux', layout=Layout(top='5px', width='140px'), style=ButtonStyle())"
      ]
     },
     "metadata": {},
     "output_type": "display_data"
    },
    {
     "data": {
      "application/vnd.jupyter.widget-view+json": {
       "model_id": "b01984077ee8495ab8c1c92cc84fa728",
       "version_major": 2,
       "version_minor": 0
      },
      "text/plain": [
       "Output()"
      ]
     },
     "metadata": {},
     "output_type": "display_data"
    }
   ],
   "source": [
    "isolados.head(3)"
   ]
  },
  {
   "cell_type": "code",
   "execution_count": null,
   "id": "0aff3933-dd66-4b4c-b05b-6b8876d9c830",
   "metadata": {},
   "outputs": [],
   "source": []
  },
  {
   "cell_type": "markdown",
   "id": "efbf4860-28b6-4886-99ff-a483f945f6c4",
   "metadata": {},
   "source": [
    "### Análise Exploratória de Dados:\n",
    "1. Informações Gerais\n",
    "2. Tratamento de valores Nulos\n",
    "3. Transformações nos dados, etc...\n"
   ]
  },
  {
   "cell_type": "markdown",
   "id": "f214c729-b795-4427-b1b8-270d8b830686",
   "metadata": {},
   "source": [
    "Questions to answer:\n",
    "* How many features do you have?\n",
    "* How many observations do you have?\n",
    "* What is the data type of each feature?"
   ]
  },
  {
   "cell_type": "code",
   "execution_count": 16,
   "id": "bfd68a06-57a8-4e53-a671-908c4a4068aa",
   "metadata": {},
   "outputs": [
    {
     "data": {
      "text/plain": [
       "(768, 17)"
      ]
     },
     "execution_count": 16,
     "metadata": {},
     "output_type": "execute_result"
    }
   ],
   "source": [
    "isolados.shape"
   ]
  },
  {
   "cell_type": "code",
   "execution_count": 17,
   "id": "37f8f52b-3365-4f72-ab42-4d105ae52374",
   "metadata": {},
   "outputs": [
    {
     "name": "stdout",
     "output_type": "stream",
     "text": [
      "<class 'lux.core.frame.LuxDataFrame'>\n",
      "Int64Index: 768 entries, 644 to 81\n",
      "Data columns (total 17 columns):\n",
      " #   Column           Non-Null Count  Dtype  \n",
      "---  ------           --------------  -----  \n",
      " 0   ccr_codigo       768 non-null    object \n",
      " 1   coleta           768 non-null    object \n",
      " 2   amostra          768 non-null    object \n",
      " 3   latitude         768 non-null    int64  \n",
      " 4   longitude        768 non-null    int64  \n",
      " 5   cidade           768 non-null    object \n",
      " 6   localidade       768 non-null    object \n",
      " 7   data_coleta      768 non-null    object \n",
      " 8   ano              768 non-null    int64  \n",
      " 9   equipe           768 non-null    object \n",
      " 10  substrato        768 non-null    object \n",
      " 11  nome_cientifico  768 non-null    object \n",
      " 12  uf               768 non-null    object \n",
      " 13  fermentacao      199 non-null    float64\n",
      " 14  temperatura      234 non-null    float64\n",
      " 15  outros           532 non-null    float64\n",
      " 16  infogenetica     195 non-null    float64\n",
      "dtypes: float64(4), int64(3), object(10)\n",
      "memory usage: 108.0+ KB\n"
     ]
    }
   ],
   "source": [
    "isolados.info()"
   ]
  },
  {
   "cell_type": "code",
   "execution_count": 18,
   "id": "ab1d0426-9f60-4d56-a33b-68a9b410cd85",
   "metadata": {},
   "outputs": [
    {
     "name": "stderr",
     "output_type": "stream",
     "text": [
      "/home/john/anaconda3/envs/eda/lib/python3.7/site-packages/lux/executor/PandasExecutor.py:448: UserWarning:\n",
      "Lux detects that the attribute 'data_coleta' may be temporal.\n",
      "To display visualizations for these attributes accurately, please convert temporal attributes to Datetime objects.\n",
      "For example, you can convert a Year attribute (e.g., 1998, 1971, 1982) using pd.to_datetime by specifying the `format` as '%Y'.\n",
      "\n",
      "Here is a starter template that you can use for converting the temporal fields:\n",
      "\tdf['data_coleta'] = pd.to_datetime(df['data_coleta'], format='<replace-with-datetime-format>')\n",
      "\n",
      "See more at: https://pandas.pydata.org/pandas-docs/stable/reference/api/pandas.to_datetime.html\n",
      "If data_coleta is not a temporal attribute, please use override Lux's automatically detected type:\n",
      "\tdf.set_data_type({'data_coleta':'quantitative'})\n"
     ]
    },
    {
     "data": {
      "application/vnd.jupyter.widget-view+json": {
       "model_id": "addcc5dcb83646f2b0ea0f9e215a46ad",
       "version_major": 2,
       "version_minor": 0
      },
      "text/plain": [
       "Button(description='Toggle Pandas/Lux', layout=Layout(top='5px', width='140px'), style=ButtonStyle())"
      ]
     },
     "metadata": {},
     "output_type": "display_data"
    },
    {
     "data": {
      "application/vnd.jupyter.widget-view+json": {
       "model_id": "d7e924af18344222b8cd30c3e291ef1a",
       "version_major": 2,
       "version_minor": 0
      },
      "text/plain": [
       "Output()"
      ]
     },
     "metadata": {},
     "output_type": "display_data"
    }
   ],
   "source": [
    "# descricao dos dados sob analise:\n",
    "isolados.describe(include='object')\n"
   ]
  },
  {
   "cell_type": "markdown",
   "id": "c50c87d3-37ac-45fa-a9ae-e5583b0fa5c1",
   "metadata": {},
   "source": [
    "1. Tratamento de *valores nulos*;\n",
    "2. Remoção de colunas desnecessárias;\n",
    "3. "
   ]
  },
  {
   "cell_type": "code",
   "execution_count": null,
   "id": "bc28640d-7e7c-40eb-a51a-33a67973b35f",
   "metadata": {},
   "outputs": [],
   "source": []
  },
  {
   "cell_type": "code",
   "execution_count": 19,
   "id": "3718aba4-bbd6-4722-a2b3-118ccf574721",
   "metadata": {},
   "outputs": [],
   "source": [
    "sns.set_style(\"darkgrid\", {\"grid.color\": \".6\", \"grid.linestyle\": \":\"})\n"
   ]
  },
  {
   "cell_type": "code",
   "execution_count": 20,
   "id": "093586f4-596b-4869-a36a-821f4a198fe9",
   "metadata": {},
   "outputs": [
    {
     "data": {
      "text/plain": [
       "<seaborn.axisgrid.FacetGrid at 0x7f2520c6cb90>"
      ]
     },
     "execution_count": 20,
     "metadata": {},
     "output_type": "execute_result"
    }
   ],
   "source": [
    "sns.catplot(x='uf',col='substrato',kind='count',data=isolados, palette='winter')\n"
   ]
  },
  {
   "cell_type": "code",
   "execution_count": 21,
   "id": "21fe1907-d506-44eb-87c3-215db0e1f39e",
   "metadata": {},
   "outputs": [
    {
     "name": "stderr",
     "output_type": "stream",
     "text": [
      "/home/john/anaconda3/envs/eda/lib/python3.7/site-packages/seaborn/_decorators.py:43: FutureWarning:Pass the following variable as a keyword arg: x. From version 0.12, the only valid positional argument will be `data`, and passing other arguments without an explicit keyword will result in an error or misinterpretation.\n"
     ]
    }
   ],
   "source": [
    "sns.countplot(isolados['cidade'], palette='mako');# palette='viridis' ou 'rocket' tambem eh uma opcao interessante\n"
   ]
  },
  {
   "cell_type": "code",
   "execution_count": null,
   "id": "27d0b3d1-d7dc-4063-b1dc-3708e1c8979e",
   "metadata": {},
   "outputs": [],
   "source": [
    "numerical = [\n",
    "  'id',\n",
    "]\n",
    "categorical = [\n",
    "  'ccr_codigo', 'amostra', 'coleta', 'latitude', 'longitude', 'cidade', 'localidade', 'data_coleta',\n",
    "    'equipe', 'substrato', 'nome_cientifico', 'uf', ''\n",
    "]\n",
    "\n",
    "housing = housing[numerical + categorical]\n",
    "housing.shape"
   ]
  },
  {
   "cell_type": "code",
   "execution_count": null,
   "id": "a83aa9ea-1a28-4358-9ddd-1b5225ba0d94",
   "metadata": {},
   "outputs": [],
   "source": [
    "fig, ax = plt.subplots(2, 4, figsize=(20, 10))\n",
    "for variable, subplot in zip(categorical, ax.flatten()):\n",
    "    sns.countplot(housing[variable], ax=subplot)\n",
    "    for label in subplot.get_xticklabels():\n",
    "        label.set_rotation(90)\n"
   ]
  },
  {
   "cell_type": "code",
   "execution_count": null,
   "id": "998bb0ef-36f0-4319-acb3-a43bb641433d",
   "metadata": {},
   "outputs": [],
   "source": []
  },
  {
   "cell_type": "markdown",
   "id": "b686fddf-1e81-4efd-9e13-1f998ec3802e",
   "metadata": {},
   "source": [
    "Testes com Pandas Profiling:"
   ]
  },
  {
   "cell_type": "code",
   "execution_count": null,
   "id": "1f79296f-89d4-47f4-ae0d-5ce24a465eb3",
   "metadata": {},
   "outputs": [],
   "source": [
    "pr = ProfileReport(isolados, explorative=True)"
   ]
  },
  {
   "cell_type": "code",
   "execution_count": null,
   "id": "92834943-419e-436c-8e59-7068fbd465c2",
   "metadata": {
    "tags": []
   },
   "outputs": [],
   "source": [
    "#pr.to_widgets()# get error: n_rows and n_columns must be positive integer\n",
    "pr.to_notebook_iframe()"
   ]
  },
  {
   "cell_type": "raw",
   "id": "784d3d7c-339f-4541-9def-28612038217e",
   "metadata": {},
   "source": []
  },
  {
   "cell_type": "code",
   "execution_count": null,
   "id": "d1310d79-a89e-4163-ba9c-7ff3d92322ad",
   "metadata": {},
   "outputs": [],
   "source": []
  },
  {
   "cell_type": "code",
   "execution_count": null,
   "id": "1207442e-ebf8-4716-828d-fb9afe4ab08e",
   "metadata": {},
   "outputs": [],
   "source": []
  },
  {
   "cell_type": "code",
   "execution_count": null,
   "id": "9258d4aa-ce4f-4de8-9338-fd847aa78b89",
   "metadata": {},
   "outputs": [],
   "source": []
  }
 ],
 "metadata": {
  "kernelspec": {
   "display_name": "Python 3 (ipykernel)",
   "language": "python",
   "name": "python3"
  },
  "language_info": {
   "codemirror_mode": {
    "name": "ipython",
    "version": 3
   },
   "file_extension": ".py",
   "mimetype": "text/x-python",
   "name": "python",
   "nbconvert_exporter": "python",
   "pygments_lexer": "ipython3",
   "version": "3.7.12"
  }
 },
 "nbformat": 4,
 "nbformat_minor": 5
}

{
 "cells": [
  {
   "cell_type": "markdown",
   "id": "bbab8778-dfcb-4c31-ae43-07eaea2e4d7c",
   "metadata": {},
   "source": [
    "# Análise Dados - Projeto Palmeiras\n",
    "## TCC 2 - Johnny Gomes Pereira"
   ]
  },
  {
   "cell_type": "code",
   "execution_count": 1,
   "id": "0f0bf944-dc49-454f-808d-d8a83bc48c20",
   "metadata": {},
   "outputs": [],
   "source": [
    "import pandas as pd\n",
    "# import numpy as np\n",
    "import matplotlib.pyplot as plt\n",
    "%matplotlib inline\n",
    "import seaborn as sns\n",
    "\n",
    "# from pandas_profiling import ProfileReport\n",
    "from pandas.plotting import scatter_matrix\n",
    "\n",
    "# import sweetviz as sv"
   ]
  },
  {
   "cell_type": "markdown",
   "id": "cc47ccc0-1754-4a5a-aee7-d2b2901a52d1",
   "metadata": {},
   "source": [
    "### Carregamento *dataframe* e leitura de metadados "
   ]
  },
  {
   "cell_type": "code",
   "execution_count": null,
   "id": "5d7595be-2f53-450b-ba56-d53a7dd06fe4",
   "metadata": {},
   "outputs": [],
   "source": [
    "data = pd.read_csv('07.final.csv')\n",
    "data.sample(5)"
   ]
  },
  {
   "cell_type": "code",
   "execution_count": null,
   "id": "5c8fb860-6475-4fe7-967b-0297deb2c68e",
   "metadata": {},
   "outputs": [],
   "source": [
    "data.info()"
   ]
  },
  {
   "cell_type": "code",
   "execution_count": null,
   "id": "8b9103f9-e54e-46d2-b0ee-b15e6aa87a1e",
   "metadata": {},
   "outputs": [],
   "source": [
    "data.describe()"
   ]
  },
  {
   "cell_type": "code",
   "execution_count": null,
   "id": "165d8d67-f310-478b-8ae8-5de300feb2f0",
   "metadata": {},
   "outputs": [],
   "source": [
    "data.shape"
   ]
  },
  {
   "cell_type": "code",
   "execution_count": null,
   "id": "fa3382aa-1468-4e40-8597-d8a8782f0c33",
   "metadata": {},
   "outputs": [],
   "source": [
    "# passar todas [pelo menos algumas] features para tipo 'CATEGORICO':\n",
    "data.isolado_id = pd.Categorical(data.isolado_id)# exemplo 1\n",
    "data.latitude   = pd.Categorical(data.latitude)#   exemplo 2\n",
    "data.longitude  = pd.Categorical(data.longitude)#  exemplo 3"
   ]
  },
  {
   "cell_type": "code",
   "execution_count": null,
   "id": "896266b5-a702-4d00-b6e2-e00c575caa7a",
   "metadata": {},
   "outputs": [],
   "source": [
    "type(data.isolado_id)"
   ]
  },
  {
   "cell_type": "code",
   "execution_count": null,
   "id": "7835df02-87f9-4376-bc0d-27a161b6eaa2",
   "metadata": {},
   "outputs": [],
   "source": [
    "data[\"ano\"].value_counts()"
   ]
  },
  {
   "cell_type": "code",
   "execution_count": null,
   "id": "87858e34-e987-4b39-858b-9b68a5a893d1",
   "metadata": {},
   "outputs": [],
   "source": [
    "data[\"substrato\"].value_counts()"
   ]
  },
  {
   "cell_type": "code",
   "execution_count": null,
   "id": "16f54a61-4637-4801-8562-118be48d2727",
   "metadata": {},
   "outputs": [],
   "source": [
    "data[\"uf\"].value_counts()"
   ]
  },
  {
   "cell_type": "code",
   "execution_count": null,
   "id": "7f9c7a68-8762-430f-90ab-e610d4dc4b62",
   "metadata": {},
   "outputs": [],
   "source": [
    "data[\"equipe\"].value_counts()"
   ]
  },
  {
   "cell_type": "code",
   "execution_count": null,
   "id": "dc64d417-8091-44c6-a2fc-b29cd9cae281",
   "metadata": {},
   "outputs": [],
   "source": []
  },
  {
   "cell_type": "code",
   "execution_count": null,
   "id": "dbb0d714-fcdd-447d-8fd8-52ae115e3680",
   "metadata": {},
   "outputs": [],
   "source": []
  },
  {
   "cell_type": "markdown",
   "id": "ebf51fef-afb4-4169-bfbe-c6e510e57317",
   "metadata": {},
   "source": [
    "## Relatórios autogerados - Pandas Profilling:"
   ]
  },
  {
   "cell_type": "code",
   "execution_count": null,
   "id": "b0e71fa9-fe68-45dd-834e-7293568041da",
   "metadata": {},
   "outputs": [],
   "source": [
    "# Profilling sem quaisquer tratamentos no dataset:\n",
    "report = ProfileReport(data, title='Profiling Report', correlations={\"cramers\": {\"calculate\": False}}, explorative=True)\n",
    "report.to_widgets()"
   ]
  },
  {
   "cell_type": "code",
   "execution_count": null,
   "id": "69bc9747-ec5e-43e9-82c4-d7ad42b13591",
   "metadata": {},
   "outputs": [],
   "source": [
    "report.to_notebook_iframe()\n",
    "report.to_file(\"isolados_report.html\")"
   ]
  },
  {
   "cell_type": "code",
   "execution_count": null,
   "id": "0a7d02db-1ef6-4822-a24e-30b83baae4dd",
   "metadata": {},
   "outputs": [],
   "source": []
  },
  {
   "cell_type": "markdown",
   "id": "c9676d30-a463-4293-a274-a614eb09b7d2",
   "metadata": {},
   "source": [
    "### Visualisações Gerais - SweetViz:"
   ]
  },
  {
   "cell_type": "code",
   "execution_count": null,
   "id": "4279ad8b-4761-4cd1-8b13-4b9e9c3dfe38",
   "metadata": {},
   "outputs": [],
   "source": [
    "#analyzing the dataset\n",
    "advert_report = sv.analyze(data)"
   ]
  },
  {
   "cell_type": "code",
   "execution_count": null,
   "id": "58fb3510-a958-4ce7-8f8a-e32b439e7fe5",
   "metadata": {},
   "outputs": [],
   "source": [
    "#display the report\n",
    "advert_report.show_html('SweetViz-Report.html')"
   ]
  },
  {
   "cell_type": "code",
   "execution_count": null,
   "id": "0ee2582a-35d5-4171-84a7-6a0efc3c96b1",
   "metadata": {},
   "outputs": [],
   "source": []
  },
  {
   "cell_type": "markdown",
   "id": "d9aba44d-9e4f-49d2-9d28-3df8be4d6af9",
   "metadata": {},
   "source": [
    "### Seaborn - Gráficos"
   ]
  },
  {
   "cell_type": "code",
   "execution_count": null,
   "id": "8954acd7-5b9e-4dd7-9b47-a066bfc1ba9f",
   "metadata": {},
   "outputs": [],
   "source": []
  },
  {
   "cell_type": "code",
   "execution_count": null,
   "id": "91cd8835-cbc4-4fd2-9fef-0a1e22bf5b4a",
   "metadata": {},
   "outputs": [],
   "source": []
  },
  {
   "cell_type": "code",
   "execution_count": null,
   "id": "8a09b0f3-62cf-4223-82f1-0d8ec0e34dcb",
   "metadata": {},
   "outputs": [],
   "source": []
  },
  {
   "cell_type": "markdown",
   "id": "652bd206-d3a4-4930-bee4-6b91af4b57fe",
   "metadata": {},
   "source": [
    "## Feature Selection and Feature Engeneering - Reações"
   ]
  },
  {
   "cell_type": "code",
   "execution_count": null,
   "id": "4519220d-bdd8-42df-89da-90d748cc65c0",
   "metadata": {},
   "outputs": [],
   "source": []
  },
  {
   "cell_type": "code",
   "execution_count": 2,
   "id": "c8a1ab7c-4ea9-4268-9f87-17e2f7cfe00b",
   "metadata": {},
   "outputs": [
    {
     "data": {
      "text/html": [
       "<div>\n",
       "<style scoped>\n",
       "    .dataframe tbody tr th:only-of-type {\n",
       "        vertical-align: middle;\n",
       "    }\n",
       "\n",
       "    .dataframe tbody tr th {\n",
       "        vertical-align: top;\n",
       "    }\n",
       "\n",
       "    .dataframe thead th {\n",
       "        text-align: right;\n",
       "    }\n",
       "</style>\n",
       "<table border=\"1\" class=\"dataframe\">\n",
       "  <thead>\n",
       "    <tr style=\"text-align: right;\">\n",
       "      <th></th>\n",
       "      <th>isolado_id</th>\n",
       "      <th>1</th>\n",
       "      <th>2</th>\n",
       "      <th>3</th>\n",
       "      <th>4</th>\n",
       "      <th>5</th>\n",
       "      <th>6</th>\n",
       "      <th>7</th>\n",
       "      <th>8</th>\n",
       "      <th>9</th>\n",
       "      <th>...</th>\n",
       "      <th>52</th>\n",
       "      <th>53</th>\n",
       "      <th>64</th>\n",
       "      <th>65</th>\n",
       "      <th>66</th>\n",
       "      <th>67</th>\n",
       "      <th>68</th>\n",
       "      <th>69</th>\n",
       "      <th>78</th>\n",
       "      <th>79</th>\n",
       "    </tr>\n",
       "  </thead>\n",
       "  <tbody>\n",
       "    <tr>\n",
       "      <th>75</th>\n",
       "      <td>169</td>\n",
       "      <td>NaN</td>\n",
       "      <td>-</td>\n",
       "      <td>-</td>\n",
       "      <td>-</td>\n",
       "      <td>-</td>\n",
       "      <td>+</td>\n",
       "      <td>-</td>\n",
       "      <td>-</td>\n",
       "      <td>-</td>\n",
       "      <td>...</td>\n",
       "      <td>+</td>\n",
       "      <td>+</td>\n",
       "      <td>-</td>\n",
       "      <td>-</td>\n",
       "      <td>-</td>\n",
       "      <td>+</td>\n",
       "      <td>+</td>\n",
       "      <td>+</td>\n",
       "      <td>-</td>\n",
       "      <td>-</td>\n",
       "    </tr>\n",
       "    <tr>\n",
       "      <th>275</th>\n",
       "      <td>356</td>\n",
       "      <td>NaN</td>\n",
       "      <td>+</td>\n",
       "      <td>+</td>\n",
       "      <td>+</td>\n",
       "      <td>+</td>\n",
       "      <td>+</td>\n",
       "      <td>+</td>\n",
       "      <td>-</td>\n",
       "      <td>w</td>\n",
       "      <td>...</td>\n",
       "      <td>NaN</td>\n",
       "      <td>NaN</td>\n",
       "      <td>NaN</td>\n",
       "      <td>NaN</td>\n",
       "      <td>NaN</td>\n",
       "      <td>NaN</td>\n",
       "      <td>NaN</td>\n",
       "      <td>NaN</td>\n",
       "      <td>NaN</td>\n",
       "      <td>NaN</td>\n",
       "    </tr>\n",
       "    <tr>\n",
       "      <th>232</th>\n",
       "      <td>315</td>\n",
       "      <td>NaN</td>\n",
       "      <td>-</td>\n",
       "      <td>-</td>\n",
       "      <td>-</td>\n",
       "      <td>NaN</td>\n",
       "      <td>-</td>\n",
       "      <td>-</td>\n",
       "      <td>-</td>\n",
       "      <td>-</td>\n",
       "      <td>...</td>\n",
       "      <td>+</td>\n",
       "      <td>+</td>\n",
       "      <td>NaN</td>\n",
       "      <td>+</td>\n",
       "      <td>+</td>\n",
       "      <td>NaN</td>\n",
       "      <td>NaN</td>\n",
       "      <td>NaN</td>\n",
       "      <td>NaN</td>\n",
       "      <td>NaN</td>\n",
       "    </tr>\n",
       "    <tr>\n",
       "      <th>191</th>\n",
       "      <td>276</td>\n",
       "      <td>NaN</td>\n",
       "      <td>+</td>\n",
       "      <td>-</td>\n",
       "      <td>+</td>\n",
       "      <td>+</td>\n",
       "      <td>+</td>\n",
       "      <td>-</td>\n",
       "      <td>-</td>\n",
       "      <td>-</td>\n",
       "      <td>...</td>\n",
       "      <td>+</td>\n",
       "      <td>-</td>\n",
       "      <td>NaN</td>\n",
       "      <td>-</td>\n",
       "      <td>-</td>\n",
       "      <td>NaN</td>\n",
       "      <td>NaN</td>\n",
       "      <td>NaN</td>\n",
       "      <td>NaN</td>\n",
       "      <td>NaN</td>\n",
       "    </tr>\n",
       "    <tr>\n",
       "      <th>267</th>\n",
       "      <td>348</td>\n",
       "      <td>NaN</td>\n",
       "      <td>+</td>\n",
       "      <td>-</td>\n",
       "      <td>+</td>\n",
       "      <td>NaN</td>\n",
       "      <td>+</td>\n",
       "      <td>+</td>\n",
       "      <td>-</td>\n",
       "      <td>-</td>\n",
       "      <td>...</td>\n",
       "      <td>+</td>\n",
       "      <td>+</td>\n",
       "      <td>NaN</td>\n",
       "      <td>-</td>\n",
       "      <td>-</td>\n",
       "      <td>NaN</td>\n",
       "      <td>NaN</td>\n",
       "      <td>NaN</td>\n",
       "      <td>NaN</td>\n",
       "      <td>NaN</td>\n",
       "    </tr>\n",
       "  </tbody>\n",
       "</table>\n",
       "<p>5 rows × 58 columns</p>\n",
       "</div>"
      ],
      "text/plain": [
       "     isolado_id    1  2  3  4    5  6  7  8  9  ...   52   53   64   65   66  \\\n",
       "75          169  NaN  -  -  -    -  +  -  -  -  ...    +    +    -    -    -   \n",
       "275         356  NaN  +  +  +    +  +  +  -  w  ...  NaN  NaN  NaN  NaN  NaN   \n",
       "232         315  NaN  -  -  -  NaN  -  -  -  -  ...    +    +  NaN    +    +   \n",
       "191         276  NaN  +  -  +    +  +  -  -  -  ...    +    -  NaN    -    -   \n",
       "267         348  NaN  +  -  +  NaN  +  +  -  -  ...    +    +  NaN    -    -   \n",
       "\n",
       "      67   68   69   78   79  \n",
       "75     +    +    +    -    -  \n",
       "275  NaN  NaN  NaN  NaN  NaN  \n",
       "232  NaN  NaN  NaN  NaN  NaN  \n",
       "191  NaN  NaN  NaN  NaN  NaN  \n",
       "267  NaN  NaN  NaN  NaN  NaN  \n",
       "\n",
       "[5 rows x 58 columns]"
      ]
     },
     "execution_count": 2,
     "metadata": {},
     "output_type": "execute_result"
    }
   ],
   "source": [
    "reacoes = pd.read_csv('04.reacoes-pivot.csv')\n",
    "reacoes.sample(5)"
   ]
  },
  {
   "cell_type": "markdown",
   "id": "f2bb7c3a-4faf-45d9-a9f1-660a0f04d06e",
   "metadata": {},
   "source": [
    "### Feature Engeneering:\n",
    "   * Feature Selection\n",
    "   * Encoding Categorical Features\n",
    "   * Dimendionatity Reduction - PCA\n",
    "   * Correlation ???"
   ]
  },
  {
   "cell_type": "markdown",
   "id": "c9b0771e-4068-4577-8eec-2a4bcd4be8de",
   "metadata": {},
   "source": [
    "Quanto a Feature Selection por ora temos selecionadas as características referentes as reações apenas."
   ]
  },
  {
   "cell_type": "code",
   "execution_count": null,
   "id": "2b27bad6-7806-4175-93ed-82d0c83494c6",
   "metadata": {},
   "outputs": [],
   "source": [
    "# importante ver o tipo de cada atributo:\n",
    "reacoes.info()"
   ]
  },
  {
   "cell_type": "code",
   "execution_count": null,
   "id": "4c6d3cf8-da4a-4491-b0af-6691504c6bb3",
   "metadata": {},
   "outputs": [],
   "source": [
    "# pd.get_dummies fará o encoding apenas das colunas do tipo Object ou Categorical\n",
    "# por isso o isolado_id (tipo int) ficou intacto aqui:\n",
    "one_hot = pd.get_dummies(reacoes, drop_first=True)"
   ]
  },
  {
   "cell_type": "code",
   "execution_count": null,
   "id": "40180871-bf9a-4e33-87a8-7c2d06496bf7",
   "metadata": {},
   "outputs": [],
   "source": [
    "one_hot.sample(5)"
   ]
  },
  {
   "cell_type": "code",
   "execution_count": null,
   "id": "9127edf9-48f9-4fdf-be28-a4ee86a7801a",
   "metadata": {},
   "outputs": [],
   "source": [
    "one_hot.info()"
   ]
  },
  {
   "cell_type": "code",
   "execution_count": 12,
   "id": "22c29689-f8fa-4b36-89bf-2b79210a0860",
   "metadata": {},
   "outputs": [],
   "source": [
    "dummie = pd.get_dummies(reacoes, drop_first=True)"
   ]
  },
  {
   "cell_type": "code",
   "execution_count": 21,
   "id": "8add2275-22ea-484f-bd6a-3f5d6769be7f",
   "metadata": {},
   "outputs": [
    {
     "data": {
      "text/html": [
       "<div>\n",
       "<style scoped>\n",
       "    .dataframe tbody tr th:only-of-type {\n",
       "        vertical-align: middle;\n",
       "    }\n",
       "\n",
       "    .dataframe tbody tr th {\n",
       "        vertical-align: top;\n",
       "    }\n",
       "\n",
       "    .dataframe thead th {\n",
       "        text-align: right;\n",
       "    }\n",
       "</style>\n",
       "<table border=\"1\" class=\"dataframe\">\n",
       "  <thead>\n",
       "    <tr style=\"text-align: right;\">\n",
       "      <th></th>\n",
       "      <th>isolado_id</th>\n",
       "      <th>1_-</th>\n",
       "      <th>1_s</th>\n",
       "      <th>1_w</th>\n",
       "      <th>2_+w</th>\n",
       "      <th>2_-</th>\n",
       "      <th>2_-+</th>\n",
       "      <th>2_-c</th>\n",
       "      <th>2_-w</th>\n",
       "      <th>2_w</th>\n",
       "      <th>...</th>\n",
       "      <th>64_-</th>\n",
       "      <th>65_-</th>\n",
       "      <th>66_-</th>\n",
       "      <th>67_-</th>\n",
       "      <th>68_-</th>\n",
       "      <th>68_w</th>\n",
       "      <th>69_-</th>\n",
       "      <th>69_w</th>\n",
       "      <th>78_-</th>\n",
       "      <th>79_-</th>\n",
       "    </tr>\n",
       "  </thead>\n",
       "  <tbody>\n",
       "    <tr>\n",
       "      <th>0</th>\n",
       "      <td>10</td>\n",
       "      <td>0</td>\n",
       "      <td>0</td>\n",
       "      <td>0</td>\n",
       "      <td>0</td>\n",
       "      <td>0</td>\n",
       "      <td>0</td>\n",
       "      <td>0</td>\n",
       "      <td>0</td>\n",
       "      <td>0</td>\n",
       "      <td>...</td>\n",
       "      <td>0</td>\n",
       "      <td>0</td>\n",
       "      <td>0</td>\n",
       "      <td>0</td>\n",
       "      <td>0</td>\n",
       "      <td>0</td>\n",
       "      <td>0</td>\n",
       "      <td>0</td>\n",
       "      <td>0</td>\n",
       "      <td>0</td>\n",
       "    </tr>\n",
       "    <tr>\n",
       "      <th>1</th>\n",
       "      <td>100</td>\n",
       "      <td>0</td>\n",
       "      <td>0</td>\n",
       "      <td>0</td>\n",
       "      <td>0</td>\n",
       "      <td>0</td>\n",
       "      <td>0</td>\n",
       "      <td>0</td>\n",
       "      <td>0</td>\n",
       "      <td>0</td>\n",
       "      <td>...</td>\n",
       "      <td>1</td>\n",
       "      <td>1</td>\n",
       "      <td>1</td>\n",
       "      <td>1</td>\n",
       "      <td>1</td>\n",
       "      <td>0</td>\n",
       "      <td>0</td>\n",
       "      <td>0</td>\n",
       "      <td>0</td>\n",
       "      <td>0</td>\n",
       "    </tr>\n",
       "    <tr>\n",
       "      <th>2</th>\n",
       "      <td>101</td>\n",
       "      <td>0</td>\n",
       "      <td>0</td>\n",
       "      <td>0</td>\n",
       "      <td>0</td>\n",
       "      <td>1</td>\n",
       "      <td>0</td>\n",
       "      <td>0</td>\n",
       "      <td>0</td>\n",
       "      <td>0</td>\n",
       "      <td>...</td>\n",
       "      <td>1</td>\n",
       "      <td>1</td>\n",
       "      <td>1</td>\n",
       "      <td>1</td>\n",
       "      <td>1</td>\n",
       "      <td>0</td>\n",
       "      <td>0</td>\n",
       "      <td>0</td>\n",
       "      <td>0</td>\n",
       "      <td>0</td>\n",
       "    </tr>\n",
       "    <tr>\n",
       "      <th>3</th>\n",
       "      <td>102</td>\n",
       "      <td>0</td>\n",
       "      <td>0</td>\n",
       "      <td>0</td>\n",
       "      <td>0</td>\n",
       "      <td>0</td>\n",
       "      <td>0</td>\n",
       "      <td>0</td>\n",
       "      <td>0</td>\n",
       "      <td>0</td>\n",
       "      <td>...</td>\n",
       "      <td>1</td>\n",
       "      <td>1</td>\n",
       "      <td>1</td>\n",
       "      <td>1</td>\n",
       "      <td>0</td>\n",
       "      <td>0</td>\n",
       "      <td>0</td>\n",
       "      <td>0</td>\n",
       "      <td>0</td>\n",
       "      <td>1</td>\n",
       "    </tr>\n",
       "    <tr>\n",
       "      <th>4</th>\n",
       "      <td>103</td>\n",
       "      <td>0</td>\n",
       "      <td>0</td>\n",
       "      <td>0</td>\n",
       "      <td>0</td>\n",
       "      <td>0</td>\n",
       "      <td>0</td>\n",
       "      <td>0</td>\n",
       "      <td>0</td>\n",
       "      <td>0</td>\n",
       "      <td>...</td>\n",
       "      <td>1</td>\n",
       "      <td>0</td>\n",
       "      <td>0</td>\n",
       "      <td>0</td>\n",
       "      <td>0</td>\n",
       "      <td>0</td>\n",
       "      <td>0</td>\n",
       "      <td>0</td>\n",
       "      <td>0</td>\n",
       "      <td>1</td>\n",
       "    </tr>\n",
       "    <tr>\n",
       "      <th>...</th>\n",
       "      <td>...</td>\n",
       "      <td>...</td>\n",
       "      <td>...</td>\n",
       "      <td>...</td>\n",
       "      <td>...</td>\n",
       "      <td>...</td>\n",
       "      <td>...</td>\n",
       "      <td>...</td>\n",
       "      <td>...</td>\n",
       "      <td>...</td>\n",
       "      <td>...</td>\n",
       "      <td>...</td>\n",
       "      <td>...</td>\n",
       "      <td>...</td>\n",
       "      <td>...</td>\n",
       "      <td>...</td>\n",
       "      <td>...</td>\n",
       "      <td>...</td>\n",
       "      <td>...</td>\n",
       "      <td>...</td>\n",
       "      <td>...</td>\n",
       "    </tr>\n",
       "    <tr>\n",
       "      <th>596</th>\n",
       "      <td>95</td>\n",
       "      <td>0</td>\n",
       "      <td>0</td>\n",
       "      <td>0</td>\n",
       "      <td>0</td>\n",
       "      <td>1</td>\n",
       "      <td>0</td>\n",
       "      <td>0</td>\n",
       "      <td>0</td>\n",
       "      <td>0</td>\n",
       "      <td>...</td>\n",
       "      <td>1</td>\n",
       "      <td>1</td>\n",
       "      <td>1</td>\n",
       "      <td>0</td>\n",
       "      <td>1</td>\n",
       "      <td>0</td>\n",
       "      <td>0</td>\n",
       "      <td>0</td>\n",
       "      <td>1</td>\n",
       "      <td>0</td>\n",
       "    </tr>\n",
       "    <tr>\n",
       "      <th>597</th>\n",
       "      <td>96</td>\n",
       "      <td>0</td>\n",
       "      <td>0</td>\n",
       "      <td>0</td>\n",
       "      <td>0</td>\n",
       "      <td>1</td>\n",
       "      <td>0</td>\n",
       "      <td>0</td>\n",
       "      <td>0</td>\n",
       "      <td>0</td>\n",
       "      <td>...</td>\n",
       "      <td>1</td>\n",
       "      <td>1</td>\n",
       "      <td>1</td>\n",
       "      <td>1</td>\n",
       "      <td>1</td>\n",
       "      <td>0</td>\n",
       "      <td>0</td>\n",
       "      <td>0</td>\n",
       "      <td>1</td>\n",
       "      <td>1</td>\n",
       "    </tr>\n",
       "    <tr>\n",
       "      <th>598</th>\n",
       "      <td>97</td>\n",
       "      <td>0</td>\n",
       "      <td>0</td>\n",
       "      <td>0</td>\n",
       "      <td>0</td>\n",
       "      <td>0</td>\n",
       "      <td>0</td>\n",
       "      <td>0</td>\n",
       "      <td>0</td>\n",
       "      <td>0</td>\n",
       "      <td>...</td>\n",
       "      <td>0</td>\n",
       "      <td>0</td>\n",
       "      <td>0</td>\n",
       "      <td>0</td>\n",
       "      <td>0</td>\n",
       "      <td>0</td>\n",
       "      <td>0</td>\n",
       "      <td>0</td>\n",
       "      <td>0</td>\n",
       "      <td>0</td>\n",
       "    </tr>\n",
       "    <tr>\n",
       "      <th>599</th>\n",
       "      <td>98</td>\n",
       "      <td>0</td>\n",
       "      <td>0</td>\n",
       "      <td>0</td>\n",
       "      <td>0</td>\n",
       "      <td>1</td>\n",
       "      <td>0</td>\n",
       "      <td>0</td>\n",
       "      <td>0</td>\n",
       "      <td>0</td>\n",
       "      <td>...</td>\n",
       "      <td>1</td>\n",
       "      <td>1</td>\n",
       "      <td>1</td>\n",
       "      <td>1</td>\n",
       "      <td>1</td>\n",
       "      <td>0</td>\n",
       "      <td>0</td>\n",
       "      <td>0</td>\n",
       "      <td>1</td>\n",
       "      <td>0</td>\n",
       "    </tr>\n",
       "    <tr>\n",
       "      <th>600</th>\n",
       "      <td>99</td>\n",
       "      <td>0</td>\n",
       "      <td>0</td>\n",
       "      <td>0</td>\n",
       "      <td>0</td>\n",
       "      <td>1</td>\n",
       "      <td>0</td>\n",
       "      <td>0</td>\n",
       "      <td>0</td>\n",
       "      <td>0</td>\n",
       "      <td>...</td>\n",
       "      <td>1</td>\n",
       "      <td>1</td>\n",
       "      <td>1</td>\n",
       "      <td>0</td>\n",
       "      <td>1</td>\n",
       "      <td>0</td>\n",
       "      <td>0</td>\n",
       "      <td>0</td>\n",
       "      <td>1</td>\n",
       "      <td>1</td>\n",
       "    </tr>\n",
       "  </tbody>\n",
       "</table>\n",
       "<p>601 rows × 166 columns</p>\n",
       "</div>"
      ],
      "text/plain": [
       "     isolado_id  1_-  1_s  1_w  2_+w  2_-  2_-+  2_-c  2_-w  2_w  ...  64_-  \\\n",
       "0            10    0    0    0     0    0     0     0     0    0  ...     0   \n",
       "1           100    0    0    0     0    0     0     0     0    0  ...     1   \n",
       "2           101    0    0    0     0    1     0     0     0    0  ...     1   \n",
       "3           102    0    0    0     0    0     0     0     0    0  ...     1   \n",
       "4           103    0    0    0     0    0     0     0     0    0  ...     1   \n",
       "..          ...  ...  ...  ...   ...  ...   ...   ...   ...  ...  ...   ...   \n",
       "596          95    0    0    0     0    1     0     0     0    0  ...     1   \n",
       "597          96    0    0    0     0    1     0     0     0    0  ...     1   \n",
       "598          97    0    0    0     0    0     0     0     0    0  ...     0   \n",
       "599          98    0    0    0     0    1     0     0     0    0  ...     1   \n",
       "600          99    0    0    0     0    1     0     0     0    0  ...     1   \n",
       "\n",
       "     65_-  66_-  67_-  68_-  68_w  69_-  69_w  78_-  79_-  \n",
       "0       0     0     0     0     0     0     0     0     0  \n",
       "1       1     1     1     1     0     0     0     0     0  \n",
       "2       1     1     1     1     0     0     0     0     0  \n",
       "3       1     1     1     0     0     0     0     0     1  \n",
       "4       0     0     0     0     0     0     0     0     1  \n",
       "..    ...   ...   ...   ...   ...   ...   ...   ...   ...  \n",
       "596     1     1     0     1     0     0     0     1     0  \n",
       "597     1     1     1     1     0     0     0     1     1  \n",
       "598     0     0     0     0     0     0     0     0     0  \n",
       "599     1     1     1     1     0     0     0     1     0  \n",
       "600     1     1     0     1     0     0     0     1     1  \n",
       "\n",
       "[601 rows x 166 columns]"
      ]
     },
     "execution_count": 21,
     "metadata": {},
     "output_type": "execute_result"
    }
   ],
   "source": [
    "dummie"
   ]
  },
  {
   "cell_type": "markdown",
   "id": "86ae8048-af74-444e-8606-97240b3340e6",
   "metadata": {},
   "source": [
    "## SciKit Learn:"
   ]
  },
  {
   "cell_type": "code",
   "execution_count": 6,
   "id": "b260e87d-bf44-4abb-b3f9-c040d20461f5",
   "metadata": {},
   "outputs": [],
   "source": [
    "import numpy as np\n",
    "\n",
    "from scipy.cluster.hierarchy import dendrogram\n",
    "from sklearn.datasets import load_iris\n",
    "from sklearn.cluster import AgglomerativeClustering"
   ]
  },
  {
   "cell_type": "code",
   "execution_count": 54,
   "id": "c54a84fd-9acc-456d-90c4-be83cb893a66",
   "metadata": {},
   "outputs": [],
   "source": [
    "def plot_dendrogram(model, **kwargs):\n",
    "    # Create linkage matrix and then plot the dendrogram\n",
    "\n",
    "    # create the counts of samples under each node\n",
    "    counts = np.zeros(model.children_.shape[0])\n",
    "    n_samples = len(model.labels_)\n",
    "    for i, merge in enumerate(model.children_):\n",
    "        current_count = 0\n",
    "        for child_idx in merge:\n",
    "            if child_idx < n_samples:\n",
    "                current_count += 1  # leaf node\n",
    "            else:\n",
    "                current_count += counts[child_idx - n_samples]\n",
    "        counts[i] = current_count\n",
    "\n",
    "    linkage_matrix = np.column_stack([model.children_, model.distances_,\n",
    "                                      counts]).astype(float)\n",
    "#     print(linkage_matrix.shape)\n",
    "\n",
    "    # Plot the corresponding dendrogram\n",
    "    dendrogram(linkage_matrix, **kwargs)"
   ]
  },
  {
   "cell_type": "code",
   "execution_count": 14,
   "id": "3fb10bad-982c-4a3e-b5d4-a050f4a84e3d",
   "metadata": {},
   "outputs": [],
   "source": [
    "X = dummie"
   ]
  },
  {
   "cell_type": "code",
   "execution_count": 15,
   "id": "87d35926-24b8-43a2-a0c8-fc332c7f8462",
   "metadata": {},
   "outputs": [],
   "source": [
    "# setting distance_threshold=0 ensures we compute the full tree.\n",
    "model = AgglomerativeClustering(distance_threshold=0, n_clusters=None)"
   ]
  },
  {
   "cell_type": "code",
   "execution_count": 16,
   "id": "6691dd4b-eef0-484e-9dc8-d1f52db0219e",
   "metadata": {},
   "outputs": [],
   "source": [
    "model = model.fit(X)"
   ]
  },
  {
   "cell_type": "code",
   "execution_count": 53,
   "id": "e446eb86-766c-4b99-93db-9c90b9df31e1",
   "metadata": {},
   "outputs": [
    {
     "name": "stdout",
     "output_type": "stream",
     "text": [
      "(600, 4)\n"
     ]
    },
    {
     "data": {
      "image/png": "[encoded data removed]",
      "text/plain": [
       "<Figure size 432x288 with 1 Axes>"
      ]
     },
     "metadata": {
      "needs_background": "light"
     },
     "output_type": "display_data"
    },
    {
     "data": {
      "image/png": "[encoded data removed]",
      "text/plain": [
       "<Figure size 1800x720 with 1 Axes>"
      ]
     },
     "metadata": {
      "needs_background": "light"
     },
     "output_type": "display_data"
    }
   ],
   "source": [
    "plt.title('Hierarchical Clustering Dendrogram')\n",
    "plt.figure(figsize=(25, 10))\n",
    "\n",
    "# plot the top three levels of the dendrogram\n",
    "plot_dendrogram(model, truncate_mode='level', p=3)\n",
    "plt.xlabel(\"Number of points in node (or index of point if no parenthesis).\")\n",
    "plt.show()"
   ]
  },
  {
   "cell_type": "markdown",
   "id": "b82badea-8491-4013-8409-89240d90d0ec",
   "metadata": {},
   "source": [
    "Estudar funcionamento da função de distancia do model aglomerativo do SciKit Learn\n",
    "\n",
    "Compreender como se dá a formação, atribuição e comparação dessa medida"
   ]
  },
  {
   "cell_type": "code",
   "execution_count": 27,
   "id": "3da2f39a-7c56-47ad-8b88-37ee43fe9e20",
   "metadata": {},
   "outputs": [
    {
     "data": {
      "text/plain": [
       "600"
      ]
     },
     "execution_count": 27,
     "metadata": {},
     "output_type": "execute_result"
    }
   ],
   "source": [
    "# len(model.children_)# usar print\n",
    "len(model.distances_)"
   ]
  },
  {
   "cell_type": "markdown",
   "id": "4e6eb18c-bd2b-4884-a8e6-24427d32efe9",
   "metadata": {},
   "source": [
    "Empilhar os elementos de cada conjunto em niveis distintos de uma estrutura de dados (árvore ou lista)\n",
    "\n",
    "Retornar/mostrar esses elementos ao final da execução do dendograma "
   ]
  },
  {
   "cell_type": "markdown",
   "id": "6f1dc071-b161-41ad-a43e-9918bfb16000",
   "metadata": {},
   "source": [
    "Quem são os elementos do grupo 1, do grupo 2, ..., do grupo-n???"
   ]
  },
  {
   "cell_type": "code",
   "execution_count": null,
   "id": "3d311df9-7e21-4b9c-b28b-6e3b1f979f5b",
   "metadata": {},
   "outputs": [],
   "source": []
  },
  {
   "cell_type": "code",
   "execution_count": null,
   "id": "b15fb211-49f8-4f1e-8c9d-041b818ec61e",
   "metadata": {},
   "outputs": [],
   "source": []
  },
  {
   "cell_type": "code",
   "execution_count": null,
   "id": "840a75de-9c3f-4486-90e3-e78b9a929c58",
   "metadata": {},
   "outputs": [],
   "source": []
  }
 ],
 "metadata": {
  "kernelspec": {
   "display_name": "Python 3 (ipykernel)",
   "language": "python",
   "name": "python3"
  },
  "language_info": {
   "codemirror_mode": {
    "name": "ipython",
    "version": 3
   },
   "file_extension": ".py",
   "mimetype": "text/x-python",
   "name": "python",
   "nbconvert_exporter": "python",
   "pygments_lexer": "ipython3",
   "version": "3.7.12"
  }
 },
 "nbformat": 4,
 "nbformat_minor": 5
}

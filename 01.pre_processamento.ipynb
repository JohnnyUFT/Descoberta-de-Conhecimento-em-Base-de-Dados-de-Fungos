{
 "cells": [
  {
   "cell_type": "markdown",
   "id": "9684322f-659a-4eb2-a6bf-5e61cd3cea90",
   "metadata": {},
   "source": [
    "### Levantamentos de informações diversas sobre os dados:\n",
    "1. Dimensões, informações de tipo de dados, etc...\n",
    "2. Geração de Gráficos Diversos;\n",
    "3. Considerações sobre dados faltantes;\n",
    "4. Remoção de características com dados faltantes abaixo de limiar pré-estabelecido\n",
    "5. Featuring Engineering - Encode, Impute, Remoção de Características Esparsas, etc...\n",
    "6. Geração de Relatórios (EDA) automatizados;"
   ]
  },
  {
   "cell_type": "code",
   "execution_count": 1,
   "id": "arabic-polyester",
   "metadata": {},
   "outputs": [],
   "source": [
    "import numpy as np\n",
    "import matplotlib.pyplot as plt\n",
    "import pandas as pd\n",
    "import seaborn as sns\n"
   ]
  },
  {
   "cell_type": "code",
   "execution_count": 2,
   "id": "f4917525-3ec1-4fa6-a9be-cb80608c4f61",
   "metadata": {},
   "outputs": [],
   "source": [
    "# customizações de algumas variáveis de ambiente:\n",
    "%matplotlib inline\n",
    "sns.set_style(\"darkgrid\")\n",
    "\n"
   ]
  },
  {
   "cell_type": "code",
   "execution_count": 29,
   "id": "optimum-instrumentation",
   "metadata": {},
   "outputs": [
    {
     "data": {
      "text/html": [
       "<div>\n",
       "<style scoped>\n",
       "    .dataframe tbody tr th:only-of-type {\n",
       "        vertical-align: middle;\n",
       "    }\n",
       "\n",
       "    .dataframe tbody tr th {\n",
       "        vertical-align: top;\n",
       "    }\n",
       "\n",
       "    .dataframe thead th {\n",
       "        text-align: right;\n",
       "    }\n",
       "</style>\n",
       "<table border=\"1\" class=\"dataframe\">\n",
       "  <thead>\n",
       "    <tr style=\"text-align: right;\">\n",
       "      <th></th>\n",
       "      <th>id</th>\n",
       "      <th>ccr_codigo</th>\n",
       "      <th>amostra</th>\n",
       "      <th>substrato</th>\n",
       "      <th>cidade</th>\n",
       "      <th>uf</th>\n",
       "      <th>1</th>\n",
       "      <th>2</th>\n",
       "      <th>3</th>\n",
       "      <th>4</th>\n",
       "      <th>...</th>\n",
       "      <th>52</th>\n",
       "      <th>53</th>\n",
       "      <th>64</th>\n",
       "      <th>65</th>\n",
       "      <th>66</th>\n",
       "      <th>67</th>\n",
       "      <th>68</th>\n",
       "      <th>69</th>\n",
       "      <th>78</th>\n",
       "      <th>79</th>\n",
       "    </tr>\n",
       "  </thead>\n",
       "  <tbody>\n",
       "    <tr>\n",
       "      <th>0</th>\n",
       "      <td>2</td>\n",
       "      <td>UFT.2015(L)8501</td>\n",
       "      <td>JHF.BU.001.002</td>\n",
       "      <td>Fruto de Buriti</td>\n",
       "      <td>Nova Xavantina</td>\n",
       "      <td>MT</td>\n",
       "      <td>NaN</td>\n",
       "      <td>+</td>\n",
       "      <td>+</td>\n",
       "      <td>-</td>\n",
       "      <td>...</td>\n",
       "      <td>NaN</td>\n",
       "      <td>NaN</td>\n",
       "      <td>NaN</td>\n",
       "      <td>NaN</td>\n",
       "      <td>NaN</td>\n",
       "      <td>NaN</td>\n",
       "      <td>NaN</td>\n",
       "      <td>NaN</td>\n",
       "      <td>NaN</td>\n",
       "      <td>NaN</td>\n",
       "    </tr>\n",
       "    <tr>\n",
       "      <th>1</th>\n",
       "      <td>4</td>\n",
       "      <td>UFT.2015(L)8503</td>\n",
       "      <td>JHF.BU.003.001</td>\n",
       "      <td>Fruto de Buriti</td>\n",
       "      <td>Nova Xavantina</td>\n",
       "      <td>MT</td>\n",
       "      <td>NaN</td>\n",
       "      <td>+</td>\n",
       "      <td>+</td>\n",
       "      <td>+w</td>\n",
       "      <td>...</td>\n",
       "      <td>NaN</td>\n",
       "      <td>NaN</td>\n",
       "      <td>NaN</td>\n",
       "      <td>NaN</td>\n",
       "      <td>NaN</td>\n",
       "      <td>NaN</td>\n",
       "      <td>NaN</td>\n",
       "      <td>NaN</td>\n",
       "      <td>NaN</td>\n",
       "      <td>NaN</td>\n",
       "    </tr>\n",
       "    <tr>\n",
       "      <th>2</th>\n",
       "      <td>6</td>\n",
       "      <td>UFT.2015(L)8505</td>\n",
       "      <td>JHF.BU.003.003</td>\n",
       "      <td>Fruto de Buriti</td>\n",
       "      <td>Nova Xavantina</td>\n",
       "      <td>MT</td>\n",
       "      <td>NaN</td>\n",
       "      <td>-+</td>\n",
       "      <td>+</td>\n",
       "      <td>-+</td>\n",
       "      <td>...</td>\n",
       "      <td>NaN</td>\n",
       "      <td>NaN</td>\n",
       "      <td>NaN</td>\n",
       "      <td>NaN</td>\n",
       "      <td>NaN</td>\n",
       "      <td>NaN</td>\n",
       "      <td>NaN</td>\n",
       "      <td>NaN</td>\n",
       "      <td>NaN</td>\n",
       "      <td>NaN</td>\n",
       "    </tr>\n",
       "  </tbody>\n",
       "</table>\n",
       "<p>3 rows × 63 columns</p>\n",
       "</div>"
      ],
      "text/plain": [
       "   id       ccr_codigo         amostra        substrato          cidade  uf  \\\n",
       "0   2  UFT.2015(L)8501  JHF.BU.001.002  Fruto de Buriti  Nova Xavantina  MT   \n",
       "1   4  UFT.2015(L)8503  JHF.BU.003.001  Fruto de Buriti  Nova Xavantina  MT   \n",
       "2   6  UFT.2015(L)8505  JHF.BU.003.003  Fruto de Buriti  Nova Xavantina  MT   \n",
       "\n",
       "     1   2  3   4  ...   52   53   64   65   66   67   68   69   78   79  \n",
       "0  NaN   +  +   -  ...  NaN  NaN  NaN  NaN  NaN  NaN  NaN  NaN  NaN  NaN  \n",
       "1  NaN   +  +  +w  ...  NaN  NaN  NaN  NaN  NaN  NaN  NaN  NaN  NaN  NaN  \n",
       "2  NaN  -+  +  -+  ...  NaN  NaN  NaN  NaN  NaN  NaN  NaN  NaN  NaN  NaN  \n",
       "\n",
       "[3 rows x 63 columns]"
      ]
     },
     "execution_count": 29,
     "metadata": {},
     "output_type": "execute_result"
    }
   ],
   "source": [
    "# sobre a distribuição dos dados:\n",
    "isolados = pd.read_csv('data/03 - reacoes_detalhes.csv')\n",
    "isolados.head(3)\n"
   ]
  },
  {
   "cell_type": "code",
   "execution_count": 30,
   "id": "de91f58c-a23f-40f0-aa14-96876238b9d0",
   "metadata": {},
   "outputs": [
    {
     "data": {
      "text/plain": [
       "([0, 1, 2, 3, 4],\n",
       " [Text(0, 0, 'Nova Xavantina'),\n",
       "  Text(1, 0, 'Pium'),\n",
       "  Text(2, 0, 'Taguatinga'),\n",
       "  Text(3, 0, 'Palmas'),\n",
       "  Text(4, 0, 'Natividade')])"
      ]
     },
     "execution_count": 30,
     "metadata": {},
     "output_type": "execute_result"
    },
    {
     "data": {
      "image/png": "[encoded data removed]",
      "text/plain": [
       "<Figure size 478.625x360 with 1 Axes>"
      ]
     },
     "metadata": {},
     "output_type": "display_data"
    }
   ],
   "source": [
    "sns.displot(isolados, x=\"cidade\", hue=\"substrato\", binwidth=3)\n",
    "plt.xticks(rotation=45)\n"
   ]
  },
  {
   "cell_type": "code",
   "execution_count": 31,
   "id": "efae9e0d-d192-422c-b3fa-023f2cb0bd75",
   "metadata": {},
   "outputs": [
    {
     "data": {
      "image/png": "[encoded data removed]",
      "text/plain": [
       "<Figure size 478.625x360 with 1 Axes>"
      ]
     },
     "metadata": {},
     "output_type": "display_data"
    }
   ],
   "source": [
    "fig = sns.displot(isolados, x=\"cidade\", hue=\"substrato\", binwidth=3,)\n",
    "# plt.xticks(rotation=315)\n",
    "plt.xticks(rotation=45)\n",
    "fig.savefig('substrato_cidade.png', dpi=300)\n"
   ]
  },
  {
   "cell_type": "code",
   "execution_count": 32,
   "id": "0db9932c-b07e-4f3a-88ac-87bccd69e595",
   "metadata": {},
   "outputs": [
    {
     "data": {
      "text/plain": [
       "<seaborn.axisgrid.FacetGrid at 0x7f6b530c0b10>"
      ]
     },
     "execution_count": 32,
     "metadata": {},
     "output_type": "execute_result"
    },
    {
     "data": {
      "image/png": "[encoded data removed]",
      "text/plain": [
       "<Figure size 720x360 with 2 Axes>"
      ]
     },
     "metadata": {},
     "output_type": "display_data"
    }
   ],
   "source": [
    "sns.displot(isolados, x=\"cidade\", col=\"substrato\", binwidth=3)\n"
   ]
  },
  {
   "cell_type": "code",
   "execution_count": null,
   "id": "cfb8698a-1d5e-40bc-af53-5170a125d5af",
   "metadata": {},
   "outputs": [],
   "source": []
  },
  {
   "cell_type": "code",
   "execution_count": null,
   "id": "cc351ab2-a7b2-43d9-92f5-891f930b9fa4",
   "metadata": {},
   "outputs": [],
   "source": []
  },
  {
   "cell_type": "code",
   "execution_count": 34,
   "id": "another-mongolia",
   "metadata": {},
   "outputs": [
    {
     "data": {
      "text/html": [
       "<div>\n",
       "<style scoped>\n",
       "    .dataframe tbody tr th:only-of-type {\n",
       "        vertical-align: middle;\n",
       "    }\n",
       "\n",
       "    .dataframe tbody tr th {\n",
       "        vertical-align: top;\n",
       "    }\n",
       "\n",
       "    .dataframe thead th {\n",
       "        text-align: right;\n",
       "    }\n",
       "</style>\n",
       "<table border=\"1\" class=\"dataframe\">\n",
       "  <thead>\n",
       "    <tr style=\"text-align: right;\">\n",
       "      <th></th>\n",
       "      <th>ccr</th>\n",
       "      <th>1</th>\n",
       "      <th>2</th>\n",
       "      <th>3</th>\n",
       "      <th>4</th>\n",
       "      <th>5</th>\n",
       "      <th>6</th>\n",
       "      <th>7</th>\n",
       "      <th>8</th>\n",
       "      <th>9</th>\n",
       "      <th>...</th>\n",
       "      <th>52</th>\n",
       "      <th>53</th>\n",
       "      <th>64</th>\n",
       "      <th>65</th>\n",
       "      <th>66</th>\n",
       "      <th>67</th>\n",
       "      <th>68</th>\n",
       "      <th>69</th>\n",
       "      <th>78</th>\n",
       "      <th>79</th>\n",
       "    </tr>\n",
       "    <tr>\n",
       "      <th>id</th>\n",
       "      <th></th>\n",
       "      <th></th>\n",
       "      <th></th>\n",
       "      <th></th>\n",
       "      <th></th>\n",
       "      <th></th>\n",
       "      <th></th>\n",
       "      <th></th>\n",
       "      <th></th>\n",
       "      <th></th>\n",
       "      <th></th>\n",
       "      <th></th>\n",
       "      <th></th>\n",
       "      <th></th>\n",
       "      <th></th>\n",
       "      <th></th>\n",
       "      <th></th>\n",
       "      <th></th>\n",
       "      <th></th>\n",
       "      <th></th>\n",
       "      <th></th>\n",
       "    </tr>\n",
       "  </thead>\n",
       "  <tbody>\n",
       "    <tr>\n",
       "      <th>2</th>\n",
       "      <td>UFT.2015(L)8501</td>\n",
       "      <td>NaN</td>\n",
       "      <td>+</td>\n",
       "      <td>+</td>\n",
       "      <td>-</td>\n",
       "      <td>-</td>\n",
       "      <td>+</td>\n",
       "      <td>+</td>\n",
       "      <td>-</td>\n",
       "      <td>-</td>\n",
       "      <td>...</td>\n",
       "      <td>NaN</td>\n",
       "      <td>NaN</td>\n",
       "      <td>NaN</td>\n",
       "      <td>NaN</td>\n",
       "      <td>NaN</td>\n",
       "      <td>NaN</td>\n",
       "      <td>NaN</td>\n",
       "      <td>NaN</td>\n",
       "      <td>NaN</td>\n",
       "      <td>NaN</td>\n",
       "    </tr>\n",
       "    <tr>\n",
       "      <th>4</th>\n",
       "      <td>UFT.2015(L)8503</td>\n",
       "      <td>NaN</td>\n",
       "      <td>+</td>\n",
       "      <td>+</td>\n",
       "      <td>+w</td>\n",
       "      <td>+</td>\n",
       "      <td>+</td>\n",
       "      <td>-+</td>\n",
       "      <td>-</td>\n",
       "      <td>+w</td>\n",
       "      <td>...</td>\n",
       "      <td>NaN</td>\n",
       "      <td>NaN</td>\n",
       "      <td>NaN</td>\n",
       "      <td>NaN</td>\n",
       "      <td>NaN</td>\n",
       "      <td>NaN</td>\n",
       "      <td>NaN</td>\n",
       "      <td>NaN</td>\n",
       "      <td>NaN</td>\n",
       "      <td>NaN</td>\n",
       "    </tr>\n",
       "    <tr>\n",
       "      <th>6</th>\n",
       "      <td>UFT.2015(L)8505</td>\n",
       "      <td>NaN</td>\n",
       "      <td>-+</td>\n",
       "      <td>+</td>\n",
       "      <td>-+</td>\n",
       "      <td>-+</td>\n",
       "      <td>-</td>\n",
       "      <td>+</td>\n",
       "      <td>-+</td>\n",
       "      <td>-</td>\n",
       "      <td>...</td>\n",
       "      <td>NaN</td>\n",
       "      <td>NaN</td>\n",
       "      <td>NaN</td>\n",
       "      <td>NaN</td>\n",
       "      <td>NaN</td>\n",
       "      <td>NaN</td>\n",
       "      <td>NaN</td>\n",
       "      <td>NaN</td>\n",
       "      <td>NaN</td>\n",
       "      <td>NaN</td>\n",
       "    </tr>\n",
       "  </tbody>\n",
       "</table>\n",
       "<p>3 rows × 58 columns</p>\n",
       "</div>"
      ],
      "text/plain": [
       "                ccr    1   2  3   4   5  6   7   8   9  ...   52   53   64  \\\n",
       "id                                                      ...                  \n",
       "2   UFT.2015(L)8501  NaN   +  +   -   -  +   +   -   -  ...  NaN  NaN  NaN   \n",
       "4   UFT.2015(L)8503  NaN   +  +  +w   +  +  -+   -  +w  ...  NaN  NaN  NaN   \n",
       "6   UFT.2015(L)8505  NaN  -+  +  -+  -+  -   +  -+   -  ...  NaN  NaN  NaN   \n",
       "\n",
       "     65   66   67   68   69   78   79  \n",
       "id                                     \n",
       "2   NaN  NaN  NaN  NaN  NaN  NaN  NaN  \n",
       "4   NaN  NaN  NaN  NaN  NaN  NaN  NaN  \n",
       "6   NaN  NaN  NaN  NaN  NaN  NaN  NaN  \n",
       "\n",
       "[3 rows x 58 columns]"
      ]
     },
     "execution_count": 34,
     "metadata": {},
     "output_type": "execute_result"
    }
   ],
   "source": [
    "df = pd.read_csv('data/02 - reacoes.csv', index_col='id')\n",
    "df.head(3)\n"
   ]
  },
  {
   "cell_type": "markdown",
   "id": "48f68bf9-5f20-463d-8a24-41eca11842b3",
   "metadata": {
    "tags": []
   },
   "source": [
    "### Análise Exploratória de Dados:\n",
    "1. Informações Gerais\n",
    "2. Tratamento de valores Nulos\n",
    "3. Relatórios e outros"
   ]
  },
  {
   "cell_type": "markdown",
   "id": "c55cb369-91cb-4016-b521-7ab5d1e87013",
   "metadata": {},
   "source": [
    "Questions to answer:\n",
    "* How many features do you have?\n",
    "* How many observations do you have?\n",
    "* What is the data type of each feature?"
   ]
  },
  {
   "cell_type": "code",
   "execution_count": 5,
   "id": "564bfbba-91fc-4ed2-8398-5cca9bd0c539",
   "metadata": {},
   "outputs": [
    {
     "data": {
      "text/plain": [
       "(601, 58)"
      ]
     },
     "execution_count": 5,
     "metadata": {},
     "output_type": "execute_result"
    }
   ],
   "source": [
    "# dimensoes - linhas e colunas\n",
    "df.shape\n",
    "\n",
    "# informações diversas:\n",
    "# df.info()"
   ]
  },
  {
   "cell_type": "code",
   "execution_count": 6,
   "id": "e72d5388-8a27-47ab-9040-e0b679517e5b",
   "metadata": {},
   "outputs": [
    {
     "data": {
      "text/html": [
       "<div>\n",
       "<style scoped>\n",
       "    .dataframe tbody tr th:only-of-type {\n",
       "        vertical-align: middle;\n",
       "    }\n",
       "\n",
       "    .dataframe tbody tr th {\n",
       "        vertical-align: top;\n",
       "    }\n",
       "\n",
       "    .dataframe thead th {\n",
       "        text-align: right;\n",
       "    }\n",
       "</style>\n",
       "<table border=\"1\" class=\"dataframe\">\n",
       "  <thead>\n",
       "    <tr style=\"text-align: right;\">\n",
       "      <th></th>\n",
       "      <th>ccr</th>\n",
       "      <th>1</th>\n",
       "      <th>2</th>\n",
       "      <th>3</th>\n",
       "      <th>4</th>\n",
       "      <th>5</th>\n",
       "      <th>6</th>\n",
       "      <th>7</th>\n",
       "      <th>8</th>\n",
       "      <th>9</th>\n",
       "      <th>...</th>\n",
       "      <th>52</th>\n",
       "      <th>53</th>\n",
       "      <th>64</th>\n",
       "      <th>65</th>\n",
       "      <th>66</th>\n",
       "      <th>67</th>\n",
       "      <th>68</th>\n",
       "      <th>69</th>\n",
       "      <th>78</th>\n",
       "      <th>79</th>\n",
       "    </tr>\n",
       "  </thead>\n",
       "  <tbody>\n",
       "    <tr>\n",
       "      <th>count</th>\n",
       "      <td>601</td>\n",
       "      <td>26</td>\n",
       "      <td>600</td>\n",
       "      <td>601</td>\n",
       "      <td>601</td>\n",
       "      <td>579</td>\n",
       "      <td>600</td>\n",
       "      <td>601</td>\n",
       "      <td>598</td>\n",
       "      <td>595</td>\n",
       "      <td>...</td>\n",
       "      <td>312</td>\n",
       "      <td>308</td>\n",
       "      <td>227</td>\n",
       "      <td>312</td>\n",
       "      <td>303</td>\n",
       "      <td>242</td>\n",
       "      <td>242</td>\n",
       "      <td>199</td>\n",
       "      <td>234</td>\n",
       "      <td>226</td>\n",
       "    </tr>\n",
       "    <tr>\n",
       "      <th>unique</th>\n",
       "      <td>601</td>\n",
       "      <td>4</td>\n",
       "      <td>7</td>\n",
       "      <td>6</td>\n",
       "      <td>5</td>\n",
       "      <td>5</td>\n",
       "      <td>6</td>\n",
       "      <td>5</td>\n",
       "      <td>4</td>\n",
       "      <td>6</td>\n",
       "      <td>...</td>\n",
       "      <td>2</td>\n",
       "      <td>2</td>\n",
       "      <td>2</td>\n",
       "      <td>2</td>\n",
       "      <td>2</td>\n",
       "      <td>2</td>\n",
       "      <td>3</td>\n",
       "      <td>3</td>\n",
       "      <td>2</td>\n",
       "      <td>2</td>\n",
       "    </tr>\n",
       "    <tr>\n",
       "      <th>top</th>\n",
       "      <td>UFT.2015(L)8501</td>\n",
       "      <td>+</td>\n",
       "      <td>+</td>\n",
       "      <td>+</td>\n",
       "      <td>+</td>\n",
       "      <td>+</td>\n",
       "      <td>+</td>\n",
       "      <td>+</td>\n",
       "      <td>-</td>\n",
       "      <td>-</td>\n",
       "      <td>...</td>\n",
       "      <td>+</td>\n",
       "      <td>-</td>\n",
       "      <td>-</td>\n",
       "      <td>-</td>\n",
       "      <td>-</td>\n",
       "      <td>-</td>\n",
       "      <td>-</td>\n",
       "      <td>+</td>\n",
       "      <td>-</td>\n",
       "      <td>-</td>\n",
       "    </tr>\n",
       "    <tr>\n",
       "      <th>freq</th>\n",
       "      <td>1</td>\n",
       "      <td>10</td>\n",
       "      <td>415</td>\n",
       "      <td>404</td>\n",
       "      <td>391</td>\n",
       "      <td>404</td>\n",
       "      <td>458</td>\n",
       "      <td>385</td>\n",
       "      <td>543</td>\n",
       "      <td>375</td>\n",
       "      <td>...</td>\n",
       "      <td>301</td>\n",
       "      <td>208</td>\n",
       "      <td>218</td>\n",
       "      <td>217</td>\n",
       "      <td>225</td>\n",
       "      <td>130</td>\n",
       "      <td>132</td>\n",
       "      <td>176</td>\n",
       "      <td>140</td>\n",
       "      <td>162</td>\n",
       "    </tr>\n",
       "  </tbody>\n",
       "</table>\n",
       "<p>4 rows × 58 columns</p>\n",
       "</div>"
      ],
      "text/plain": [
       "                    ccr   1    2    3    4    5    6    7    8    9  ...   52  \\\n",
       "count               601  26  600  601  601  579  600  601  598  595  ...  312   \n",
       "unique              601   4    7    6    5    5    6    5    4    6  ...    2   \n",
       "top     UFT.2015(L)8501   +    +    +    +    +    +    +    -    -  ...    +   \n",
       "freq                  1  10  415  404  391  404  458  385  543  375  ...  301   \n",
       "\n",
       "         53   64   65   66   67   68   69   78   79  \n",
       "count   308  227  312  303  242  242  199  234  226  \n",
       "unique    2    2    2    2    2    3    3    2    2  \n",
       "top       -    -    -    -    -    -    +    -    -  \n",
       "freq    208  218  217  225  130  132  176  140  162  \n",
       "\n",
       "[4 rows x 58 columns]"
      ]
     },
     "execution_count": 6,
     "metadata": {},
     "output_type": "execute_result"
    }
   ],
   "source": [
    "# descricao dos dados sob analise:\n",
    "df.describe(include='object')"
   ]
  },
  {
   "cell_type": "code",
   "execution_count": 47,
   "id": "abc24f0a-4e02-42e0-ad89-8a670e08c9bf",
   "metadata": {
    "tags": []
   },
   "outputs": [
    {
     "data": {
      "image/png": "[encoded data removed]",
      "text/plain": [
       "<Figure size 720x720 with 2 Axes>"
      ]
     },
     "metadata": {},
     "output_type": "display_data"
    }
   ],
   "source": [
    "# mostra valores faltantes dentro de uma amostra dos dados:\n",
    "# salva grafico na raiz do diretório\n",
    "fig, ax = plt.subplots(figsize=(10,10))  \n",
    "mapa_calor = sns.heatmap(df.isnull(),\n",
    "            cbar_kws={'label': 'Dados Faltantes'}, vmin=0, vmax=1)\n",
    "ax.set(xlabel='Composto', ylabel='Isolado')\n",
    "\n",
    "fig = mapa_calor.get_figure()\n",
    "fig.savefig('valores_faltantes.png', dpi=300)\n",
    "\n",
    "plt.show()\n"
   ]
  },
  {
   "cell_type": "code",
   "execution_count": 35,
   "id": "b869c3b3-6209-4b6c-925d-8c8350291fe6",
   "metadata": {},
   "outputs": [
    {
     "data": {
      "image/png": "[encoded data removed]",
      "text/plain": [
       "<Figure size 1080x360 with 1 Axes>"
      ]
     },
     "metadata": {
      "needs_background": "light"
     },
     "output_type": "display_data"
    }
   ],
   "source": [
    "df.isna().mean().sort_values().plot(\n",
    "    kind=\"bar\", figsize=(15, 5),\n",
    "    title=\"Porcentagem de valores faltantes por característica\",\n",
    "    ylabel=\"Taxa de valores faltantes por característica\");\n"
   ]
  },
  {
   "cell_type": "code",
   "execution_count": 38,
   "id": "36c428cb-a002-4d88-b91e-74d9f9191eb4",
   "metadata": {
    "collapsed": true,
    "jupyter": {
     "outputs_hidden": true
    },
    "tags": []
   },
   "outputs": [
    {
     "data": {
      "image/png": "[encoded data removed]",
      "text/plain": [
       "<Figure size 1080x360 with 1 Axes>"
      ]
     },
     "metadata": {
      "needs_background": "light"
     },
     "output_type": "display_data"
    }
   ],
   "source": [
    "# salva o grafico anterior no diretório raiz:\n",
    "heat_plot = df.isna().mean().sort_values().plot(\n",
    "    kind=\"bar\", figsize=(15, 5),\n",
    "    title=\"Porcentagem de valores faltantes por característica\",\n",
    "    ylabel=\"Taxa de valores faltantes por característica\");\n",
    "fig = heat_plot.get_figure()\n",
    "fig.savefig('missing_values.png', dpi=300)\n"
   ]
  },
  {
   "cell_type": "code",
   "execution_count": 48,
   "id": "c9b1a113-ed6a-4cc5-9e8d-85efe40fa8a6",
   "metadata": {
    "collapsed": true,
    "jupyter": {
     "outputs_hidden": true
    },
    "tags": []
   },
   "outputs": [
    {
     "data": {
      "image/png": "[encoded data removed]",
      "text/plain": [
       "<Figure size 432x288 with 1 Axes>"
      ]
     },
     "metadata": {},
     "output_type": "display_data"
    },
    {
     "data": {
      "image/png": "[encoded data removed]",
      "text/plain": [
       "<Figure size 432x288 with 1 Axes>"
      ]
     },
     "metadata": {},
     "output_type": "display_data"
    },
    {
     "data": {
      "image/png": "[encoded data removed]",
      "text/plain": [
       "<Figure size 432x288 with 1 Axes>"
      ]
     },
     "metadata": {},
     "output_type": "display_data"
    },
    {
     "data": {
      "image/png": "[encoded data removed]",
      "text/plain": [
       "<Figure size 432x288 with 1 Axes>"
      ]
     },
     "metadata": {},
     "output_type": "display_data"
    },
    {
     "data": {
      "image/png": "[encoded data removed]",
      "text/plain": [
       "<Figure size 432x288 with 1 Axes>"
      ]
     },
     "metadata": {},
     "output_type": "display_data"
    },
    {
     "data": {
      "image/png": "[encoded data removed]",
      "text/plain": [
       "<Figure size 432x288 with 1 Axes>"
      ]
     },
     "metadata": {},
     "output_type": "display_data"
    },
    {
     "data": {
      "image/png": "[encoded data removed]",
      "text/plain": [
       "<Figure size 432x288 with 1 Axes>"
      ]
     },
     "metadata": {},
     "output_type": "display_data"
    },
    {
     "data": {
      "image/png": "[encoded data removed]",
      "text/plain": [
       "<Figure size 432x288 with 1 Axes>"
      ]
     },
     "metadata": {},
     "output_type": "display_data"
    },
    {
     "data": {
      "image/png": "[encoded data removed]",
      "text/plain": [
       "<Figure size 432x288 with 1 Axes>"
      ]
     },
     "metadata": {},
     "output_type": "display_data"
    },
    {
     "data": {
      "image/png": "[encoded data removed]",
      "text/plain": [
       "<Figure size 432x288 with 1 Axes>"
      ]
     },
     "metadata": {},
     "output_type": "display_data"
    },
    {
     "data": {
      "image/png": "[encoded data removed]",
      "text/plain": [
       "<Figure size 432x288 with 1 Axes>"
      ]
     },
     "metadata": {},
     "output_type": "display_data"
    },
    {
     "data": {
      "image/png": "[encoded data removed]",
      "text/plain": [
       "<Figure size 432x288 with 1 Axes>"
      ]
     },
     "metadata": {},
     "output_type": "display_data"
    },
    {
     "data": {
      "image/png": "[encoded data removed]",
      "text/plain": [
       "<Figure size 432x288 with 1 Axes>"
      ]
     },
     "metadata": {},
     "output_type": "display_data"
    },
    {
     "data": {
      "image/png": "[encoded data removed]",
      "text/plain": [
       "<Figure size 432x288 with 1 Axes>"
      ]
     },
     "metadata": {},
     "output_type": "display_data"
    },
    {
     "data": {
      "image/png": "[encoded data removed]",
      "text/plain": [
       "<Figure size 432x288 with 1 Axes>"
      ]
     },
     "metadata": {},
     "output_type": "display_data"
    },
    {
     "data": {
      "image/png": "[encoded data removed]",
      "text/plain": [
       "<Figure size 432x288 with 1 Axes>"
      ]
     },
     "metadata": {},
     "output_type": "display_data"
    },
    {
     "data": {
      "image/png": "[encoded data removed]",
      "text/plain": [
       "<Figure size 432x288 with 1 Axes>"
      ]
     },
     "metadata": {},
     "output_type": "display_data"
    },
    {
     "data": {
      "image/png": "[encoded data removed]",
      "text/plain": [
       "<Figure size 432x288 with 1 Axes>"
      ]
     },
     "metadata": {},
     "output_type": "display_data"
    },
    {
     "data": {
      "image/png": "[encoded data removed]",
      "text/plain": [
       "<Figure size 432x288 with 1 Axes>"
      ]
     },
     "metadata": {},
     "output_type": "display_data"
    },
    {
     "data": {
      "image/png": "[encoded data removed]",
      "text/plain": [
       "<Figure size 432x288 with 1 Axes>"
      ]
     },
     "metadata": {},
     "output_type": "display_data"
    },
    {
     "data": {
      "image/png": "[encoded data removed]",
      "text/plain": [
       "<Figure size 432x288 with 1 Axes>"
      ]
     },
     "metadata": {},
     "output_type": "display_data"
    },
    {
     "data": {
      "image/png": "[encoded data removed]",
      "text/plain": [
       "<Figure size 432x288 with 1 Axes>"
      ]
     },
     "metadata": {},
     "output_type": "display_data"
    },
    {
     "data": {
      "image/png": "[encoded data removed]",
      "text/plain": [
       "<Figure size 432x288 with 1 Axes>"
      ]
     },
     "metadata": {},
     "output_type": "display_data"
    },
    {
     "data": {
      "image/png": "[encoded data removed]",
      "text/plain": [
       "<Figure size 432x288 with 1 Axes>"
      ]
     },
     "metadata": {},
     "output_type": "display_data"
    },
    {
     "data": {
      "image/png": "[encoded data removed]",
      "text/plain": [
       "<Figure size 432x288 with 1 Axes>"
      ]
     },
     "metadata": {},
     "output_type": "display_data"
    },
    {
     "data": {
      "image/png": "[encoded data removed]",
      "text/plain": [
       "<Figure size 432x288 with 1 Axes>"
      ]
     },
     "metadata": {},
     "output_type": "display_data"
    },
    {
     "data": {
      "image/png": "[encoded data removed]",
      "text/plain": [
       "<Figure size 432x288 with 1 Axes>"
      ]
     },
     "metadata": {},
     "output_type": "display_data"
    },
    {
     "data": {
      "image/png": "[encoded data removed]",
      "text/plain": [
       "<Figure size 432x288 with 1 Axes>"
      ]
     },
     "metadata": {},
     "output_type": "display_data"
    },
    {
     "data": {
      "image/png": "[encoded data removed]",
      "text/plain": [
       "<Figure size 432x288 with 1 Axes>"
      ]
     },
     "metadata": {},
     "output_type": "display_data"
    },
    {
     "data": {
      "image/png": "[encoded data removed]",
      "text/plain": [
       "<Figure size 432x288 with 1 Axes>"
      ]
     },
     "metadata": {},
     "output_type": "display_data"
    },
    {
     "data": {
      "image/png": "[encoded data removed]",
      "text/plain": [
       "<Figure size 432x288 with 1 Axes>"
      ]
     },
     "metadata": {},
     "output_type": "display_data"
    },
    {
     "data": {
      "image/png": "[encoded data removed]",
      "text/plain": [
       "<Figure size 432x288 with 1 Axes>"
      ]
     },
     "metadata": {},
     "output_type": "display_data"
    },
    {
     "data": {
      "image/png": "[encoded data removed]",
      "text/plain": [
       "<Figure size 432x288 with 1 Axes>"
      ]
     },
     "metadata": {},
     "output_type": "display_data"
    },
    {
     "data": {
      "image/png": "[encoded data removed]",
      "text/plain": [
       "<Figure size 432x288 with 1 Axes>"
      ]
     },
     "metadata": {},
     "output_type": "display_data"
    },
    {
     "data": {
      "image/png": "[encoded data removed]",
      "text/plain": [
       "<Figure size 432x288 with 1 Axes>"
      ]
     },
     "metadata": {},
     "output_type": "display_data"
    },
    {
     "data": {
      "image/png": "[encoded data removed]",
      "text/plain": [
       "<Figure size 432x288 with 1 Axes>"
      ]
     },
     "metadata": {},
     "output_type": "display_data"
    },
    {
     "data": {
      "image/png": "[encoded data removed]",
      "text/plain": [
       "<Figure size 432x288 with 1 Axes>"
      ]
     },
     "metadata": {},
     "output_type": "display_data"
    },
    {
     "data": {
      "image/png": "[encoded data removed]",
      "text/plain": [
       "<Figure size 432x288 with 1 Axes>"
      ]
     },
     "metadata": {},
     "output_type": "display_data"
    },
    {
     "data": {
      "image/png": "[encoded data removed]",
      "text/plain": [
       "<Figure size 432x288 with 1 Axes>"
      ]
     },
     "metadata": {},
     "output_type": "display_data"
    },
    {
     "data": {
      "image/png": "[encoded data removed]",
      "text/plain": [
       "<Figure size 432x288 with 1 Axes>"
      ]
     },
     "metadata": {},
     "output_type": "display_data"
    },
    {
     "data": {
      "image/png": "[encoded data removed]",
      "text/plain": [
       "<Figure size 432x288 with 1 Axes>"
      ]
     },
     "metadata": {},
     "output_type": "display_data"
    },
    {
     "data": {
      "image/png": "[encoded data removed]",
      "text/plain": [
       "<Figure size 432x288 with 1 Axes>"
      ]
     },
     "metadata": {},
     "output_type": "display_data"
    },
    {
     "data": {
      "image/png": "[encoded data removed]",
      "text/plain": [
       "<Figure size 432x288 with 1 Axes>"
      ]
     },
     "metadata": {},
     "output_type": "display_data"
    },
    {
     "data": {
      "image/png": "[encoded data removed]",
      "text/plain": [
       "<Figure size 432x288 with 1 Axes>"
      ]
     },
     "metadata": {},
     "output_type": "display_data"
    },
    {
     "data": {
      "image/png": "[encoded data removed]",
      "text/plain": [
       "<Figure size 432x288 with 1 Axes>"
      ]
     },
     "metadata": {},
     "output_type": "display_data"
    },
    {
     "data": {
      "image/png": "[encoded data removed]",
      "text/plain": [
       "<Figure size 432x288 with 1 Axes>"
      ]
     },
     "metadata": {},
     "output_type": "display_data"
    },
    {
     "data": {
      "image/png": "[encoded data removed]",
      "text/plain": [
       "<Figure size 432x288 with 1 Axes>"
      ]
     },
     "metadata": {},
     "output_type": "display_data"
    },
    {
     "data": {
      "image/png": "[encoded data removed]",
      "text/plain": [
       "<Figure size 432x288 with 1 Axes>"
      ]
     },
     "metadata": {},
     "output_type": "display_data"
    },
    {
     "data": {
      "image/png": "[encoded data removed]",
      "text/plain": [
       "<Figure size 432x288 with 1 Axes>"
      ]
     },
     "metadata": {},
     "output_type": "display_data"
    },
    {
     "data": {
      "image/png": "[encoded data removed]",
      "text/plain": [
       "<Figure size 432x288 with 1 Axes>"
      ]
     },
     "metadata": {},
     "output_type": "display_data"
    },
    {
     "data": {
      "image/png": "[encoded data removed]",
      "text/plain": [
       "<Figure size 432x288 with 1 Axes>"
      ]
     },
     "metadata": {},
     "output_type": "display_data"
    },
    {
     "data": {
      "image/png": "[encoded data removed]",
      "text/plain": [
       "<Figure size 432x288 with 1 Axes>"
      ]
     },
     "metadata": {},
     "output_type": "display_data"
    },
    {
     "data": {
      "image/png": "[encoded data removed]",
      "text/plain": [
       "<Figure size 432x288 with 1 Axes>"
      ]
     },
     "metadata": {},
     "output_type": "display_data"
    },
    {
     "data": {
      "image/png": "[encoded data removed]",
      "text/plain": [
       "<Figure size 432x288 with 1 Axes>"
      ]
     },
     "metadata": {},
     "output_type": "display_data"
    },
    {
     "data": {
      "image/png": "[encoded data removed]",
      "text/plain": [
       "<Figure size 432x288 with 1 Axes>"
      ]
     },
     "metadata": {},
     "output_type": "display_data"
    },
    {
     "data": {
      "image/png": "[encoded data removed]",
      "text/plain": [
       "<Figure size 432x288 with 1 Axes>"
      ]
     },
     "metadata": {},
     "output_type": "display_data"
    },
    {
     "data": {
      "image/png": "[encoded data removed]",
      "text/plain": [
       "<Figure size 432x288 with 1 Axes>"
      ]
     },
     "metadata": {},
     "output_type": "display_data"
    }
   ],
   "source": [
    "# plota cada característica categorica:\n",
    "for column in df.select_dtypes(include='object'):\n",
    "    if df[column].nunique() < 10:\n",
    "        sns.countplot(y=column, data=df)\n",
    "        plt.show()\n"
   ]
  },
  {
   "cell_type": "markdown",
   "id": "6a4589e7-5470-4971-af2e-a50eec07bbd2",
   "metadata": {
    "tags": []
   },
   "source": [
    "### Observações sobre a presença de valores faltantes:"
   ]
  },
  {
   "cell_type": "markdown",
   "id": "adb85687-5e03-4035-a0c7-44fa54c34013",
   "metadata": {},
   "source": [
    "Are there so many missing values for a variable that you should drop that variable from your dataset?\n"
   ]
  },
  {
   "cell_type": "code",
   "execution_count": 9,
   "id": "empirical-tradition",
   "metadata": {
    "tags": []
   },
   "outputs": [
    {
     "data": {
      "text/html": [
       "<div>\n",
       "<style scoped>\n",
       "    .dataframe tbody tr th:only-of-type {\n",
       "        vertical-align: middle;\n",
       "    }\n",
       "\n",
       "    .dataframe tbody tr th {\n",
       "        vertical-align: top;\n",
       "    }\n",
       "\n",
       "    .dataframe thead th {\n",
       "        text-align: right;\n",
       "    }\n",
       "</style>\n",
       "<table border=\"1\" class=\"dataframe\">\n",
       "  <thead>\n",
       "    <tr style=\"text-align: right;\">\n",
       "      <th></th>\n",
       "      <th>Total</th>\n",
       "      <th>Missing Percent</th>\n",
       "    </tr>\n",
       "  </thead>\n",
       "  <tbody>\n",
       "    <tr>\n",
       "      <th>1</th>\n",
       "      <td>575</td>\n",
       "      <td>95.673877</td>\n",
       "    </tr>\n",
       "    <tr>\n",
       "      <th>46</th>\n",
       "      <td>558</td>\n",
       "      <td>92.845258</td>\n",
       "    </tr>\n",
       "    <tr>\n",
       "      <th>48</th>\n",
       "      <td>558</td>\n",
       "      <td>92.845258</td>\n",
       "    </tr>\n",
       "    <tr>\n",
       "      <th>69</th>\n",
       "      <td>402</td>\n",
       "      <td>66.888519</td>\n",
       "    </tr>\n",
       "    <tr>\n",
       "      <th>79</th>\n",
       "      <td>375</td>\n",
       "      <td>62.396007</td>\n",
       "    </tr>\n",
       "    <tr>\n",
       "      <th>64</th>\n",
       "      <td>374</td>\n",
       "      <td>62.229617</td>\n",
       "    </tr>\n",
       "    <tr>\n",
       "      <th>78</th>\n",
       "      <td>367</td>\n",
       "      <td>61.064892</td>\n",
       "    </tr>\n",
       "    <tr>\n",
       "      <th>67</th>\n",
       "      <td>359</td>\n",
       "      <td>59.733777</td>\n",
       "    </tr>\n",
       "    <tr>\n",
       "      <th>68</th>\n",
       "      <td>359</td>\n",
       "      <td>59.733777</td>\n",
       "    </tr>\n",
       "    <tr>\n",
       "      <th>45</th>\n",
       "      <td>327</td>\n",
       "      <td>54.409318</td>\n",
       "    </tr>\n",
       "    <tr>\n",
       "      <th>40</th>\n",
       "      <td>302</td>\n",
       "      <td>50.249584</td>\n",
       "    </tr>\n",
       "    <tr>\n",
       "      <th>39</th>\n",
       "      <td>302</td>\n",
       "      <td>50.249584</td>\n",
       "    </tr>\n",
       "  </tbody>\n",
       "</table>\n",
       "</div>"
      ],
      "text/plain": [
       "    Total  Missing Percent\n",
       "1     575        95.673877\n",
       "46    558        92.845258\n",
       "48    558        92.845258\n",
       "69    402        66.888519\n",
       "79    375        62.396007\n",
       "64    374        62.229617\n",
       "78    367        61.064892\n",
       "67    359        59.733777\n",
       "68    359        59.733777\n",
       "45    327        54.409318\n",
       "40    302        50.249584\n",
       "39    302        50.249584"
      ]
     },
     "execution_count": 9,
     "metadata": {},
     "output_type": "execute_result"
    }
   ],
   "source": [
    "# mostra colunas com qtd de valores nulos maior que 50% dos possiveis registros: \n",
    "total = df.isnull().sum().sort_values(ascending=False)\n",
    "percent = (df.isnull().sum()/df.isnull().count()).sort_values(ascending=False)\n",
    "missing_data = pd.concat([total, percent], axis=1, keys=['Total', 'Missing Percent'])\n",
    "missing_data['Missing Percent'] = missing_data['Missing Percent'].apply(lambda x: x * 100)\n",
    "missing_data.loc[missing_data['Missing Percent'] > 50]\n"
   ]
  },
  {
   "cell_type": "code",
   "execution_count": 10,
   "id": "254a6817-d8ff-4026-9072-ae107f58cc39",
   "metadata": {
    "collapsed": true,
    "jupyter": {
     "outputs_hidden": true
    },
    "tags": []
   },
   "outputs": [
    {
     "data": {
      "text/plain": [
       "ccr      0\n",
       "1      575\n",
       "2        1\n",
       "3        0\n",
       "4        0\n",
       "5       22\n",
       "6        1\n",
       "7        0\n",
       "8        3\n",
       "9        6\n",
       "10       2\n",
       "11       3\n",
       "12      45\n",
       "13       9\n",
       "14       1\n",
       "15     219\n",
       "16     227\n",
       "17     219\n",
       "18     219\n",
       "19     262\n",
       "20     221\n",
       "21     219\n",
       "22     227\n",
       "23     229\n",
       "24     263\n",
       "25     220\n",
       "26     230\n",
       "27     220\n",
       "28     272\n",
       "31     287\n",
       "32     275\n",
       "33     289\n",
       "34     275\n",
       "35     290\n",
       "37     276\n",
       "38     278\n",
       "39     302\n",
       "40     302\n",
       "41     298\n",
       "42     283\n",
       "43     299\n",
       "44     281\n",
       "45     327\n",
       "46     558\n",
       "48     558\n",
       "49      69\n",
       "50      69\n",
       "51     289\n",
       "52     289\n",
       "53     293\n",
       "64     374\n",
       "65     289\n",
       "66     298\n",
       "67     359\n",
       "68     359\n",
       "69     402\n",
       "78     367\n",
       "79     375\n",
       "dtype: int64"
      ]
     },
     "execution_count": 10,
     "metadata": {},
     "output_type": "execute_result"
    }
   ],
   "source": [
    "# mostra dados faltantes em números:\n",
    "df.isnull().sum()"
   ]
  },
  {
   "cell_type": "code",
   "execution_count": null,
   "id": "36858252-5cde-470b-88f4-c238bed28f91",
   "metadata": {},
   "outputs": [],
   "source": [
    "# remove quaisquer colunas com mais de 15% de valores faltantes:\n",
    "# df = df.dropna(thresh=df.shape[0] * 0.85, axis=1)\n",
    "\n",
    "# remove quaisquer colunas com mais de 50% de valores faltantes:\n",
    "df = df.dropna(thresh=df.shape[0] * 0.5, axis=1)\n",
    "df.shape\n",
    "\n"
   ]
  },
  {
   "cell_type": "code",
   "execution_count": 13,
   "id": "3e44d213-e2cd-4375-a527-cc8ff51d3c27",
   "metadata": {
    "collapsed": true,
    "jupyter": {
     "outputs_hidden": true
    },
    "tags": []
   },
   "outputs": [
    {
     "name": "stdout",
     "output_type": "stream",
     "text": [
      "<class 'pandas.core.frame.DataFrame'>\n",
      "Int64Index: 601 entries, 2 to 763\n",
      "Data columns (total 58 columns):\n",
      " #   Column  Non-Null Count  Dtype \n",
      "---  ------  --------------  ----- \n",
      " 0   ccr     601 non-null    object\n",
      " 1   1       26 non-null     object\n",
      " 2   2       600 non-null    object\n",
      " 3   3       601 non-null    object\n",
      " 4   4       601 non-null    object\n",
      " 5   5       579 non-null    object\n",
      " 6   6       600 non-null    object\n",
      " 7   7       601 non-null    object\n",
      " 8   8       598 non-null    object\n",
      " 9   9       595 non-null    object\n",
      " 10  10      599 non-null    object\n",
      " 11  11      598 non-null    object\n",
      " 12  12      556 non-null    object\n",
      " 13  13      592 non-null    object\n",
      " 14  14      600 non-null    object\n",
      " 15  15      382 non-null    object\n",
      " 16  16      374 non-null    object\n",
      " 17  17      382 non-null    object\n",
      " 18  18      382 non-null    object\n",
      " 19  19      339 non-null    object\n",
      " 20  20      380 non-null    object\n",
      " 21  21      382 non-null    object\n",
      " 22  22      374 non-null    object\n",
      " 23  23      372 non-null    object\n",
      " 24  24      338 non-null    object\n",
      " 25  25      381 non-null    object\n",
      " 26  26      371 non-null    object\n",
      " 27  27      381 non-null    object\n",
      " 28  28      329 non-null    object\n",
      " 29  31      314 non-null    object\n",
      " 30  32      326 non-null    object\n",
      " 31  33      312 non-null    object\n",
      " 32  34      326 non-null    object\n",
      " 33  35      311 non-null    object\n",
      " 34  37      325 non-null    object\n",
      " 35  38      323 non-null    object\n",
      " 36  39      299 non-null    object\n",
      " 37  40      299 non-null    object\n",
      " 38  41      303 non-null    object\n",
      " 39  42      318 non-null    object\n",
      " 40  43      302 non-null    object\n",
      " 41  44      320 non-null    object\n",
      " 42  45      274 non-null    object\n",
      " 43  46      43 non-null     object\n",
      " 44  48      43 non-null     object\n",
      " 45  49      532 non-null    object\n",
      " 46  50      532 non-null    object\n",
      " 47  51      312 non-null    object\n",
      " 48  52      312 non-null    object\n",
      " 49  53      308 non-null    object\n",
      " 50  64      227 non-null    object\n",
      " 51  65      312 non-null    object\n",
      " 52  66      303 non-null    object\n",
      " 53  67      242 non-null    object\n",
      " 54  68      242 non-null    object\n",
      " 55  69      199 non-null    object\n",
      " 56  78      234 non-null    object\n",
      " 57  79      226 non-null    object\n",
      "dtypes: object(58)\n",
      "memory usage: 293.2+ KB\n"
     ]
    }
   ],
   "source": [
    "df.info()\n"
   ]
  },
  {
   "cell_type": "code",
   "execution_count": 14,
   "id": "46af2c36-db6e-4ff5-87ec-77ff6ec326e9",
   "metadata": {},
   "outputs": [
    {
     "data": {
      "text/plain": [
       "(601, 58)"
      ]
     },
     "execution_count": 14,
     "metadata": {},
     "output_type": "execute_result"
    }
   ],
   "source": [
    "df.shape\n"
   ]
  },
  {
   "cell_type": "code",
   "execution_count": 28,
   "id": "d33cffc1-59eb-4c48-a18a-666668086403",
   "metadata": {},
   "outputs": [
    {
     "data": {
      "text/html": [
       "<div>\n",
       "<style scoped>\n",
       "    .dataframe tbody tr th:only-of-type {\n",
       "        vertical-align: middle;\n",
       "    }\n",
       "\n",
       "    .dataframe tbody tr th {\n",
       "        vertical-align: top;\n",
       "    }\n",
       "\n",
       "    .dataframe thead th {\n",
       "        text-align: right;\n",
       "    }\n",
       "</style>\n",
       "<table border=\"1\" class=\"dataframe\">\n",
       "  <thead>\n",
       "    <tr style=\"text-align: right;\">\n",
       "      <th></th>\n",
       "      <th>ccr</th>\n",
       "      <th>1</th>\n",
       "      <th>2</th>\n",
       "      <th>3</th>\n",
       "      <th>4</th>\n",
       "      <th>5</th>\n",
       "      <th>6</th>\n",
       "      <th>7</th>\n",
       "      <th>8</th>\n",
       "      <th>9</th>\n",
       "      <th>...</th>\n",
       "      <th>52</th>\n",
       "      <th>53</th>\n",
       "      <th>64</th>\n",
       "      <th>65</th>\n",
       "      <th>66</th>\n",
       "      <th>67</th>\n",
       "      <th>68</th>\n",
       "      <th>69</th>\n",
       "      <th>78</th>\n",
       "      <th>79</th>\n",
       "    </tr>\n",
       "  </thead>\n",
       "  <tbody>\n",
       "    <tr>\n",
       "      <th>count</th>\n",
       "      <td>601</td>\n",
       "      <td>26</td>\n",
       "      <td>600</td>\n",
       "      <td>601</td>\n",
       "      <td>601</td>\n",
       "      <td>579</td>\n",
       "      <td>600</td>\n",
       "      <td>601</td>\n",
       "      <td>598</td>\n",
       "      <td>595</td>\n",
       "      <td>...</td>\n",
       "      <td>312</td>\n",
       "      <td>308</td>\n",
       "      <td>227</td>\n",
       "      <td>312</td>\n",
       "      <td>303</td>\n",
       "      <td>242</td>\n",
       "      <td>242</td>\n",
       "      <td>199</td>\n",
       "      <td>234</td>\n",
       "      <td>226</td>\n",
       "    </tr>\n",
       "    <tr>\n",
       "      <th>unique</th>\n",
       "      <td>601</td>\n",
       "      <td>4</td>\n",
       "      <td>7</td>\n",
       "      <td>6</td>\n",
       "      <td>5</td>\n",
       "      <td>5</td>\n",
       "      <td>6</td>\n",
       "      <td>5</td>\n",
       "      <td>4</td>\n",
       "      <td>6</td>\n",
       "      <td>...</td>\n",
       "      <td>2</td>\n",
       "      <td>2</td>\n",
       "      <td>2</td>\n",
       "      <td>2</td>\n",
       "      <td>2</td>\n",
       "      <td>2</td>\n",
       "      <td>3</td>\n",
       "      <td>3</td>\n",
       "      <td>2</td>\n",
       "      <td>2</td>\n",
       "    </tr>\n",
       "    <tr>\n",
       "      <th>top</th>\n",
       "      <td>UFT.2015(L)8501</td>\n",
       "      <td>+</td>\n",
       "      <td>+</td>\n",
       "      <td>+</td>\n",
       "      <td>+</td>\n",
       "      <td>+</td>\n",
       "      <td>+</td>\n",
       "      <td>+</td>\n",
       "      <td>-</td>\n",
       "      <td>-</td>\n",
       "      <td>...</td>\n",
       "      <td>+</td>\n",
       "      <td>-</td>\n",
       "      <td>-</td>\n",
       "      <td>-</td>\n",
       "      <td>-</td>\n",
       "      <td>-</td>\n",
       "      <td>-</td>\n",
       "      <td>+</td>\n",
       "      <td>-</td>\n",
       "      <td>-</td>\n",
       "    </tr>\n",
       "    <tr>\n",
       "      <th>freq</th>\n",
       "      <td>1</td>\n",
       "      <td>10</td>\n",
       "      <td>415</td>\n",
       "      <td>404</td>\n",
       "      <td>391</td>\n",
       "      <td>404</td>\n",
       "      <td>458</td>\n",
       "      <td>385</td>\n",
       "      <td>543</td>\n",
       "      <td>375</td>\n",
       "      <td>...</td>\n",
       "      <td>301</td>\n",
       "      <td>208</td>\n",
       "      <td>218</td>\n",
       "      <td>217</td>\n",
       "      <td>225</td>\n",
       "      <td>130</td>\n",
       "      <td>132</td>\n",
       "      <td>176</td>\n",
       "      <td>140</td>\n",
       "      <td>162</td>\n",
       "    </tr>\n",
       "  </tbody>\n",
       "</table>\n",
       "<p>4 rows × 58 columns</p>\n",
       "</div>"
      ],
      "text/plain": [
       "                    ccr   1    2    3    4    5    6    7    8    9  ...   52  \\\n",
       "count               601  26  600  601  601  579  600  601  598  595  ...  312   \n",
       "unique              601   4    7    6    5    5    6    5    4    6  ...    2   \n",
       "top     UFT.2015(L)8501   +    +    +    +    +    +    +    -    -  ...    +   \n",
       "freq                  1  10  415  404  391  404  458  385  543  375  ...  301   \n",
       "\n",
       "         53   64   65   66   67   68   69   78   79  \n",
       "count   308  227  312  303  242  242  199  234  226  \n",
       "unique    2    2    2    2    2    3    3    2    2  \n",
       "top       -    -    -    -    -    -    +    -    -  \n",
       "freq    208  218  217  225  130  132  176  140  162  \n",
       "\n",
       "[4 rows x 58 columns]"
      ]
     },
     "execution_count": 28,
     "metadata": {},
     "output_type": "execute_result"
    }
   ],
   "source": [
    "#df.describe(include = 'all') # so funciona para valores numericos\n",
    "df.describe(include = 'all')\n"
   ]
  },
  {
   "cell_type": "code",
   "execution_count": 29,
   "id": "44a7eb6b-d166-4598-99f2-2bfaf52a0854",
   "metadata": {},
   "outputs": [
    {
     "data": {
      "text/plain": [
       "0"
      ]
     },
     "execution_count": 29,
     "metadata": {},
     "output_type": "execute_result"
    }
   ],
   "source": [
    "# checa existência de objetos duplicados:\n",
    "df.duplicated().sum()\n"
   ]
  },
  {
   "cell_type": "code",
   "execution_count": null,
   "id": "89e4ec46-df67-4dab-92a5-90c0f52bd6f3",
   "metadata": {},
   "outputs": [],
   "source": [
    "# remove elementos duplicados (de uma copia do dataframe) -- caso fosse necessario, claro.\n",
    "# df1 = df.copy()\n",
    "# df1.drop_duplicates(inplace=True)\n"
   ]
  },
  {
   "cell_type": "markdown",
   "id": "8f0dac6a-72ac-400e-a08f-6e43fda026ed",
   "metadata": {},
   "source": [
    "Remoção das características que não atingiram limiar (treshold) preestabelecido:"
   ]
  },
  {
   "cell_type": "code",
   "execution_count": 51,
   "id": "41ec4419-1762-4db1-b831-f7322573d4a8",
   "metadata": {},
   "outputs": [],
   "source": [
    "# copia de segurança\n",
    "df1 = df.copy()\n"
   ]
  },
  {
   "cell_type": "code",
   "execution_count": 53,
   "id": "4c1488c4-2a5c-4c2e-a683-ebce5389456c",
   "metadata": {},
   "outputs": [
    {
     "data": {
      "text/html": [
       "<div>\n",
       "<style scoped>\n",
       "    .dataframe tbody tr th:only-of-type {\n",
       "        vertical-align: middle;\n",
       "    }\n",
       "\n",
       "    .dataframe tbody tr th {\n",
       "        vertical-align: top;\n",
       "    }\n",
       "\n",
       "    .dataframe thead th {\n",
       "        text-align: right;\n",
       "    }\n",
       "</style>\n",
       "<table border=\"1\" class=\"dataframe\">\n",
       "  <thead>\n",
       "    <tr style=\"text-align: right;\">\n",
       "      <th></th>\n",
       "      <th>ccr</th>\n",
       "      <th>2</th>\n",
       "      <th>3</th>\n",
       "      <th>4</th>\n",
       "      <th>5</th>\n",
       "      <th>6</th>\n",
       "      <th>7</th>\n",
       "      <th>8</th>\n",
       "      <th>9</th>\n",
       "      <th>10</th>\n",
       "      <th>...</th>\n",
       "      <th>41</th>\n",
       "      <th>42</th>\n",
       "      <th>44</th>\n",
       "      <th>49</th>\n",
       "      <th>50</th>\n",
       "      <th>51</th>\n",
       "      <th>52</th>\n",
       "      <th>53</th>\n",
       "      <th>65</th>\n",
       "      <th>66</th>\n",
       "    </tr>\n",
       "    <tr>\n",
       "      <th>id</th>\n",
       "      <th></th>\n",
       "      <th></th>\n",
       "      <th></th>\n",
       "      <th></th>\n",
       "      <th></th>\n",
       "      <th></th>\n",
       "      <th></th>\n",
       "      <th></th>\n",
       "      <th></th>\n",
       "      <th></th>\n",
       "      <th></th>\n",
       "      <th></th>\n",
       "      <th></th>\n",
       "      <th></th>\n",
       "      <th></th>\n",
       "      <th></th>\n",
       "      <th></th>\n",
       "      <th></th>\n",
       "      <th></th>\n",
       "      <th></th>\n",
       "      <th></th>\n",
       "    </tr>\n",
       "  </thead>\n",
       "  <tbody>\n",
       "    <tr>\n",
       "      <th>2</th>\n",
       "      <td>UFT.2015(L)8501</td>\n",
       "      <td>+</td>\n",
       "      <td>+</td>\n",
       "      <td>-</td>\n",
       "      <td>-</td>\n",
       "      <td>+</td>\n",
       "      <td>+</td>\n",
       "      <td>-</td>\n",
       "      <td>-</td>\n",
       "      <td>-</td>\n",
       "      <td>...</td>\n",
       "      <td>NaN</td>\n",
       "      <td>NaN</td>\n",
       "      <td>NaN</td>\n",
       "      <td>NaN</td>\n",
       "      <td>NaN</td>\n",
       "      <td>NaN</td>\n",
       "      <td>NaN</td>\n",
       "      <td>NaN</td>\n",
       "      <td>NaN</td>\n",
       "      <td>NaN</td>\n",
       "    </tr>\n",
       "    <tr>\n",
       "      <th>4</th>\n",
       "      <td>UFT.2015(L)8503</td>\n",
       "      <td>+</td>\n",
       "      <td>+</td>\n",
       "      <td>+w</td>\n",
       "      <td>+</td>\n",
       "      <td>+</td>\n",
       "      <td>-+</td>\n",
       "      <td>-</td>\n",
       "      <td>+w</td>\n",
       "      <td>+w</td>\n",
       "      <td>...</td>\n",
       "      <td>NaN</td>\n",
       "      <td>NaN</td>\n",
       "      <td>NaN</td>\n",
       "      <td>NaN</td>\n",
       "      <td>NaN</td>\n",
       "      <td>NaN</td>\n",
       "      <td>NaN</td>\n",
       "      <td>NaN</td>\n",
       "      <td>NaN</td>\n",
       "      <td>NaN</td>\n",
       "    </tr>\n",
       "    <tr>\n",
       "      <th>6</th>\n",
       "      <td>UFT.2015(L)8505</td>\n",
       "      <td>-+</td>\n",
       "      <td>+</td>\n",
       "      <td>-+</td>\n",
       "      <td>-+</td>\n",
       "      <td>-</td>\n",
       "      <td>+</td>\n",
       "      <td>-+</td>\n",
       "      <td>-</td>\n",
       "      <td>-</td>\n",
       "      <td>...</td>\n",
       "      <td>NaN</td>\n",
       "      <td>NaN</td>\n",
       "      <td>NaN</td>\n",
       "      <td>NaN</td>\n",
       "      <td>NaN</td>\n",
       "      <td>NaN</td>\n",
       "      <td>NaN</td>\n",
       "      <td>NaN</td>\n",
       "      <td>NaN</td>\n",
       "      <td>NaN</td>\n",
       "    </tr>\n",
       "  </tbody>\n",
       "</table>\n",
       "<p>3 rows × 45 columns</p>\n",
       "</div>"
      ],
      "text/plain": [
       "                ccr   2  3   4   5  6   7   8   9  10  ...   41   42   44  \\\n",
       "id                                                     ...                  \n",
       "2   UFT.2015(L)8501   +  +   -   -  +   +   -   -   -  ...  NaN  NaN  NaN   \n",
       "4   UFT.2015(L)8503   +  +  +w   +  +  -+   -  +w  +w  ...  NaN  NaN  NaN   \n",
       "6   UFT.2015(L)8505  -+  +  -+  -+  -   +  -+   -   -  ...  NaN  NaN  NaN   \n",
       "\n",
       "     49   50   51   52   53   65   66  \n",
       "id                                     \n",
       "2   NaN  NaN  NaN  NaN  NaN  NaN  NaN  \n",
       "4   NaN  NaN  NaN  NaN  NaN  NaN  NaN  \n",
       "6   NaN  NaN  NaN  NaN  NaN  NaN  NaN  \n",
       "\n",
       "[3 rows x 45 columns]"
      ]
     },
     "execution_count": 53,
     "metadata": {},
     "output_type": "execute_result"
    }
   ],
   "source": [
    "# remove colunas (axis=1) que não possuam ao menos 303 celulas preenchidas\n",
    "# 303 celulas preenchidas é equivalente a ter mais de 50% de preenchimento dos dados\n",
    "df1.dropna(axis=1, thresh=303, inplace=True)\n",
    "\n",
    "# outra forma de fazer, dessa vez atribuindo uma porcentagem ao treshold\n",
    "# pct_null = df.isnull().sum() / len(df)\n",
    "# missing_features = pct_null[pct_null > 0.80].index\n",
    "\n",
    "df1.head(3)\n"
   ]
  },
  {
   "cell_type": "code",
   "execution_count": 54,
   "id": "2863f4a9-13f5-4dcf-833d-e5d27993cdc4",
   "metadata": {},
   "outputs": [
    {
     "data": {
      "text/plain": [
       "(601, 45)"
      ]
     },
     "execution_count": 54,
     "metadata": {},
     "output_type": "execute_result"
    }
   ],
   "source": [
    "# visto que aquelas 12 colunas foram removidas\n",
    "df1.shape"
   ]
  },
  {
   "cell_type": "code",
   "execution_count": 55,
   "id": "fd713d43-eadd-4416-88ec-d1b5f513c5f8",
   "metadata": {},
   "outputs": [
    {
     "data": {
      "text/plain": [
       "0"
      ]
     },
     "execution_count": 55,
     "metadata": {},
     "output_type": "execute_result"
    }
   ],
   "source": [
    "# checa novamente por objetos duplicados\n",
    "df1.duplicated().sum()\n"
   ]
  },
  {
   "cell_type": "raw",
   "id": "01910b10-20a0-4faf-965e-998c0917947c",
   "metadata": {},
   "source": []
  },
  {
   "cell_type": "markdown",
   "id": "cc42e481-369e-4d01-9b1c-ae753ff3c00e",
   "metadata": {},
   "source": [
    "Verificar colunas com baixa cardinalidade (com cardinalidade igual a 1). Colunas cujos valores não possuem variação não contribuem para algoritmo de agrupamento; \n"
   ]
  },
  {
   "cell_type": "markdown",
   "id": "c2354768-8f2f-49f7-8bfa-48f149d03820",
   "metadata": {},
   "source": [
    "Apenas uma coluna apresenta cardinalidade == 1. Coluna correspondente ao composto 48. \n",
    "Já removido na operação anterior por apresentar 92% dos dados faltantes.\n"
   ]
  },
  {
   "cell_type": "code",
   "execution_count": 56,
   "id": "f5927e91-86f6-4e55-b83d-643bd718134a",
   "metadata": {},
   "outputs": [],
   "source": [
    "# salva estado atual do dataframe1 em arquivo CSV:\n",
    "df1.to_csv('03 - reacoes_col_removidas.csv')\n"
   ]
  },
  {
   "cell_type": "code",
   "execution_count": 59,
   "id": "f96df34c-5ac0-4cf2-bdc9-910f7db7bf75",
   "metadata": {
    "collapsed": true,
    "jupyter": {
     "outputs_hidden": true
    },
    "tags": []
   },
   "outputs": [
    {
     "data": {
      "text/html": [
       "<div>\n",
       "<style scoped>\n",
       "    .dataframe tbody tr th:only-of-type {\n",
       "        vertical-align: middle;\n",
       "    }\n",
       "\n",
       "    .dataframe tbody tr th {\n",
       "        vertical-align: top;\n",
       "    }\n",
       "\n",
       "    .dataframe thead th {\n",
       "        text-align: right;\n",
       "    }\n",
       "</style>\n",
       "<table border=\"1\" class=\"dataframe\">\n",
       "  <thead>\n",
       "    <tr style=\"text-align: right;\">\n",
       "      <th></th>\n",
       "      <th>Total</th>\n",
       "      <th>Missing Percent</th>\n",
       "    </tr>\n",
       "  </thead>\n",
       "  <tbody>\n",
       "    <tr>\n",
       "      <th>66</th>\n",
       "      <td>298</td>\n",
       "      <td>49.584027</td>\n",
       "    </tr>\n",
       "    <tr>\n",
       "      <th>41</th>\n",
       "      <td>298</td>\n",
       "      <td>49.584027</td>\n",
       "    </tr>\n",
       "    <tr>\n",
       "      <th>53</th>\n",
       "      <td>293</td>\n",
       "      <td>48.752080</td>\n",
       "    </tr>\n",
       "    <tr>\n",
       "      <th>35</th>\n",
       "      <td>290</td>\n",
       "      <td>48.252912</td>\n",
       "    </tr>\n",
       "    <tr>\n",
       "      <th>65</th>\n",
       "      <td>289</td>\n",
       "      <td>48.086522</td>\n",
       "    </tr>\n",
       "    <tr>\n",
       "      <th>52</th>\n",
       "      <td>289</td>\n",
       "      <td>48.086522</td>\n",
       "    </tr>\n",
       "    <tr>\n",
       "      <th>51</th>\n",
       "      <td>289</td>\n",
       "      <td>48.086522</td>\n",
       "    </tr>\n",
       "    <tr>\n",
       "      <th>33</th>\n",
       "      <td>289</td>\n",
       "      <td>48.086522</td>\n",
       "    </tr>\n",
       "    <tr>\n",
       "      <th>31</th>\n",
       "      <td>287</td>\n",
       "      <td>47.753744</td>\n",
       "    </tr>\n",
       "    <tr>\n",
       "      <th>42</th>\n",
       "      <td>283</td>\n",
       "      <td>47.088186</td>\n",
       "    </tr>\n",
       "    <tr>\n",
       "      <th>44</th>\n",
       "      <td>281</td>\n",
       "      <td>46.755408</td>\n",
       "    </tr>\n",
       "    <tr>\n",
       "      <th>38</th>\n",
       "      <td>278</td>\n",
       "      <td>46.256240</td>\n",
       "    </tr>\n",
       "    <tr>\n",
       "      <th>37</th>\n",
       "      <td>276</td>\n",
       "      <td>45.923461</td>\n",
       "    </tr>\n",
       "    <tr>\n",
       "      <th>34</th>\n",
       "      <td>275</td>\n",
       "      <td>45.757072</td>\n",
       "    </tr>\n",
       "    <tr>\n",
       "      <th>32</th>\n",
       "      <td>275</td>\n",
       "      <td>45.757072</td>\n",
       "    </tr>\n",
       "    <tr>\n",
       "      <th>28</th>\n",
       "      <td>272</td>\n",
       "      <td>45.257903</td>\n",
       "    </tr>\n",
       "    <tr>\n",
       "      <th>24</th>\n",
       "      <td>263</td>\n",
       "      <td>43.760399</td>\n",
       "    </tr>\n",
       "    <tr>\n",
       "      <th>19</th>\n",
       "      <td>262</td>\n",
       "      <td>43.594010</td>\n",
       "    </tr>\n",
       "  </tbody>\n",
       "</table>\n",
       "</div>"
      ],
      "text/plain": [
       "    Total  Missing Percent\n",
       "66    298        49.584027\n",
       "41    298        49.584027\n",
       "53    293        48.752080\n",
       "35    290        48.252912\n",
       "65    289        48.086522\n",
       "52    289        48.086522\n",
       "51    289        48.086522\n",
       "33    289        48.086522\n",
       "31    287        47.753744\n",
       "42    283        47.088186\n",
       "44    281        46.755408\n",
       "38    278        46.256240\n",
       "37    276        45.923461\n",
       "34    275        45.757072\n",
       "32    275        45.757072\n",
       "28    272        45.257903\n",
       "24    263        43.760399\n",
       "19    262        43.594010"
      ]
     },
     "execution_count": 59,
     "metadata": {},
     "output_type": "execute_result"
    }
   ],
   "source": [
    "# ainda temos valores nulos, vamos vê-los:\n",
    "\n",
    "# mostra colunas com qtd de valores faltantes maior que 40%\n",
    "total = df1.isnull().sum().sort_values(ascending=False)\n",
    "percent = (df1.isnull().sum()/df1.isnull().count()).sort_values(ascending=False)\n",
    "missing_data = pd.concat([total, percent], axis=1, keys=['Total', 'Missing Percent'])\n",
    "missing_data['Missing Percent'] = missing_data['Missing Percent'].apply(lambda x: x * 100)\n",
    "missing_data.loc[missing_data['Missing Percent'] > 40]\n"
   ]
  },
  {
   "cell_type": "code",
   "execution_count": 61,
   "id": "0a6fed34-ee09-4aeb-b660-3c94f0ca749a",
   "metadata": {},
   "outputs": [
    {
     "data": {
      "image/png": "[encoded data removed]",
      "text/plain": [
       "<Figure size 720x720 with 2 Axes>"
      ]
     },
     "metadata": {},
     "output_type": "display_data"
    }
   ],
   "source": [
    "# mostra valores faltantes dentro de uma amostra dos dados:\n",
    "# salva grafico na raiz do diretório\n",
    "fig, ax = plt.subplots(figsize=(10,10))  \n",
    "mapa_calor = sns.heatmap(df1.isnull(),\n",
    "            cbar_kws={'label': 'Dados Faltantes'}, vmin=0, vmax=1)\n",
    "ax.set(xlabel='Composto', ylabel='Isolado')\n",
    "\n",
    "fig = mapa_calor.get_figure()\n",
    "fig.savefig('valores_faltantes2.png', dpi=300)\n",
    "\n",
    "plt.show()"
   ]
  },
  {
   "cell_type": "markdown",
   "id": "90434775-cd0c-4e08-9d08-9da44cf249ee",
   "metadata": {},
   "source": [
    "### 4 - Como tratar essa grande qtd de valores faltantes???\n",
    "1. Ignorar, tratar values faltantes com o vector de zeros do **Dummie Enconding**;\n",
    "2. Remover todos e tratar registros como linhas de uma matriz *'banguela'*;\n",
    "3. Converter esses valores para uma representação qualquer: fill in the missing values --converter e depois remover;\n",
    "4. Usar interpolação (**Impute**): decidir, de maneira inteligente o que deverá substituir o espaço em branco --geralmente utiliza-se o valor de maior frequência/moda (para variáveis categóricas) ou a média (para variáveis numéricas);\n"
   ]
  },
  {
   "cell_type": "code",
   "execution_count": null,
   "id": "8b0161ee-6775-45c4-a8e3-768a1818266e",
   "metadata": {},
   "outputs": [],
   "source": [
    "# 4.1. Ignorar valores nulos e tratar tudo com o One Hot Encoding:\n",
    "\n",
    "from sklearn.preprocessing import LabelEncoder, OneHotEncoder\n"
   ]
  },
  {
   "cell_type": "code",
   "execution_count": null,
   "id": "df4824f6-efbd-470d-aedc-41d466eeadb4",
   "metadata": {},
   "outputs": [],
   "source": [
    "data.columns\n"
   ]
  },
  {
   "cell_type": "code",
   "execution_count": null,
   "id": "2c46b6f4-4bc5-42c7-bf07-55f996aff1a2",
   "metadata": {},
   "outputs": [],
   "source": [
    "data.head(3)\n"
   ]
  },
  {
   "cell_type": "code",
   "execution_count": null,
   "id": "387f9153-70ae-452a-8f28-0d0e781af2d6",
   "metadata": {},
   "outputs": [],
   "source": [
    "# colunas para transformar: todas, exceto a coluna de índice (coluna zero)\n",
    "# data[:-1]\n",
    "\n",
    "data_encoded = pd.get_dummies(data, prefix=data.columns, prefix_sep=' ', dummy_na=False)\n",
    "\n",
    "# a diferenca esta no drop_firt=True\n",
    "# este parametro permite que o dataframe fique mais enxuto gerando k-1 registros no One-Hot-Encoding:\n",
    "# o uso do drop_first permite que o encoding utilizado seja o verdadeiro dunny encoding (sem el o metodo faz o one hot encoding)\n",
    "# data_encoded2 = pd.get_dummies(data, prefix=data.columns, prefix_sep=' ', dummy_na=False, drop_first=True)\n"
   ]
  },
  {
   "cell_type": "code",
   "execution_count": null,
   "id": "f6c6ade6-d6ad-4862-8e18-4c7959c4a3cd",
   "metadata": {},
   "outputs": [],
   "source": [
    "data_encoded.head(7)\n"
   ]
  },
  {
   "cell_type": "code",
   "execution_count": null,
   "id": "4dda93d0-410b-40a1-ae85-b47400dbda07",
   "metadata": {},
   "outputs": [],
   "source": [
    "data_encoded.shape # não é um metodo .shape() e sim uma propriedade .shape\n"
   ]
  },
  {
   "cell_type": "code",
   "execution_count": null,
   "id": "3fd4e62f-4495-41bd-9ea1-dc1cfb8121db",
   "metadata": {},
   "outputs": [],
   "source": [
    "# salva estado atual do dataframe em arquivo CSV:\n",
    "data_encoded.to_csv('04 - reacoes_one-hot_encoded.csv')\n"
   ]
  },
  {
   "cell_type": "code",
   "execution_count": null,
   "id": "440a1a18-6dd0-42bd-b65c-8ed366efe9ba",
   "metadata": {},
   "outputs": [],
   "source": [
    "# gera o dataframe resultante do verdadeiro dummy_encoding:\n",
    "\n",
    "data_encoded2 = pd.get_dummies(data, prefix=data.columns, prefix_sep=' ', dummy_na=False, drop_first=True)\n",
    "\n",
    "# salva estado atual do dataframe em arquivo CSV:\n",
    "data_encoded2.to_csv('04 - reacoes_dummy_encoded.csv')\n"
   ]
  },
  {
   "cell_type": "code",
   "execution_count": null,
   "id": "a024a0e0-f23c-463c-bfb9-0aa95f17f1a2",
   "metadata": {},
   "outputs": [],
   "source": [
    "data_encoded2.head()\n"
   ]
  },
  {
   "cell_type": "code",
   "execution_count": null,
   "id": "93bc6a98-89ea-4e07-9f63-5eb00c25e950",
   "metadata": {},
   "outputs": [],
   "source": [
    "# 4.2 - TODO: construção da Matriz 'Banguela':\n",
    "# Por enquanto, basta deixar como está. A dificuldade é encontrar um algoritmo que consiga trabalhar com este tipo de entrada de dados.\n",
    "# Regras de Associação aceitam bem esse tipo de tabela cheia de 'furos'.\n",
    "data.sample(3)\n"
   ]
  },
  {
   "cell_type": "code",
   "execution_count": 63,
   "id": "962c53b6-bacf-42bd-b740-f191c54cf399",
   "metadata": {},
   "outputs": [
    {
     "data": {
      "text/html": [
       "<div>\n",
       "<style scoped>\n",
       "    .dataframe tbody tr th:only-of-type {\n",
       "        vertical-align: middle;\n",
       "    }\n",
       "\n",
       "    .dataframe tbody tr th {\n",
       "        vertical-align: top;\n",
       "    }\n",
       "\n",
       "    .dataframe thead th {\n",
       "        text-align: right;\n",
       "    }\n",
       "</style>\n",
       "<table border=\"1\" class=\"dataframe\">\n",
       "  <thead>\n",
       "    <tr style=\"text-align: right;\">\n",
       "      <th></th>\n",
       "      <th>ccr</th>\n",
       "      <th>2</th>\n",
       "      <th>3</th>\n",
       "      <th>4</th>\n",
       "      <th>5</th>\n",
       "      <th>6</th>\n",
       "      <th>7</th>\n",
       "      <th>8</th>\n",
       "      <th>9</th>\n",
       "      <th>10</th>\n",
       "      <th>...</th>\n",
       "      <th>41</th>\n",
       "      <th>42</th>\n",
       "      <th>44</th>\n",
       "      <th>49</th>\n",
       "      <th>50</th>\n",
       "      <th>51</th>\n",
       "      <th>52</th>\n",
       "      <th>53</th>\n",
       "      <th>65</th>\n",
       "      <th>66</th>\n",
       "    </tr>\n",
       "    <tr>\n",
       "      <th>id</th>\n",
       "      <th></th>\n",
       "      <th></th>\n",
       "      <th></th>\n",
       "      <th></th>\n",
       "      <th></th>\n",
       "      <th></th>\n",
       "      <th></th>\n",
       "      <th></th>\n",
       "      <th></th>\n",
       "      <th></th>\n",
       "      <th></th>\n",
       "      <th></th>\n",
       "      <th></th>\n",
       "      <th></th>\n",
       "      <th></th>\n",
       "      <th></th>\n",
       "      <th></th>\n",
       "      <th></th>\n",
       "      <th></th>\n",
       "      <th></th>\n",
       "      <th></th>\n",
       "    </tr>\n",
       "  </thead>\n",
       "  <tbody>\n",
       "    <tr>\n",
       "      <th>2</th>\n",
       "      <td>UFT.2015(L)8501</td>\n",
       "      <td>+</td>\n",
       "      <td>+</td>\n",
       "      <td>-</td>\n",
       "      <td>-</td>\n",
       "      <td>+</td>\n",
       "      <td>+</td>\n",
       "      <td>-</td>\n",
       "      <td>-</td>\n",
       "      <td>-</td>\n",
       "      <td>...</td>\n",
       "      <td>NaN</td>\n",
       "      <td>NaN</td>\n",
       "      <td>NaN</td>\n",
       "      <td>NaN</td>\n",
       "      <td>NaN</td>\n",
       "      <td>NaN</td>\n",
       "      <td>NaN</td>\n",
       "      <td>NaN</td>\n",
       "      <td>NaN</td>\n",
       "      <td>NaN</td>\n",
       "    </tr>\n",
       "    <tr>\n",
       "      <th>4</th>\n",
       "      <td>UFT.2015(L)8503</td>\n",
       "      <td>+</td>\n",
       "      <td>+</td>\n",
       "      <td>+w</td>\n",
       "      <td>+</td>\n",
       "      <td>+</td>\n",
       "      <td>-+</td>\n",
       "      <td>-</td>\n",
       "      <td>+w</td>\n",
       "      <td>+w</td>\n",
       "      <td>...</td>\n",
       "      <td>NaN</td>\n",
       "      <td>NaN</td>\n",
       "      <td>NaN</td>\n",
       "      <td>NaN</td>\n",
       "      <td>NaN</td>\n",
       "      <td>NaN</td>\n",
       "      <td>NaN</td>\n",
       "      <td>NaN</td>\n",
       "      <td>NaN</td>\n",
       "      <td>NaN</td>\n",
       "    </tr>\n",
       "    <tr>\n",
       "      <th>6</th>\n",
       "      <td>UFT.2015(L)8505</td>\n",
       "      <td>-+</td>\n",
       "      <td>+</td>\n",
       "      <td>-+</td>\n",
       "      <td>-+</td>\n",
       "      <td>-</td>\n",
       "      <td>+</td>\n",
       "      <td>-+</td>\n",
       "      <td>-</td>\n",
       "      <td>-</td>\n",
       "      <td>...</td>\n",
       "      <td>NaN</td>\n",
       "      <td>NaN</td>\n",
       "      <td>NaN</td>\n",
       "      <td>NaN</td>\n",
       "      <td>NaN</td>\n",
       "      <td>NaN</td>\n",
       "      <td>NaN</td>\n",
       "      <td>NaN</td>\n",
       "      <td>NaN</td>\n",
       "      <td>NaN</td>\n",
       "    </tr>\n",
       "  </tbody>\n",
       "</table>\n",
       "<p>3 rows × 45 columns</p>\n",
       "</div>"
      ],
      "text/plain": [
       "                ccr   2  3   4   5  6   7   8   9  10  ...   41   42   44  \\\n",
       "id                                                     ...                  \n",
       "2   UFT.2015(L)8501   +  +   -   -  +   +   -   -   -  ...  NaN  NaN  NaN   \n",
       "4   UFT.2015(L)8503   +  +  +w   +  +  -+   -  +w  +w  ...  NaN  NaN  NaN   \n",
       "6   UFT.2015(L)8505  -+  +  -+  -+  -   +  -+   -   -  ...  NaN  NaN  NaN   \n",
       "\n",
       "     49   50   51   52   53   65   66  \n",
       "id                                     \n",
       "2   NaN  NaN  NaN  NaN  NaN  NaN  NaN  \n",
       "4   NaN  NaN  NaN  NaN  NaN  NaN  NaN  \n",
       "6   NaN  NaN  NaN  NaN  NaN  NaN  NaN  \n",
       "\n",
       "[3 rows x 45 columns]"
      ]
     },
     "execution_count": 63,
     "metadata": {},
     "output_type": "execute_result"
    }
   ],
   "source": [
    "# 4.3 - TODO:\n",
    "df3 = pd.read_csv('data/03 - reacoes_col_removidas.csv', index_col='id',)\n",
    "df3.head(3)\n"
   ]
  },
  {
   "cell_type": "code",
   "execution_count": 65,
   "id": "213f9fb0-5150-483f-a288-1ed6ac09041d",
   "metadata": {},
   "outputs": [
    {
     "data": {
      "text/html": [
       "<div>\n",
       "<style scoped>\n",
       "    .dataframe tbody tr th:only-of-type {\n",
       "        vertical-align: middle;\n",
       "    }\n",
       "\n",
       "    .dataframe tbody tr th {\n",
       "        vertical-align: top;\n",
       "    }\n",
       "\n",
       "    .dataframe thead th {\n",
       "        text-align: right;\n",
       "    }\n",
       "</style>\n",
       "<table border=\"1\" class=\"dataframe\">\n",
       "  <thead>\n",
       "    <tr style=\"text-align: right;\">\n",
       "      <th></th>\n",
       "      <th>ccr</th>\n",
       "      <th>2</th>\n",
       "      <th>3</th>\n",
       "      <th>4</th>\n",
       "      <th>5</th>\n",
       "      <th>6</th>\n",
       "      <th>7</th>\n",
       "      <th>8</th>\n",
       "      <th>9</th>\n",
       "      <th>10</th>\n",
       "      <th>...</th>\n",
       "      <th>41</th>\n",
       "      <th>42</th>\n",
       "      <th>44</th>\n",
       "      <th>49</th>\n",
       "      <th>50</th>\n",
       "      <th>51</th>\n",
       "      <th>52</th>\n",
       "      <th>53</th>\n",
       "      <th>65</th>\n",
       "      <th>66</th>\n",
       "    </tr>\n",
       "    <tr>\n",
       "      <th>id</th>\n",
       "      <th></th>\n",
       "      <th></th>\n",
       "      <th></th>\n",
       "      <th></th>\n",
       "      <th></th>\n",
       "      <th></th>\n",
       "      <th></th>\n",
       "      <th></th>\n",
       "      <th></th>\n",
       "      <th></th>\n",
       "      <th></th>\n",
       "      <th></th>\n",
       "      <th></th>\n",
       "      <th></th>\n",
       "      <th></th>\n",
       "      <th></th>\n",
       "      <th></th>\n",
       "      <th></th>\n",
       "      <th></th>\n",
       "      <th></th>\n",
       "      <th></th>\n",
       "    </tr>\n",
       "  </thead>\n",
       "  <tbody>\n",
       "    <tr>\n",
       "      <th>2</th>\n",
       "      <td>UFT.2015(L)8501</td>\n",
       "      <td>+</td>\n",
       "      <td>+</td>\n",
       "      <td>-</td>\n",
       "      <td>-</td>\n",
       "      <td>+</td>\n",
       "      <td>+</td>\n",
       "      <td>-</td>\n",
       "      <td>-</td>\n",
       "      <td>-</td>\n",
       "      <td>...</td>\n",
       "      <td>*</td>\n",
       "      <td>*</td>\n",
       "      <td>*</td>\n",
       "      <td>*</td>\n",
       "      <td>*</td>\n",
       "      <td>*</td>\n",
       "      <td>*</td>\n",
       "      <td>*</td>\n",
       "      <td>*</td>\n",
       "      <td>*</td>\n",
       "    </tr>\n",
       "    <tr>\n",
       "      <th>4</th>\n",
       "      <td>UFT.2015(L)8503</td>\n",
       "      <td>+</td>\n",
       "      <td>+</td>\n",
       "      <td>+w</td>\n",
       "      <td>+</td>\n",
       "      <td>+</td>\n",
       "      <td>-+</td>\n",
       "      <td>-</td>\n",
       "      <td>+w</td>\n",
       "      <td>+w</td>\n",
       "      <td>...</td>\n",
       "      <td>*</td>\n",
       "      <td>*</td>\n",
       "      <td>*</td>\n",
       "      <td>*</td>\n",
       "      <td>*</td>\n",
       "      <td>*</td>\n",
       "      <td>*</td>\n",
       "      <td>*</td>\n",
       "      <td>*</td>\n",
       "      <td>*</td>\n",
       "    </tr>\n",
       "    <tr>\n",
       "      <th>6</th>\n",
       "      <td>UFT.2015(L)8505</td>\n",
       "      <td>-+</td>\n",
       "      <td>+</td>\n",
       "      <td>-+</td>\n",
       "      <td>-+</td>\n",
       "      <td>-</td>\n",
       "      <td>+</td>\n",
       "      <td>-+</td>\n",
       "      <td>-</td>\n",
       "      <td>-</td>\n",
       "      <td>...</td>\n",
       "      <td>*</td>\n",
       "      <td>*</td>\n",
       "      <td>*</td>\n",
       "      <td>*</td>\n",
       "      <td>*</td>\n",
       "      <td>*</td>\n",
       "      <td>*</td>\n",
       "      <td>*</td>\n",
       "      <td>*</td>\n",
       "      <td>*</td>\n",
       "    </tr>\n",
       "  </tbody>\n",
       "</table>\n",
       "<p>3 rows × 45 columns</p>\n",
       "</div>"
      ],
      "text/plain": [
       "                ccr   2  3   4   5  6   7   8   9  10  ... 41 42 44 49 50 51  \\\n",
       "id                                                     ...                     \n",
       "2   UFT.2015(L)8501   +  +   -   -  +   +   -   -   -  ...  *  *  *  *  *  *   \n",
       "4   UFT.2015(L)8503   +  +  +w   +  +  -+   -  +w  +w  ...  *  *  *  *  *  *   \n",
       "6   UFT.2015(L)8505  -+  +  -+  -+  -   +  -+   -   -  ...  *  *  *  *  *  *   \n",
       "\n",
       "   52 53 65 66  \n",
       "id              \n",
       "2   *  *  *  *  \n",
       "4   *  *  *  *  \n",
       "6   *  *  *  *  \n",
       "\n",
       "[3 rows x 45 columns]"
      ]
     },
     "execution_count": 65,
     "metadata": {},
     "output_type": "execute_result"
    }
   ],
   "source": [
    "# preenche as celulas vazias com indicador '*'\n",
    "df3.fillna('*', inplace=True)\n",
    "df3.head(3)\n"
   ]
  },
  {
   "cell_type": "code",
   "execution_count": 66,
   "id": "f1c830db-02a6-4ee5-a782-e6c2f1d5a0d5",
   "metadata": {},
   "outputs": [],
   "source": [
    "# nenhum dado faltante, necessitando apenas o encode\n",
    "df3.to_csv('5 - reacoes_fillna.csv')\n"
   ]
  },
  {
   "cell_type": "code",
   "execution_count": null,
   "id": "7939749e-aa80-4c60-bb67-d8e85bc0e0a5",
   "metadata": {},
   "outputs": [],
   "source": [
    "# 4.4 - TODO:\n",
    "\n"
   ]
  },
  {
   "cell_type": "raw",
   "id": "aca598b5-ca8d-4a00-9ff8-2dc68e9c4f45",
   "metadata": {},
   "source": []
  },
  {
   "cell_type": "markdown",
   "id": "5eba6e2d-aeda-4213-8589-db0146f0cb61",
   "metadata": {},
   "source": [
    "### Construção de EDA automatizados"
   ]
  },
  {
   "cell_type": "markdown",
   "id": "36bec5be-bc67-4e5b-b596-acc51376b5f7",
   "metadata": {},
   "source": [
    "1. Pandas Profiling\n",
    "2. SweetViz\n",
    "3. DataPrep\n",
    "4. AutoViz"
   ]
  },
  {
   "cell_type": "code",
   "execution_count": null,
   "id": "77dcdbaf-5ede-4991-8849-7f5792d2d591",
   "metadata": {},
   "outputs": [],
   "source": [
    "from pandas_profiling import ProfileReport\n",
    "import sweetviz as sv\n",
    "from dataprep.eda import create_report\n",
    "from autoviz.AutoViz_Class import AutoViz_Class\n"
   ]
  },
  {
   "cell_type": "code",
   "execution_count": null,
   "id": "375db898-6e70-4ca3-b277-547b83126264",
   "metadata": {},
   "outputs": [],
   "source": [
    "# Relatório do Pandas Profiling\n",
    "\n",
    "relatorio_inicial = ProfileReport(df, title=\"Reações - Relatorio Inicial\", correlations={\"cramers\": {\"calculate\": False}})\n",
    "\n",
    "relatorio_inicial.to_widgets()\n",
    "\n",
    "relatorio_inicial.to_file(\"01 - relatorio-inicial_reacoes.html\")"
   ]
  },
  {
   "cell_type": "code",
   "execution_count": null,
   "id": "ebb6ea67-83b3-4ccd-9f8f-a39e41fc6053",
   "metadata": {},
   "outputs": [],
   "source": [
    "# Relatório do Pandas Profiling, novamente:\n",
    "relatorio_final = ProfileReport(data_encoded2, title=\"Reações - Relatorio Encoded\", correlations={\"cramers\": {\"calculate\": False}})\n",
    "\n",
    "relatorio_final.to_widgets()\n"
   ]
  },
  {
   "cell_type": "code",
   "execution_count": null,
   "id": "98923459-c6d0-4e02-9549-4975f2c6db3e",
   "metadata": {},
   "outputs": [],
   "source": []
  },
  {
   "cell_type": "code",
   "execution_count": null,
   "id": "bdd5ca6c-493f-4e38-bb93-3b41ab008421",
   "metadata": {},
   "outputs": [],
   "source": []
  },
  {
   "cell_type": "code",
   "execution_count": null,
   "id": "dede39a6-895a-44a5-a3ed-804d65224420",
   "metadata": {},
   "outputs": [],
   "source": []
  }
 ],
 "metadata": {
  "kernelspec": {
   "display_name": "Python 3 (ipykernel)",
   "language": "python",
   "name": "python3"
  },
  "language_info": {
   "codemirror_mode": {
    "name": "ipython",
    "version": 3
   },
   "file_extension": ".py",
   "mimetype": "text/x-python",
   "name": "python",
   "nbconvert_exporter": "python",
   "pygments_lexer": "ipython3",
   "version": "3.7.12"
  }
 },
 "nbformat": 4,
 "nbformat_minor": 5
}

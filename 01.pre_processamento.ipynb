{
 "cells": [
  {
   "cell_type": "code",
   "execution_count": 1,
   "id": "arabic-polyester",
   "metadata": {},
   "outputs": [],
   "source": [
    "import numpy as np\n",
    "import matplotlib.pyplot as plt\n",
    "import pandas as pd\n",
    "import seaborn as sns\n",
    "\n",
    "%matplotlib inline"
   ]
  },
  {
   "cell_type": "code",
   "execution_count": 2,
   "id": "optimum-instrumentation",
   "metadata": {},
   "outputs": [
    {
     "data": {
      "text/html": [
       "<div>\n",
       "<style scoped>\n",
       "    .dataframe tbody tr th:only-of-type {\n",
       "        vertical-align: middle;\n",
       "    }\n",
       "\n",
       "    .dataframe tbody tr th {\n",
       "        vertical-align: top;\n",
       "    }\n",
       "\n",
       "    .dataframe thead th {\n",
       "        text-align: right;\n",
       "    }\n",
       "</style>\n",
       "<table border=\"1\" class=\"dataframe\">\n",
       "  <thead>\n",
       "    <tr style=\"text-align: right;\">\n",
       "      <th></th>\n",
       "      <th>id</th>\n",
       "      <th>ano</th>\n",
       "      <th>ccr</th>\n",
       "      <th>amostra</th>\n",
       "      <th>coleta</th>\n",
       "      <th>latitude</th>\n",
       "      <th>longitude</th>\n",
       "      <th>data_coleta</th>\n",
       "      <th>localidade</th>\n",
       "      <th>equipe</th>\n",
       "      <th>substrato</th>\n",
       "      <th>nome_cientifico</th>\n",
       "      <th>cidade</th>\n",
       "      <th>uf</th>\n",
       "    </tr>\n",
       "  </thead>\n",
       "  <tbody>\n",
       "    <tr>\n",
       "      <th>557</th>\n",
       "      <td>428</td>\n",
       "      <td>2014</td>\n",
       "      <td>7771</td>\n",
       "      <td>ANA.TAQ.001.057</td>\n",
       "      <td>ANA.TAQ.001</td>\n",
       "      <td>-10.307.444</td>\n",
       "      <td>-48.191.167</td>\n",
       "      <td>2014-11-17</td>\n",
       "      <td>Distrito de Taquaruçu (Palmas – TO)</td>\n",
       "      <td>Ana Paula Guimarães</td>\n",
       "      <td>Fruto de Buriti</td>\n",
       "      <td>Mauritia flexuosa</td>\n",
       "      <td>Palmas</td>\n",
       "      <td>TO</td>\n",
       "    </tr>\n",
       "    <tr>\n",
       "      <th>551</th>\n",
       "      <td>563</td>\n",
       "      <td>2014</td>\n",
       "      <td>8022</td>\n",
       "      <td>ANA.TAQ.001.084</td>\n",
       "      <td>ANA.TAQ.001</td>\n",
       "      <td>-10.307.444</td>\n",
       "      <td>-48.191.167</td>\n",
       "      <td>2014-11-17</td>\n",
       "      <td>Distrito de Taquaruçu (Palmas – TO)</td>\n",
       "      <td>Ana Paula Guimarães</td>\n",
       "      <td>Fruto de Buriti</td>\n",
       "      <td>Mauritia flexuosa</td>\n",
       "      <td>Palmas</td>\n",
       "      <td>TO</td>\n",
       "    </tr>\n",
       "    <tr>\n",
       "      <th>589</th>\n",
       "      <td>657</td>\n",
       "      <td>2015</td>\n",
       "      <td>8613</td>\n",
       "      <td>STL.CAN.001.001</td>\n",
       "      <td>STL.CAN.001</td>\n",
       "      <td>-997.865</td>\n",
       "      <td>-5.003.707</td>\n",
       "      <td>2015-01-11</td>\n",
       "      <td>Cangucu, Pium - TO</td>\n",
       "      <td>Stella Barros</td>\n",
       "      <td>Folha de Babaçu</td>\n",
       "      <td>Attalea speciosa</td>\n",
       "      <td>Pium</td>\n",
       "      <td>TO</td>\n",
       "    </tr>\n",
       "    <tr>\n",
       "      <th>153</th>\n",
       "      <td>300</td>\n",
       "      <td>2014</td>\n",
       "      <td>6753</td>\n",
       "      <td>ANA.CAN.001.035</td>\n",
       "      <td>ANA.CAN.001</td>\n",
       "      <td>-9.978.136</td>\n",
       "      <td>-5.004.615</td>\n",
       "      <td>2014-01-24</td>\n",
       "      <td>Centro de Pesquisa Canguçú (Pium-TO)</td>\n",
       "      <td>Ana Paula Guimarães</td>\n",
       "      <td>Fruto de Buriti</td>\n",
       "      <td>Mauritia flexuosa</td>\n",
       "      <td>Pium</td>\n",
       "      <td>TO</td>\n",
       "    </tr>\n",
       "    <tr>\n",
       "      <th>36</th>\n",
       "      <td>37</td>\n",
       "      <td>2015</td>\n",
       "      <td>8536</td>\n",
       "      <td>JHF.BU.002.004</td>\n",
       "      <td>JHF.BU.002</td>\n",
       "      <td>-14.681.273</td>\n",
       "      <td>-52.367.834</td>\n",
       "      <td>2015-08-10</td>\n",
       "      <td>Fazenda São Francisco</td>\n",
       "      <td>Jheferson Paulino</td>\n",
       "      <td>Fruto de Buriti</td>\n",
       "      <td>Mauritia flexuosa</td>\n",
       "      <td>Nova Xavantina</td>\n",
       "      <td>MT</td>\n",
       "    </tr>\n",
       "  </tbody>\n",
       "</table>\n",
       "</div>"
      ],
      "text/plain": [
       "      id   ano   ccr          amostra       coleta     latitude    longitude  \\\n",
       "557  428  2014  7771  ANA.TAQ.001.057  ANA.TAQ.001  -10.307.444  -48.191.167   \n",
       "551  563  2014  8022  ANA.TAQ.001.084  ANA.TAQ.001  -10.307.444  -48.191.167   \n",
       "589  657  2015  8613  STL.CAN.001.001  STL.CAN.001     -997.865   -5.003.707   \n",
       "153  300  2014  6753  ANA.CAN.001.035  ANA.CAN.001   -9.978.136   -5.004.615   \n",
       "36    37  2015  8536   JHF.BU.002.004   JHF.BU.002  -14.681.273  -52.367.834   \n",
       "\n",
       "    data_coleta                            localidade               equipe  \\\n",
       "557  2014-11-17   Distrito de Taquaruçu (Palmas – TO)  Ana Paula Guimarães   \n",
       "551  2014-11-17   Distrito de Taquaruçu (Palmas – TO)  Ana Paula Guimarães   \n",
       "589  2015-01-11                    Cangucu, Pium - TO        Stella Barros   \n",
       "153  2014-01-24  Centro de Pesquisa Canguçú (Pium-TO)  Ana Paula Guimarães   \n",
       "36   2015-08-10                 Fazenda São Francisco    Jheferson Paulino   \n",
       "\n",
       "           substrato    nome_cientifico          cidade  uf  \n",
       "557  Fruto de Buriti  Mauritia flexuosa          Palmas  TO  \n",
       "551  Fruto de Buriti  Mauritia flexuosa          Palmas  TO  \n",
       "589  Folha de Babaçu   Attalea speciosa            Pium  TO  \n",
       "153  Fruto de Buriti  Mauritia flexuosa            Pium  TO  \n",
       "36   Fruto de Buriti  Mauritia flexuosa  Nova Xavantina  MT  "
      ]
     },
     "execution_count": 2,
     "metadata": {},
     "output_type": "execute_result"
    }
   ],
   "source": [
    "isolados = pd.read_csv('data/01 - geral_normalizada.csv')\n",
    "isolados.sample(5)"
   ]
  },
  {
   "cell_type": "code",
   "execution_count": 3,
   "id": "another-mongolia",
   "metadata": {},
   "outputs": [
    {
     "data": {
      "text/html": [
       "<div>\n",
       "<style scoped>\n",
       "    .dataframe tbody tr th:only-of-type {\n",
       "        vertical-align: middle;\n",
       "    }\n",
       "\n",
       "    .dataframe tbody tr th {\n",
       "        vertical-align: top;\n",
       "    }\n",
       "\n",
       "    .dataframe thead th {\n",
       "        text-align: right;\n",
       "    }\n",
       "</style>\n",
       "<table border=\"1\" class=\"dataframe\">\n",
       "  <thead>\n",
       "    <tr style=\"text-align: right;\">\n",
       "      <th></th>\n",
       "      <th>Ano</th>\n",
       "      <th>CCR</th>\n",
       "      <th>Composto</th>\n",
       "      <th>Resultado</th>\n",
       "    </tr>\n",
       "  </thead>\n",
       "  <tbody>\n",
       "    <tr>\n",
       "      <th>397</th>\n",
       "      <td>2014</td>\n",
       "      <td>6740</td>\n",
       "      <td>10</td>\n",
       "      <td>-</td>\n",
       "    </tr>\n",
       "    <tr>\n",
       "      <th>98</th>\n",
       "      <td>2014</td>\n",
       "      <td>7802</td>\n",
       "      <td>19</td>\n",
       "      <td>-</td>\n",
       "    </tr>\n",
       "    <tr>\n",
       "      <th>99</th>\n",
       "      <td>2014</td>\n",
       "      <td>7803</td>\n",
       "      <td>43</td>\n",
       "      <td>-</td>\n",
       "    </tr>\n",
       "    <tr>\n",
       "      <th>634</th>\n",
       "      <td>2015</td>\n",
       "      <td>7796</td>\n",
       "      <td>26</td>\n",
       "      <td>+</td>\n",
       "    </tr>\n",
       "    <tr>\n",
       "      <th>250</th>\n",
       "      <td>2014</td>\n",
       "      <td>6793</td>\n",
       "      <td>2</td>\n",
       "      <td>-</td>\n",
       "    </tr>\n",
       "  </tbody>\n",
       "</table>\n",
       "</div>"
      ],
      "text/plain": [
       "      Ano   CCR  Composto Resultado\n",
       "397  2014  6740        10         -\n",
       "98   2014  7802        19         -\n",
       "99   2014  7803        43         -\n",
       "634  2015  7796        26         +\n",
       "250  2014  6793         2         -"
      ]
     },
     "execution_count": 3,
     "metadata": {},
     "output_type": "execute_result"
    }
   ],
   "source": [
    "df = pd.read_csv('data/02 - reacoes_normalizada.csv', names=['Ano','CCR','Composto','Resultado'], header=None, index_col=0)\n",
    "df.sample(5)"
   ]
  },
  {
   "cell_type": "code",
   "execution_count": 4,
   "id": "211f43ee-275b-4978-9524-b6af3df1fd03",
   "metadata": {},
   "outputs": [],
   "source": [
    "# junta os termos em um unico identificador do isolado:\n",
    "df[\"Isolado\"] = \"UFT.\"+df['Ano'].astype(str)+\"(L)\"+df['CCR'].astype(str)\n",
    "\n",
    "# remove as colunas que não serao mais uteis:\n",
    "del df['Ano']\n",
    "del df['CCR']"
   ]
  },
  {
   "cell_type": "code",
   "execution_count": 5,
   "id": "1f511fde-98f4-4a2f-ab2c-b2332c13333f",
   "metadata": {},
   "outputs": [],
   "source": [
    "# define nova coluna de indice:\n",
    "df.set_index(['Isolado'], inplace=True)"
   ]
  },
  {
   "cell_type": "code",
   "execution_count": 6,
   "id": "1c427d9c-7845-4641-b541-a699bc4aa7af",
   "metadata": {},
   "outputs": [
    {
     "data": {
      "text/html": [
       "<div>\n",
       "<style scoped>\n",
       "    .dataframe tbody tr th:only-of-type {\n",
       "        vertical-align: middle;\n",
       "    }\n",
       "\n",
       "    .dataframe tbody tr th {\n",
       "        vertical-align: top;\n",
       "    }\n",
       "\n",
       "    .dataframe thead th {\n",
       "        text-align: right;\n",
       "    }\n",
       "</style>\n",
       "<table border=\"1\" class=\"dataframe\">\n",
       "  <thead>\n",
       "    <tr style=\"text-align: right;\">\n",
       "      <th></th>\n",
       "      <th>Composto</th>\n",
       "      <th>Resultado</th>\n",
       "    </tr>\n",
       "    <tr>\n",
       "      <th>Isolado</th>\n",
       "      <th></th>\n",
       "      <th></th>\n",
       "    </tr>\n",
       "  </thead>\n",
       "  <tbody>\n",
       "    <tr>\n",
       "      <th>UFT.2015(L)8565</th>\n",
       "      <td>27</td>\n",
       "      <td>+</td>\n",
       "    </tr>\n",
       "    <tr>\n",
       "      <th>UFT.2014(L)6581</th>\n",
       "      <td>9</td>\n",
       "      <td>-</td>\n",
       "    </tr>\n",
       "    <tr>\n",
       "      <th>UFT.2015(L)8507</th>\n",
       "      <td>15</td>\n",
       "      <td>-</td>\n",
       "    </tr>\n",
       "    <tr>\n",
       "      <th>UFT.2014(L)6515</th>\n",
       "      <td>37</td>\n",
       "      <td>-</td>\n",
       "    </tr>\n",
       "    <tr>\n",
       "      <th>UFT.2015(L)8065</th>\n",
       "      <td>41</td>\n",
       "      <td>-</td>\n",
       "    </tr>\n",
       "  </tbody>\n",
       "</table>\n",
       "</div>"
      ],
      "text/plain": [
       "                 Composto Resultado\n",
       "Isolado                            \n",
       "UFT.2015(L)8565        27         +\n",
       "UFT.2014(L)6581         9         -\n",
       "UFT.2015(L)8507        15         -\n",
       "UFT.2014(L)6515        37         -\n",
       "UFT.2015(L)8065        41         -"
      ]
     },
     "execution_count": 6,
     "metadata": {},
     "output_type": "execute_result"
    }
   ],
   "source": [
    "# compostos = []\n",
    "# for i in range(1,81):\n",
    "#     compostos.append(i)\n",
    "\n",
    "# compostos\n",
    "df.sample(5)"
   ]
  },
  {
   "cell_type": "code",
   "execution_count": 7,
   "id": "2e8f7121-ddd9-4e26-93fa-0665c8657842",
   "metadata": {},
   "outputs": [],
   "source": [
    "# converte coluna de resultados em linhas:\n",
    "df = df.pivot(columns='Composto')"
   ]
  },
  {
   "cell_type": "code",
   "execution_count": 8,
   "id": "74468286-e5ff-48cb-aa58-25325ab5c976",
   "metadata": {},
   "outputs": [],
   "source": [
    "# salva estado atual do dataframe em arquivo CSV:\n",
    "df.to_csv('03 - reacoes_formatadas.csv')"
   ]
  },
  {
   "cell_type": "code",
   "execution_count": 9,
   "id": "selected-format",
   "metadata": {},
   "outputs": [
    {
     "data": {
      "text/html": [
       "<div>\n",
       "<style scoped>\n",
       "    .dataframe tbody tr th:only-of-type {\n",
       "        vertical-align: middle;\n",
       "    }\n",
       "\n",
       "    .dataframe tbody tr th {\n",
       "        vertical-align: top;\n",
       "    }\n",
       "\n",
       "    .dataframe thead tr th {\n",
       "        text-align: left;\n",
       "    }\n",
       "\n",
       "    .dataframe thead tr:last-of-type th {\n",
       "        text-align: right;\n",
       "    }\n",
       "</style>\n",
       "<table border=\"1\" class=\"dataframe\">\n",
       "  <thead>\n",
       "    <tr>\n",
       "      <th></th>\n",
       "      <th colspan=\"21\" halign=\"left\">Resultado</th>\n",
       "    </tr>\n",
       "    <tr>\n",
       "      <th>Composto</th>\n",
       "      <th>1</th>\n",
       "      <th>2</th>\n",
       "      <th>3</th>\n",
       "      <th>4</th>\n",
       "      <th>5</th>\n",
       "      <th>6</th>\n",
       "      <th>7</th>\n",
       "      <th>8</th>\n",
       "      <th>9</th>\n",
       "      <th>10</th>\n",
       "      <th>...</th>\n",
       "      <th>52</th>\n",
       "      <th>53</th>\n",
       "      <th>64</th>\n",
       "      <th>65</th>\n",
       "      <th>66</th>\n",
       "      <th>67</th>\n",
       "      <th>68</th>\n",
       "      <th>69</th>\n",
       "      <th>78</th>\n",
       "      <th>79</th>\n",
       "    </tr>\n",
       "    <tr>\n",
       "      <th>Isolado</th>\n",
       "      <th></th>\n",
       "      <th></th>\n",
       "      <th></th>\n",
       "      <th></th>\n",
       "      <th></th>\n",
       "      <th></th>\n",
       "      <th></th>\n",
       "      <th></th>\n",
       "      <th></th>\n",
       "      <th></th>\n",
       "      <th></th>\n",
       "      <th></th>\n",
       "      <th></th>\n",
       "      <th></th>\n",
       "      <th></th>\n",
       "      <th></th>\n",
       "      <th></th>\n",
       "      <th></th>\n",
       "      <th></th>\n",
       "      <th></th>\n",
       "      <th></th>\n",
       "    </tr>\n",
       "  </thead>\n",
       "  <tbody>\n",
       "    <tr>\n",
       "      <th>UFT.2015(L)8579</th>\n",
       "      <td>NaN</td>\n",
       "      <td>+</td>\n",
       "      <td>+</td>\n",
       "      <td>+w</td>\n",
       "      <td>+</td>\n",
       "      <td>+</td>\n",
       "      <td>-+</td>\n",
       "      <td>-</td>\n",
       "      <td>+w</td>\n",
       "      <td>+w</td>\n",
       "      <td>...</td>\n",
       "      <td>NaN</td>\n",
       "      <td>NaN</td>\n",
       "      <td>NaN</td>\n",
       "      <td>NaN</td>\n",
       "      <td>NaN</td>\n",
       "      <td>NaN</td>\n",
       "      <td>NaN</td>\n",
       "      <td>NaN</td>\n",
       "      <td>NaN</td>\n",
       "      <td>NaN</td>\n",
       "    </tr>\n",
       "    <tr>\n",
       "      <th>UFT.2014(L)7946</th>\n",
       "      <td>NaN</td>\n",
       "      <td>-</td>\n",
       "      <td>-</td>\n",
       "      <td>-</td>\n",
       "      <td>-</td>\n",
       "      <td>-</td>\n",
       "      <td>-</td>\n",
       "      <td>-</td>\n",
       "      <td>-</td>\n",
       "      <td>-</td>\n",
       "      <td>...</td>\n",
       "      <td>+</td>\n",
       "      <td>+</td>\n",
       "      <td>-</td>\n",
       "      <td>-</td>\n",
       "      <td>-</td>\n",
       "      <td>+</td>\n",
       "      <td>+</td>\n",
       "      <td>+</td>\n",
       "      <td>-</td>\n",
       "      <td>-</td>\n",
       "    </tr>\n",
       "    <tr>\n",
       "      <th>UFT.2015(L)8511</th>\n",
       "      <td>NaN</td>\n",
       "      <td>+</td>\n",
       "      <td>+</td>\n",
       "      <td>+</td>\n",
       "      <td>c</td>\n",
       "      <td>c</td>\n",
       "      <td>+</td>\n",
       "      <td>-</td>\n",
       "      <td>-</td>\n",
       "      <td>c</td>\n",
       "      <td>...</td>\n",
       "      <td>NaN</td>\n",
       "      <td>NaN</td>\n",
       "      <td>NaN</td>\n",
       "      <td>NaN</td>\n",
       "      <td>NaN</td>\n",
       "      <td>NaN</td>\n",
       "      <td>NaN</td>\n",
       "      <td>NaN</td>\n",
       "      <td>NaN</td>\n",
       "      <td>NaN</td>\n",
       "    </tr>\n",
       "    <tr>\n",
       "      <th>UFT.2014(L)7328</th>\n",
       "      <td>NaN</td>\n",
       "      <td>+</td>\n",
       "      <td>+</td>\n",
       "      <td>+</td>\n",
       "      <td>+</td>\n",
       "      <td>+</td>\n",
       "      <td>+</td>\n",
       "      <td>-</td>\n",
       "      <td>-</td>\n",
       "      <td>-</td>\n",
       "      <td>...</td>\n",
       "      <td>NaN</td>\n",
       "      <td>NaN</td>\n",
       "      <td>NaN</td>\n",
       "      <td>NaN</td>\n",
       "      <td>NaN</td>\n",
       "      <td>NaN</td>\n",
       "      <td>NaN</td>\n",
       "      <td>NaN</td>\n",
       "      <td>NaN</td>\n",
       "      <td>NaN</td>\n",
       "    </tr>\n",
       "    <tr>\n",
       "      <th>UFT.2014(L)7904</th>\n",
       "      <td>NaN</td>\n",
       "      <td>+</td>\n",
       "      <td>+</td>\n",
       "      <td>+</td>\n",
       "      <td>+</td>\n",
       "      <td>+</td>\n",
       "      <td>+</td>\n",
       "      <td>-</td>\n",
       "      <td>+</td>\n",
       "      <td>+</td>\n",
       "      <td>...</td>\n",
       "      <td>NaN</td>\n",
       "      <td>NaN</td>\n",
       "      <td>NaN</td>\n",
       "      <td>NaN</td>\n",
       "      <td>NaN</td>\n",
       "      <td>NaN</td>\n",
       "      <td>NaN</td>\n",
       "      <td>NaN</td>\n",
       "      <td>NaN</td>\n",
       "      <td>NaN</td>\n",
       "    </tr>\n",
       "  </tbody>\n",
       "</table>\n",
       "<p>5 rows × 57 columns</p>\n",
       "</div>"
      ],
      "text/plain": [
       "                Resultado                                 ...                 \\\n",
       "Composto               1  2  3   4  5  6   7  8   9   10  ...   52   53   64   \n",
       "Isolado                                                   ...                  \n",
       "UFT.2015(L)8579       NaN  +  +  +w  +  +  -+  -  +w  +w  ...  NaN  NaN  NaN   \n",
       "UFT.2014(L)7946       NaN  -  -   -  -  -   -  -   -   -  ...    +    +    -   \n",
       "UFT.2015(L)8511       NaN  +  +   +  c  c   +  -   -   c  ...  NaN  NaN  NaN   \n",
       "UFT.2014(L)7328       NaN  +  +   +  +  +   +  -   -   -  ...  NaN  NaN  NaN   \n",
       "UFT.2014(L)7904       NaN  +  +   +  +  +   +  -   +   +  ...  NaN  NaN  NaN   \n",
       "\n",
       "                                                    \n",
       "Composto          65   66   67   68   69   78   79  \n",
       "Isolado                                             \n",
       "UFT.2015(L)8579  NaN  NaN  NaN  NaN  NaN  NaN  NaN  \n",
       "UFT.2014(L)7946    -    -    +    +    +    -    -  \n",
       "UFT.2015(L)8511  NaN  NaN  NaN  NaN  NaN  NaN  NaN  \n",
       "UFT.2014(L)7328  NaN  NaN  NaN  NaN  NaN  NaN  NaN  \n",
       "UFT.2014(L)7904  NaN  NaN  NaN  NaN  NaN  NaN  NaN  \n",
       "\n",
       "[5 rows x 57 columns]"
      ]
     },
     "execution_count": 9,
     "metadata": {},
     "output_type": "execute_result"
    }
   ],
   "source": [
    "df.sample(5)"
   ]
  },
  {
   "cell_type": "markdown",
   "id": "48f68bf9-5f20-463d-8a24-41eca11842b3",
   "metadata": {},
   "source": [
    "### Análise Exploratória de Dados:\n",
    "1. Informações Gerais\n",
    "2. Tratamento de valores Nulos\n",
    "3. "
   ]
  },
  {
   "cell_type": "markdown",
   "id": "c55cb369-91cb-4016-b521-7ab5d1e87013",
   "metadata": {},
   "source": [
    "Questions to answer:\n",
    "* How many features do you have?\n",
    "* How many observations do you have?\n",
    "* What is the data type of each feature?"
   ]
  },
  {
   "cell_type": "code",
   "execution_count": 28,
   "id": "564bfbba-91fc-4ed2-8398-5cca9bd0c539",
   "metadata": {},
   "outputs": [
    {
     "data": {
      "text/plain": [
       "(601, 57)"
      ]
     },
     "execution_count": 28,
     "metadata": {},
     "output_type": "execute_result"
    }
   ],
   "source": [
    "# dimensoes - linhas e colunas\n",
    "df.shape\n",
    "\n",
    "# informações diversas:\n",
    "# df.info()"
   ]
  },
  {
   "cell_type": "code",
   "execution_count": 11,
   "id": "e72d5388-8a27-47ab-9040-e0b679517e5b",
   "metadata": {},
   "outputs": [
    {
     "data": {
      "text/html": [
       "<div>\n",
       "<style scoped>\n",
       "    .dataframe tbody tr th:only-of-type {\n",
       "        vertical-align: middle;\n",
       "    }\n",
       "\n",
       "    .dataframe tbody tr th {\n",
       "        vertical-align: top;\n",
       "    }\n",
       "\n",
       "    .dataframe thead tr th {\n",
       "        text-align: left;\n",
       "    }\n",
       "</style>\n",
       "<table border=\"1\" class=\"dataframe\">\n",
       "  <thead>\n",
       "    <tr>\n",
       "      <th></th>\n",
       "      <th colspan=\"21\" halign=\"left\">Resultado</th>\n",
       "    </tr>\n",
       "    <tr>\n",
       "      <th>Composto</th>\n",
       "      <th>1</th>\n",
       "      <th>2</th>\n",
       "      <th>3</th>\n",
       "      <th>4</th>\n",
       "      <th>5</th>\n",
       "      <th>6</th>\n",
       "      <th>7</th>\n",
       "      <th>8</th>\n",
       "      <th>9</th>\n",
       "      <th>10</th>\n",
       "      <th>...</th>\n",
       "      <th>52</th>\n",
       "      <th>53</th>\n",
       "      <th>64</th>\n",
       "      <th>65</th>\n",
       "      <th>66</th>\n",
       "      <th>67</th>\n",
       "      <th>68</th>\n",
       "      <th>69</th>\n",
       "      <th>78</th>\n",
       "      <th>79</th>\n",
       "    </tr>\n",
       "  </thead>\n",
       "  <tbody>\n",
       "    <tr>\n",
       "      <th>count</th>\n",
       "      <td>26</td>\n",
       "      <td>600</td>\n",
       "      <td>601</td>\n",
       "      <td>601</td>\n",
       "      <td>579</td>\n",
       "      <td>600</td>\n",
       "      <td>601</td>\n",
       "      <td>598</td>\n",
       "      <td>595</td>\n",
       "      <td>599</td>\n",
       "      <td>...</td>\n",
       "      <td>312</td>\n",
       "      <td>308</td>\n",
       "      <td>227</td>\n",
       "      <td>312</td>\n",
       "      <td>303</td>\n",
       "      <td>242</td>\n",
       "      <td>242</td>\n",
       "      <td>199</td>\n",
       "      <td>234</td>\n",
       "      <td>226</td>\n",
       "    </tr>\n",
       "    <tr>\n",
       "      <th>unique</th>\n",
       "      <td>4</td>\n",
       "      <td>7</td>\n",
       "      <td>6</td>\n",
       "      <td>5</td>\n",
       "      <td>5</td>\n",
       "      <td>6</td>\n",
       "      <td>5</td>\n",
       "      <td>4</td>\n",
       "      <td>6</td>\n",
       "      <td>5</td>\n",
       "      <td>...</td>\n",
       "      <td>2</td>\n",
       "      <td>2</td>\n",
       "      <td>2</td>\n",
       "      <td>2</td>\n",
       "      <td>2</td>\n",
       "      <td>2</td>\n",
       "      <td>3</td>\n",
       "      <td>3</td>\n",
       "      <td>2</td>\n",
       "      <td>2</td>\n",
       "    </tr>\n",
       "    <tr>\n",
       "      <th>top</th>\n",
       "      <td>+</td>\n",
       "      <td>+</td>\n",
       "      <td>+</td>\n",
       "      <td>+</td>\n",
       "      <td>+</td>\n",
       "      <td>+</td>\n",
       "      <td>+</td>\n",
       "      <td>-</td>\n",
       "      <td>-</td>\n",
       "      <td>-</td>\n",
       "      <td>...</td>\n",
       "      <td>+</td>\n",
       "      <td>-</td>\n",
       "      <td>-</td>\n",
       "      <td>-</td>\n",
       "      <td>-</td>\n",
       "      <td>-</td>\n",
       "      <td>-</td>\n",
       "      <td>+</td>\n",
       "      <td>-</td>\n",
       "      <td>-</td>\n",
       "    </tr>\n",
       "    <tr>\n",
       "      <th>freq</th>\n",
       "      <td>10</td>\n",
       "      <td>415</td>\n",
       "      <td>404</td>\n",
       "      <td>391</td>\n",
       "      <td>404</td>\n",
       "      <td>458</td>\n",
       "      <td>385</td>\n",
       "      <td>543</td>\n",
       "      <td>375</td>\n",
       "      <td>310</td>\n",
       "      <td>...</td>\n",
       "      <td>301</td>\n",
       "      <td>208</td>\n",
       "      <td>218</td>\n",
       "      <td>217</td>\n",
       "      <td>225</td>\n",
       "      <td>130</td>\n",
       "      <td>132</td>\n",
       "      <td>176</td>\n",
       "      <td>140</td>\n",
       "      <td>162</td>\n",
       "    </tr>\n",
       "  </tbody>\n",
       "</table>\n",
       "<p>4 rows × 57 columns</p>\n",
       "</div>"
      ],
      "text/plain": [
       "         Resultado                                               ...       \\\n",
       "Composto        1    2    3    4    5    6    7    8    9    10  ...   52   \n",
       "count           26  600  601  601  579  600  601  598  595  599  ...  312   \n",
       "unique           4    7    6    5    5    6    5    4    6    5  ...    2   \n",
       "top              +    +    +    +    +    +    +    -    -    -  ...    +   \n",
       "freq            10  415  404  391  404  458  385  543  375  310  ...  301   \n",
       "\n",
       "                                                       \n",
       "Composto   53   64   65   66   67   68   69   78   79  \n",
       "count     308  227  312  303  242  242  199  234  226  \n",
       "unique      2    2    2    2    2    3    3    2    2  \n",
       "top         -    -    -    -    -    -    +    -    -  \n",
       "freq      208  218  217  225  130  132  176  140  162  \n",
       "\n",
       "[4 rows x 57 columns]"
      ]
     },
     "execution_count": 11,
     "metadata": {},
     "output_type": "execute_result"
    }
   ],
   "source": [
    "# descricao dos dados sob analise:\n",
    "df.describe(include='object')"
   ]
  },
  {
   "cell_type": "code",
   "execution_count": 12,
   "id": "abc24f0a-4e02-42e0-ad89-8a670e08c9bf",
   "metadata": {},
   "outputs": [
    {
     "data": {
      "image/png": "[encoded data removed]",
      "text/plain": [
       "<Figure size 432x288 with 2 Axes>"
      ]
     },
     "metadata": {
      "needs_background": "light"
     },
     "output_type": "display_data"
    }
   ],
   "source": [
    "# mostra valores faltantes dentro de uma amostra dos dados:\n",
    "sns.heatmap(df.isnull())\n",
    "plt.show()"
   ]
  },
  {
   "cell_type": "code",
   "execution_count": 13,
   "id": "c9b1a113-ed6a-4cc5-9e8d-85efe40fa8a6",
   "metadata": {},
   "outputs": [
    {
     "data": {
      "image/png": "[encoded data removed]",
      "text/plain": [
       "<Figure size 432x288 with 1 Axes>"
      ]
     },
     "metadata": {
      "needs_background": "light"
     },
     "output_type": "display_data"
    },
    {
     "data": {
      "image/png": "[encoded data removed]",
      "text/plain": [
       "<Figure size 432x288 with 1 Axes>"
      ]
     },
     "metadata": {
      "needs_background": "light"
     },
     "output_type": "display_data"
    },
    {
     "data": {
      "image/png": "[encoded data removed]",
      "text/plain": [
       "<Figure size 432x288 with 1 Axes>"
      ]
     },
     "metadata": {
      "needs_background": "light"
     },
     "output_type": "display_data"
    },
    {
     "data": {
      "image/png": "[encoded data removed]",
      "text/plain": [
       "<Figure size 432x288 with 1 Axes>"
      ]
     },
     "metadata": {
      "needs_background": "light"
     },
     "output_type": "display_data"
    },
    {
     "data": {
      "image/png": "[encoded data removed]",
      "text/plain": [
       "<Figure size 432x288 with 1 Axes>"
      ]
     },
     "metadata": {
      "needs_background": "light"
     },
     "output_type": "display_data"
    },
    {
     "data": {
      "image/png": "[encoded data removed]",
      "text/plain": [
       "<Figure size 432x288 with 1 Axes>"
      ]
     },
     "metadata": {
      "needs_background": "light"
     },
     "output_type": "display_data"
    },
    {
     "data": {
      "image/png": "[encoded data removed]",
      "text/plain": [
       "<Figure size 432x288 with 1 Axes>"
      ]
     },
     "metadata": {
      "needs_background": "light"
     },
     "output_type": "display_data"
    },
    {
     "data": {
      "image/png": "[encoded data removed]",
      "text/plain": [
       "<Figure size 432x288 with 1 Axes>"
      ]
     },
     "metadata": {
      "needs_background": "light"
     },
     "output_type": "display_data"
    },
    {
     "data": {
      "image/png": "[encoded data removed]",
      "text/plain": [
       "<Figure size 432x288 with 1 Axes>"
      ]
     },
     "metadata": {
      "needs_background": "light"
     },
     "output_type": "display_data"
    },
    {
     "data": {
      "image/png": "[encoded data removed]",
      "text/plain": [
       "<Figure size 432x288 with 1 Axes>"
      ]
     },
     "metadata": {
      "needs_background": "light"
     },
     "output_type": "display_data"
    },
    {
     "data": {
      "image/png": "[encoded data removed]",
      "text/plain": [
       "<Figure size 432x288 with 1 Axes>"
      ]
     },
     "metadata": {
      "needs_background": "light"
     },
     "output_type": "display_data"
    },
    {
     "data": {
      "image/png": "[encoded data removed]",
      "text/plain": [
       "<Figure size 432x288 with 1 Axes>"
      ]
     },
     "metadata": {
      "needs_background": "light"
     },
     "output_type": "display_data"
    },
    {
     "data": {
      "image/png": "[encoded data removed]",
      "text/plain": [
       "<Figure size 432x288 with 1 Axes>"
      ]
     },
     "metadata": {
      "needs_background": "light"
     },
     "output_type": "display_data"
    },
    {
     "data": {
      "image/png": "[encoded data removed]",
      "text/plain": [
       "<Figure size 432x288 with 1 Axes>"
      ]
     },
     "metadata": {
      "needs_background": "light"
     },
     "output_type": "display_data"
    },
    {
     "data": {
      "image/png": "[encoded data removed]",
      "text/plain": [
       "<Figure size 432x288 with 1 Axes>"
      ]
     },
     "metadata": {
      "needs_background": "light"
     },
     "output_type": "display_data"
    },
    {
     "data": {
      "image/png": "[encoded data removed]",
      "text/plain": [
       "<Figure size 432x288 with 1 Axes>"
      ]
     },
     "metadata": {
      "needs_background": "light"
     },
     "output_type": "display_data"
    },
    {
     "data": {
      "image/png": "[encoded data removed]",
      "text/plain": [
       "<Figure size 432x288 with 1 Axes>"
      ]
     },
     "metadata": {
      "needs_background": "light"
     },
     "output_type": "display_data"
    },
    {
     "data": {
      "image/png": "[encoded data removed]",
      "text/plain": [
       "<Figure size 432x288 with 1 Axes>"
      ]
     },
     "metadata": {
      "needs_background": "light"
     },
     "output_type": "display_data"
    },
    {
     "data": {
      "image/png": "[encoded data removed]",
      "text/plain": [
       "<Figure size 432x288 with 1 Axes>"
      ]
     },
     "metadata": {
      "needs_background": "light"
     },
     "output_type": "display_data"
    },
    {
     "data": {
      "image/png": "[encoded data removed]",
      "text/plain": [
       "<Figure size 432x288 with 1 Axes>"
      ]
     },
     "metadata": {
      "needs_background": "light"
     },
     "output_type": "display_data"
    },
    {
     "data": {
      "image/png": "[encoded data removed]",
      "text/plain": [
       "<Figure size 432x288 with 1 Axes>"
      ]
     },
     "metadata": {
      "needs_background": "light"
     },
     "output_type": "display_data"
    },
    {
     "data": {
      "image/png": "[encoded data removed]",
      "text/plain": [
       "<Figure size 432x288 with 1 Axes>"
      ]
     },
     "metadata": {
      "needs_background": "light"
     },
     "output_type": "display_data"
    },
    {
     "data": {
      "image/png": "[encoded data removed]",
      "text/plain": [
       "<Figure size 432x288 with 1 Axes>"
      ]
     },
     "metadata": {
      "needs_background": "light"
     },
     "output_type": "display_data"
    },
    {
     "data": {
      "image/png": "[encoded data removed]",
      "text/plain": [
       "<Figure size 432x288 with 1 Axes>"
      ]
     },
     "metadata": {
      "needs_background": "light"
     },
     "output_type": "display_data"
    },
    {
     "data": {
      "image/png": "[encoded data removed]",
      "text/plain": [
       "<Figure size 432x288 with 1 Axes>"
      ]
     },
     "metadata": {
      "needs_background": "light"
     },
     "output_type": "display_data"
    },
    {
     "data": {
      "image/png": "[encoded data removed]",
      "text/plain": [
       "<Figure size 432x288 with 1 Axes>"
      ]
     },
     "metadata": {
      "needs_background": "light"
     },
     "output_type": "display_data"
    },
    {
     "data": {
      "image/png": "[encoded data removed]",
      "text/plain": [
       "<Figure size 432x288 with 1 Axes>"
      ]
     },
     "metadata": {
      "needs_background": "light"
     },
     "output_type": "display_data"
    },
    {
     "data": {
      "image/png": "[encoded data removed]",
      "text/plain": [
       "<Figure size 432x288 with 1 Axes>"
      ]
     },
     "metadata": {
      "needs_background": "light"
     },
     "output_type": "display_data"
    },
    {
     "data": {
      "image/png": "[encoded data removed]",
      "text/plain": [
       "<Figure size 432x288 with 1 Axes>"
      ]
     },
     "metadata": {
      "needs_background": "light"
     },
     "output_type": "display_data"
    },
    {
     "data": {
      "image/png": "[encoded data removed]",
      "text/plain": [
       "<Figure size 432x288 with 1 Axes>"
      ]
     },
     "metadata": {
      "needs_background": "light"
     },
     "output_type": "display_data"
    },
    {
     "data": {
      "image/png": "[encoded data removed]",
      "text/plain": [
       "<Figure size 432x288 with 1 Axes>"
      ]
     },
     "metadata": {
      "needs_background": "light"
     },
     "output_type": "display_data"
    },
    {
     "data": {
      "image/png": "[encoded data removed]",
      "text/plain": [
       "<Figure size 432x288 with 1 Axes>"
      ]
     },
     "metadata": {
      "needs_background": "light"
     },
     "output_type": "display_data"
    },
    {
     "data": {
      "image/png": "[encoded data removed]",
      "text/plain": [
       "<Figure size 432x288 with 1 Axes>"
      ]
     },
     "metadata": {
      "needs_background": "light"
     },
     "output_type": "display_data"
    },
    {
     "data": {
      "image/png": "[encoded data removed]",
      "text/plain": [
       "<Figure size 432x288 with 1 Axes>"
      ]
     },
     "metadata": {
      "needs_background": "light"
     },
     "output_type": "display_data"
    },
    {
     "data": {
      "image/png": "[encoded data removed]",
      "text/plain": [
       "<Figure size 432x288 with 1 Axes>"
      ]
     },
     "metadata": {
      "needs_background": "light"
     },
     "output_type": "display_data"
    },
    {
     "data": {
      "image/png": "[encoded data removed]",
      "text/plain": [
       "<Figure size 432x288 with 1 Axes>"
      ]
     },
     "metadata": {
      "needs_background": "light"
     },
     "output_type": "display_data"
    },
    {
     "data": {
      "image/png": "[encoded data removed]",
      "text/plain": [
       "<Figure size 432x288 with 1 Axes>"
      ]
     },
     "metadata": {
      "needs_background": "light"
     },
     "output_type": "display_data"
    },
    {
     "data": {
      "image/png": "[encoded data removed]",
      "text/plain": [
       "<Figure size 432x288 with 1 Axes>"
      ]
     },
     "metadata": {
      "needs_background": "light"
     },
     "output_type": "display_data"
    },
    {
     "data": {
      "image/png": "[encoded data removed]",
      "text/plain": [
       "<Figure size 432x288 with 1 Axes>"
      ]
     },
     "metadata": {
      "needs_background": "light"
     },
     "output_type": "display_data"
    },
    {
     "data": {
      "image/png": "[encoded data removed]",
      "text/plain": [
       "<Figure size 432x288 with 1 Axes>"
      ]
     },
     "metadata": {
      "needs_background": "light"
     },
     "output_type": "display_data"
    },
    {
     "data": {
      "image/png": "[encoded data removed]",
      "text/plain": [
       "<Figure size 432x288 with 1 Axes>"
      ]
     },
     "metadata": {
      "needs_background": "light"
     },
     "output_type": "display_data"
    },
    {
     "data": {
      "image/png": "[encoded data removed]",
      "text/plain": [
       "<Figure size 432x288 with 1 Axes>"
      ]
     },
     "metadata": {
      "needs_background": "light"
     },
     "output_type": "display_data"
    },
    {
     "data": {
      "image/png": "[encoded data removed]",
      "text/plain": [
       "<Figure size 432x288 with 1 Axes>"
      ]
     },
     "metadata": {
      "needs_background": "light"
     },
     "output_type": "display_data"
    },
    {
     "data": {
      "image/png": "[encoded data removed]",
      "text/plain": [
       "<Figure size 432x288 with 1 Axes>"
      ]
     },
     "metadata": {
      "needs_background": "light"
     },
     "output_type": "display_data"
    },
    {
     "data": {
      "image/png": "[encoded data removed]",
      "text/plain": [
       "<Figure size 432x288 with 1 Axes>"
      ]
     },
     "metadata": {
      "needs_background": "light"
     },
     "output_type": "display_data"
    },
    {
     "data": {
      "image/png": "[encoded data removed]",
      "text/plain": [
       "<Figure size 432x288 with 1 Axes>"
      ]
     },
     "metadata": {
      "needs_background": "light"
     },
     "output_type": "display_data"
    },
    {
     "data": {
      "image/png": "[encoded data removed]",
      "text/plain": [
       "<Figure size 432x288 with 1 Axes>"
      ]
     },
     "metadata": {
      "needs_background": "light"
     },
     "output_type": "display_data"
    },
    {
     "data": {
      "image/png": "[encoded data removed]",
      "text/plain": [
       "<Figure size 432x288 with 1 Axes>"
      ]
     },
     "metadata": {
      "needs_background": "light"
     },
     "output_type": "display_data"
    },
    {
     "data": {
      "image/png": "[encoded data removed]",
      "text/plain": [
       "<Figure size 432x288 with 1 Axes>"
      ]
     },
     "metadata": {
      "needs_background": "light"
     },
     "output_type": "display_data"
    },
    {
     "data": {
      "image/png": "[encoded data removed]",
      "text/plain": [
       "<Figure size 432x288 with 1 Axes>"
      ]
     },
     "metadata": {
      "needs_background": "light"
     },
     "output_type": "display_data"
    },
    {
     "data": {
      "image/png": "[encoded data removed]",
      "text/plain": [
       "<Figure size 432x288 with 1 Axes>"
      ]
     },
     "metadata": {
      "needs_background": "light"
     },
     "output_type": "display_data"
    },
    {
     "data": {
      "image/png": "[encoded data removed]",
      "text/plain": [
       "<Figure size 432x288 with 1 Axes>"
      ]
     },
     "metadata": {
      "needs_background": "light"
     },
     "output_type": "display_data"
    },
    {
     "data": {
      "image/png": "[encoded data removed]",
      "text/plain": [
       "<Figure size 432x288 with 1 Axes>"
      ]
     },
     "metadata": {
      "needs_background": "light"
     },
     "output_type": "display_data"
    },
    {
     "data": {
      "image/png": "[encoded data removed]",
      "text/plain": [
       "<Figure size 432x288 with 1 Axes>"
      ]
     },
     "metadata": {
      "needs_background": "light"
     },
     "output_type": "display_data"
    },
    {
     "data": {
      "image/png": "[encoded data removed]",
      "text/plain": [
       "<Figure size 432x288 with 1 Axes>"
      ]
     },
     "metadata": {
      "needs_background": "light"
     },
     "output_type": "display_data"
    },
    {
     "data": {
      "image/png": "[encoded data removed]",
      "text/plain": [
       "<Figure size 432x288 with 1 Axes>"
      ]
     },
     "metadata": {
      "needs_background": "light"
     },
     "output_type": "display_data"
    },
    {
     "data": {
      "image/png": "[encoded data removed]",
      "text/plain": [
       "<Figure size 432x288 with 1 Axes>"
      ]
     },
     "metadata": {
      "needs_background": "light"
     },
     "output_type": "display_data"
    }
   ],
   "source": [
    "# plota cada característica categorica:\n",
    "for column in df.select_dtypes(include='object'):\n",
    "    if df[column].nunique() < 10:\n",
    "        sns.countplot(y=column, data=df)\n",
    "        plt.show()"
   ]
  },
  {
   "cell_type": "markdown",
   "id": "adb85687-5e03-4035-a0c7-44fa54c34013",
   "metadata": {},
   "source": [
    "Are there so many missing values for a variable that you should drop that variable from your dataset?"
   ]
  },
  {
   "cell_type": "code",
   "execution_count": 14,
   "id": "funded-packet",
   "metadata": {},
   "outputs": [
    {
     "data": {
      "text/plain": [
       "           Composto\n",
       "Resultado  1           95.673877\n",
       "           2            0.166389\n",
       "           5            3.660566\n",
       "           6            0.166389\n",
       "           8            0.499168\n",
       "           9            0.998336\n",
       "           10           0.332779\n",
       "           11           0.499168\n",
       "           12           7.487521\n",
       "           13           1.497504\n",
       "           14           0.166389\n",
       "           15          36.439268\n",
       "           16          37.770383\n",
       "           17          36.439268\n",
       "           18          36.439268\n",
       "           19          43.594010\n",
       "           20          36.772047\n",
       "           21          36.439268\n",
       "           22          37.770383\n",
       "           23          38.103161\n",
       "           24          43.760399\n",
       "           25          36.605657\n",
       "           26          38.269551\n",
       "           27          36.605657\n",
       "           28          45.257903\n",
       "           31          47.753744\n",
       "           32          45.757072\n",
       "           33          48.086522\n",
       "           34          45.757072\n",
       "           35          48.252912\n",
       "           37          45.923461\n",
       "           38          46.256240\n",
       "           39          50.249584\n",
       "           40          50.249584\n",
       "           41          49.584027\n",
       "           42          47.088186\n",
       "           43          49.750416\n",
       "           44          46.755408\n",
       "           45          54.409318\n",
       "           46          92.845258\n",
       "           48          92.845258\n",
       "           49          11.480865\n",
       "           50          11.480865\n",
       "           51          48.086522\n",
       "           52          48.086522\n",
       "           53          48.752080\n",
       "           64          62.229617\n",
       "           65          48.086522\n",
       "           66          49.584027\n",
       "           67          59.733777\n",
       "           68          59.733777\n",
       "           69          66.888519\n",
       "           78          61.064892\n",
       "           79          62.396007\n",
       "dtype: float64"
      ]
     },
     "execution_count": 14,
     "metadata": {},
     "output_type": "execute_result"
    }
   ],
   "source": [
    "# remocao das colunas com maioria dos valores nulos:\n",
    "#df.isnull().sum()\n",
    "df[df.columns[df.isnull().any()]].isnull().sum() * 100 / df.shape[0]"
   ]
  },
  {
   "cell_type": "code",
   "execution_count": 15,
   "id": "empirical-tradition",
   "metadata": {},
   "outputs": [
    {
     "data": {
      "text/html": [
       "<div>\n",
       "<style scoped>\n",
       "    .dataframe tbody tr th:only-of-type {\n",
       "        vertical-align: middle;\n",
       "    }\n",
       "\n",
       "    .dataframe tbody tr th {\n",
       "        vertical-align: top;\n",
       "    }\n",
       "\n",
       "    .dataframe thead th {\n",
       "        text-align: right;\n",
       "    }\n",
       "</style>\n",
       "<table border=\"1\" class=\"dataframe\">\n",
       "  <thead>\n",
       "    <tr style=\"text-align: right;\">\n",
       "      <th></th>\n",
       "      <th></th>\n",
       "      <th>Total</th>\n",
       "      <th>Missing Percent</th>\n",
       "    </tr>\n",
       "    <tr>\n",
       "      <th></th>\n",
       "      <th>Composto</th>\n",
       "      <th></th>\n",
       "      <th></th>\n",
       "    </tr>\n",
       "  </thead>\n",
       "  <tbody>\n",
       "    <tr>\n",
       "      <th rowspan=\"12\" valign=\"top\">Resultado</th>\n",
       "      <th>1</th>\n",
       "      <td>575</td>\n",
       "      <td>95.673877</td>\n",
       "    </tr>\n",
       "    <tr>\n",
       "      <th>48</th>\n",
       "      <td>558</td>\n",
       "      <td>92.845258</td>\n",
       "    </tr>\n",
       "    <tr>\n",
       "      <th>46</th>\n",
       "      <td>558</td>\n",
       "      <td>92.845258</td>\n",
       "    </tr>\n",
       "    <tr>\n",
       "      <th>69</th>\n",
       "      <td>402</td>\n",
       "      <td>66.888519</td>\n",
       "    </tr>\n",
       "    <tr>\n",
       "      <th>79</th>\n",
       "      <td>375</td>\n",
       "      <td>62.396007</td>\n",
       "    </tr>\n",
       "    <tr>\n",
       "      <th>64</th>\n",
       "      <td>374</td>\n",
       "      <td>62.229617</td>\n",
       "    </tr>\n",
       "    <tr>\n",
       "      <th>78</th>\n",
       "      <td>367</td>\n",
       "      <td>61.064892</td>\n",
       "    </tr>\n",
       "    <tr>\n",
       "      <th>67</th>\n",
       "      <td>359</td>\n",
       "      <td>59.733777</td>\n",
       "    </tr>\n",
       "    <tr>\n",
       "      <th>68</th>\n",
       "      <td>359</td>\n",
       "      <td>59.733777</td>\n",
       "    </tr>\n",
       "    <tr>\n",
       "      <th>45</th>\n",
       "      <td>327</td>\n",
       "      <td>54.409318</td>\n",
       "    </tr>\n",
       "    <tr>\n",
       "      <th>39</th>\n",
       "      <td>302</td>\n",
       "      <td>50.249584</td>\n",
       "    </tr>\n",
       "    <tr>\n",
       "      <th>40</th>\n",
       "      <td>302</td>\n",
       "      <td>50.249584</td>\n",
       "    </tr>\n",
       "  </tbody>\n",
       "</table>\n",
       "</div>"
      ],
      "text/plain": [
       "                    Total  Missing Percent\n",
       "          Composto                        \n",
       "Resultado 1           575        95.673877\n",
       "          48          558        92.845258\n",
       "          46          558        92.845258\n",
       "          69          402        66.888519\n",
       "          79          375        62.396007\n",
       "          64          374        62.229617\n",
       "          78          367        61.064892\n",
       "          67          359        59.733777\n",
       "          68          359        59.733777\n",
       "          45          327        54.409318\n",
       "          39          302        50.249584\n",
       "          40          302        50.249584"
      ]
     },
     "execution_count": 15,
     "metadata": {},
     "output_type": "execute_result"
    }
   ],
   "source": [
    "# mostra colunas com qtd de valores nulos maior que 50% dos possiveis registros: \n",
    "total = df.isnull().sum().sort_values(ascending=False)\n",
    "percent = (df.isnull().sum()/df.isnull().count()).sort_values(ascending=False)\n",
    "missing_data = pd.concat([total, percent], axis=1, keys=['Total', 'Missing Percent'])\n",
    "missing_data['Missing Percent'] = missing_data['Missing Percent'].apply(lambda x: x * 100)\n",
    "missing_data.loc[missing_data['Missing Percent'] > 50]"
   ]
  },
  {
   "cell_type": "code",
   "execution_count": 16,
   "id": "turkish-service",
   "metadata": {},
   "outputs": [
    {
     "data": {
      "text/html": [
       "<div>\n",
       "<style scoped>\n",
       "    .dataframe tbody tr th:only-of-type {\n",
       "        vertical-align: middle;\n",
       "    }\n",
       "\n",
       "    .dataframe tbody tr th {\n",
       "        vertical-align: top;\n",
       "    }\n",
       "\n",
       "    .dataframe thead tr th {\n",
       "        text-align: left;\n",
       "    }\n",
       "\n",
       "    .dataframe thead tr:last-of-type th {\n",
       "        text-align: right;\n",
       "    }\n",
       "</style>\n",
       "<table border=\"1\" class=\"dataframe\">\n",
       "  <thead>\n",
       "    <tr>\n",
       "      <th></th>\n",
       "      <th colspan=\"21\" halign=\"left\">Resultado</th>\n",
       "    </tr>\n",
       "    <tr>\n",
       "      <th>Composto</th>\n",
       "      <th>1</th>\n",
       "      <th>2</th>\n",
       "      <th>3</th>\n",
       "      <th>4</th>\n",
       "      <th>5</th>\n",
       "      <th>6</th>\n",
       "      <th>7</th>\n",
       "      <th>8</th>\n",
       "      <th>9</th>\n",
       "      <th>10</th>\n",
       "      <th>...</th>\n",
       "      <th>52</th>\n",
       "      <th>53</th>\n",
       "      <th>64</th>\n",
       "      <th>65</th>\n",
       "      <th>66</th>\n",
       "      <th>67</th>\n",
       "      <th>68</th>\n",
       "      <th>69</th>\n",
       "      <th>78</th>\n",
       "      <th>79</th>\n",
       "    </tr>\n",
       "    <tr>\n",
       "      <th>Isolado</th>\n",
       "      <th></th>\n",
       "      <th></th>\n",
       "      <th></th>\n",
       "      <th></th>\n",
       "      <th></th>\n",
       "      <th></th>\n",
       "      <th></th>\n",
       "      <th></th>\n",
       "      <th></th>\n",
       "      <th></th>\n",
       "      <th></th>\n",
       "      <th></th>\n",
       "      <th></th>\n",
       "      <th></th>\n",
       "      <th></th>\n",
       "      <th></th>\n",
       "      <th></th>\n",
       "      <th></th>\n",
       "      <th></th>\n",
       "      <th></th>\n",
       "      <th></th>\n",
       "    </tr>\n",
       "  </thead>\n",
       "  <tbody>\n",
       "    <tr>\n",
       "      <th>UFT.2014(L)7781</th>\n",
       "      <td>NaN</td>\n",
       "      <td>+</td>\n",
       "      <td>+</td>\n",
       "      <td>+</td>\n",
       "      <td>+</td>\n",
       "      <td>+</td>\n",
       "      <td>+</td>\n",
       "      <td>-</td>\n",
       "      <td>+</td>\n",
       "      <td>+</td>\n",
       "      <td>...</td>\n",
       "      <td>NaN</td>\n",
       "      <td>NaN</td>\n",
       "      <td>NaN</td>\n",
       "      <td>NaN</td>\n",
       "      <td>NaN</td>\n",
       "      <td>NaN</td>\n",
       "      <td>NaN</td>\n",
       "      <td>NaN</td>\n",
       "      <td>NaN</td>\n",
       "      <td>NaN</td>\n",
       "    </tr>\n",
       "    <tr>\n",
       "      <th>UFT.2015(L)8566</th>\n",
       "      <td>NaN</td>\n",
       "      <td>-c</td>\n",
       "      <td>-c</td>\n",
       "      <td>-</td>\n",
       "      <td>-</td>\n",
       "      <td>+</td>\n",
       "      <td>-</td>\n",
       "      <td>-</td>\n",
       "      <td>-</td>\n",
       "      <td>-</td>\n",
       "      <td>...</td>\n",
       "      <td>NaN</td>\n",
       "      <td>NaN</td>\n",
       "      <td>NaN</td>\n",
       "      <td>NaN</td>\n",
       "      <td>NaN</td>\n",
       "      <td>NaN</td>\n",
       "      <td>NaN</td>\n",
       "      <td>NaN</td>\n",
       "      <td>NaN</td>\n",
       "      <td>NaN</td>\n",
       "    </tr>\n",
       "    <tr>\n",
       "      <th>UFT.2015(L)8509</th>\n",
       "      <td>NaN</td>\n",
       "      <td>+</td>\n",
       "      <td>+</td>\n",
       "      <td>+w</td>\n",
       "      <td>+</td>\n",
       "      <td>+</td>\n",
       "      <td>-+</td>\n",
       "      <td>-</td>\n",
       "      <td>+w</td>\n",
       "      <td>+w</td>\n",
       "      <td>...</td>\n",
       "      <td>NaN</td>\n",
       "      <td>NaN</td>\n",
       "      <td>NaN</td>\n",
       "      <td>NaN</td>\n",
       "      <td>NaN</td>\n",
       "      <td>NaN</td>\n",
       "      <td>NaN</td>\n",
       "      <td>NaN</td>\n",
       "      <td>NaN</td>\n",
       "      <td>NaN</td>\n",
       "    </tr>\n",
       "    <tr>\n",
       "      <th>UFT.2014(L)7199</th>\n",
       "      <td>NaN</td>\n",
       "      <td>+</td>\n",
       "      <td>+</td>\n",
       "      <td>+</td>\n",
       "      <td>+</td>\n",
       "      <td>+</td>\n",
       "      <td>+</td>\n",
       "      <td>-</td>\n",
       "      <td>+</td>\n",
       "      <td>+</td>\n",
       "      <td>...</td>\n",
       "      <td>NaN</td>\n",
       "      <td>NaN</td>\n",
       "      <td>NaN</td>\n",
       "      <td>NaN</td>\n",
       "      <td>NaN</td>\n",
       "      <td>NaN</td>\n",
       "      <td>NaN</td>\n",
       "      <td>NaN</td>\n",
       "      <td>NaN</td>\n",
       "      <td>NaN</td>\n",
       "    </tr>\n",
       "    <tr>\n",
       "      <th>UFT.2014(L)7967</th>\n",
       "      <td>NaN</td>\n",
       "      <td>+</td>\n",
       "      <td>-</td>\n",
       "      <td>+</td>\n",
       "      <td>+</td>\n",
       "      <td>+</td>\n",
       "      <td>+</td>\n",
       "      <td>+</td>\n",
       "      <td>-</td>\n",
       "      <td>-</td>\n",
       "      <td>...</td>\n",
       "      <td>+</td>\n",
       "      <td>-</td>\n",
       "      <td>-</td>\n",
       "      <td>+</td>\n",
       "      <td>-</td>\n",
       "      <td>+</td>\n",
       "      <td>+</td>\n",
       "      <td>+</td>\n",
       "      <td>+</td>\n",
       "      <td>+</td>\n",
       "    </tr>\n",
       "  </tbody>\n",
       "</table>\n",
       "<p>5 rows × 57 columns</p>\n",
       "</div>"
      ],
      "text/plain": [
       "                Resultado                                   ...            \\\n",
       "Composto               1   2   3   4  5  6   7  8   9   10  ...   52   53   \n",
       "Isolado                                                     ...             \n",
       "UFT.2014(L)7781       NaN   +   +   +  +  +   +  -   +   +  ...  NaN  NaN   \n",
       "UFT.2015(L)8566       NaN  -c  -c   -  -  +   -  -   -   -  ...  NaN  NaN   \n",
       "UFT.2015(L)8509       NaN   +   +  +w  +  +  -+  -  +w  +w  ...  NaN  NaN   \n",
       "UFT.2014(L)7199       NaN   +   +   +  +  +   +  -   +   +  ...  NaN  NaN   \n",
       "UFT.2014(L)7967       NaN   +   -   +  +  +   +  +   -   -  ...    +    -   \n",
       "\n",
       "                                                         \n",
       "Composto          64   65   66   67   68   69   78   79  \n",
       "Isolado                                                  \n",
       "UFT.2014(L)7781  NaN  NaN  NaN  NaN  NaN  NaN  NaN  NaN  \n",
       "UFT.2015(L)8566  NaN  NaN  NaN  NaN  NaN  NaN  NaN  NaN  \n",
       "UFT.2015(L)8509  NaN  NaN  NaN  NaN  NaN  NaN  NaN  NaN  \n",
       "UFT.2014(L)7199  NaN  NaN  NaN  NaN  NaN  NaN  NaN  NaN  \n",
       "UFT.2014(L)7967    -    +    -    +    +    +    +    +  \n",
       "\n",
       "[5 rows x 57 columns]"
      ]
     },
     "execution_count": 16,
     "metadata": {},
     "output_type": "execute_result"
    }
   ],
   "source": [
    "df.sample(5)"
   ]
  },
  {
   "cell_type": "code",
   "execution_count": 17,
   "id": "functional-minister",
   "metadata": {},
   "outputs": [
    {
     "data": {
      "text/html": [
       "<div>\n",
       "<style scoped>\n",
       "    .dataframe tbody tr th:only-of-type {\n",
       "        vertical-align: middle;\n",
       "    }\n",
       "\n",
       "    .dataframe tbody tr th {\n",
       "        vertical-align: top;\n",
       "    }\n",
       "\n",
       "    .dataframe thead th {\n",
       "        text-align: right;\n",
       "    }\n",
       "</style>\n",
       "<table border=\"1\" class=\"dataframe\">\n",
       "  <thead>\n",
       "    <tr style=\"text-align: right;\">\n",
       "      <th></th>\n",
       "      <th>1</th>\n",
       "      <th>2</th>\n",
       "      <th>3</th>\n",
       "      <th>4</th>\n",
       "      <th>5</th>\n",
       "      <th>6</th>\n",
       "      <th>7</th>\n",
       "      <th>8</th>\n",
       "      <th>9</th>\n",
       "      <th>10</th>\n",
       "      <th>...</th>\n",
       "      <th>52</th>\n",
       "      <th>53</th>\n",
       "      <th>64</th>\n",
       "      <th>65</th>\n",
       "      <th>66</th>\n",
       "      <th>67</th>\n",
       "      <th>68</th>\n",
       "      <th>69</th>\n",
       "      <th>78</th>\n",
       "      <th>79</th>\n",
       "    </tr>\n",
       "  </thead>\n",
       "  <tbody>\n",
       "    <tr>\n",
       "      <th>UFT.2014(L)7773</th>\n",
       "      <td>NaN</td>\n",
       "      <td>-</td>\n",
       "      <td>-</td>\n",
       "      <td>-</td>\n",
       "      <td>-</td>\n",
       "      <td>-</td>\n",
       "      <td>-</td>\n",
       "      <td>-</td>\n",
       "      <td>-</td>\n",
       "      <td>-</td>\n",
       "      <td>...</td>\n",
       "      <td>NaN</td>\n",
       "      <td>NaN</td>\n",
       "      <td>NaN</td>\n",
       "      <td>NaN</td>\n",
       "      <td>NaN</td>\n",
       "      <td>NaN</td>\n",
       "      <td>NaN</td>\n",
       "      <td>NaN</td>\n",
       "      <td>NaN</td>\n",
       "      <td>NaN</td>\n",
       "    </tr>\n",
       "    <tr>\n",
       "      <th>UFT.2014(L)7840</th>\n",
       "      <td>NaN</td>\n",
       "      <td>+</td>\n",
       "      <td>+</td>\n",
       "      <td>+</td>\n",
       "      <td>+</td>\n",
       "      <td>+</td>\n",
       "      <td>+</td>\n",
       "      <td>-</td>\n",
       "      <td>+</td>\n",
       "      <td>-</td>\n",
       "      <td>...</td>\n",
       "      <td>NaN</td>\n",
       "      <td>NaN</td>\n",
       "      <td>NaN</td>\n",
       "      <td>NaN</td>\n",
       "      <td>NaN</td>\n",
       "      <td>NaN</td>\n",
       "      <td>NaN</td>\n",
       "      <td>NaN</td>\n",
       "      <td>NaN</td>\n",
       "      <td>NaN</td>\n",
       "    </tr>\n",
       "    <tr>\n",
       "      <th>UFT.2014(L)7847</th>\n",
       "      <td>NaN</td>\n",
       "      <td>-</td>\n",
       "      <td>+</td>\n",
       "      <td>-</td>\n",
       "      <td>+</td>\n",
       "      <td>-</td>\n",
       "      <td>-</td>\n",
       "      <td>-</td>\n",
       "      <td>-</td>\n",
       "      <td>-</td>\n",
       "      <td>...</td>\n",
       "      <td>+</td>\n",
       "      <td>-</td>\n",
       "      <td>NaN</td>\n",
       "      <td>-</td>\n",
       "      <td>NaN</td>\n",
       "      <td>NaN</td>\n",
       "      <td>NaN</td>\n",
       "      <td>NaN</td>\n",
       "      <td>NaN</td>\n",
       "      <td>NaN</td>\n",
       "    </tr>\n",
       "    <tr>\n",
       "      <th>UFT.2014(L)6882</th>\n",
       "      <td>NaN</td>\n",
       "      <td>+</td>\n",
       "      <td>+</td>\n",
       "      <td>+</td>\n",
       "      <td>+</td>\n",
       "      <td>+</td>\n",
       "      <td>+</td>\n",
       "      <td>-</td>\n",
       "      <td>+</td>\n",
       "      <td>+</td>\n",
       "      <td>...</td>\n",
       "      <td>NaN</td>\n",
       "      <td>NaN</td>\n",
       "      <td>NaN</td>\n",
       "      <td>NaN</td>\n",
       "      <td>NaN</td>\n",
       "      <td>NaN</td>\n",
       "      <td>NaN</td>\n",
       "      <td>NaN</td>\n",
       "      <td>NaN</td>\n",
       "      <td>NaN</td>\n",
       "    </tr>\n",
       "    <tr>\n",
       "      <th>UFT.2014(L)6793</th>\n",
       "      <td>NaN</td>\n",
       "      <td>-</td>\n",
       "      <td>-</td>\n",
       "      <td>-</td>\n",
       "      <td>-</td>\n",
       "      <td>-</td>\n",
       "      <td>-</td>\n",
       "      <td>-</td>\n",
       "      <td>-</td>\n",
       "      <td>-</td>\n",
       "      <td>...</td>\n",
       "      <td>+</td>\n",
       "      <td>+</td>\n",
       "      <td>-</td>\n",
       "      <td>-</td>\n",
       "      <td>-</td>\n",
       "      <td>+</td>\n",
       "      <td>+</td>\n",
       "      <td>+</td>\n",
       "      <td>-</td>\n",
       "      <td>-</td>\n",
       "    </tr>\n",
       "  </tbody>\n",
       "</table>\n",
       "<p>5 rows × 57 columns</p>\n",
       "</div>"
      ],
      "text/plain": [
       "                   1  2  3  4  5  6  7  8  9 10  ...   52   53   64   65   66  \\\n",
       "UFT.2014(L)7773  NaN  -  -  -  -  -  -  -  -  -  ...  NaN  NaN  NaN  NaN  NaN   \n",
       "UFT.2014(L)7840  NaN  +  +  +  +  +  +  -  +  -  ...  NaN  NaN  NaN  NaN  NaN   \n",
       "UFT.2014(L)7847  NaN  -  +  -  +  -  -  -  -  -  ...    +    -  NaN    -  NaN   \n",
       "UFT.2014(L)6882  NaN  +  +  +  +  +  +  -  +  +  ...  NaN  NaN  NaN  NaN  NaN   \n",
       "UFT.2014(L)6793  NaN  -  -  -  -  -  -  -  -  -  ...    +    +    -    -    -   \n",
       "\n",
       "                  67   68   69   78   79  \n",
       "UFT.2014(L)7773  NaN  NaN  NaN  NaN  NaN  \n",
       "UFT.2014(L)7840  NaN  NaN  NaN  NaN  NaN  \n",
       "UFT.2014(L)7847  NaN  NaN  NaN  NaN  NaN  \n",
       "UFT.2014(L)6882  NaN  NaN  NaN  NaN  NaN  \n",
       "UFT.2014(L)6793    +    +    +    -    -  \n",
       "\n",
       "[5 rows x 57 columns]"
      ]
     },
     "execution_count": 17,
     "metadata": {},
     "output_type": "execute_result"
    }
   ],
   "source": [
    "# o dataframe é o mesmo, só eliminei manualmente o identificador \"Resultado\" e ajeitei o header do arquivo:\n",
    "data = pd.read_csv('data/03.1 - reacoes_formatadas.csv', index_col=0)\n",
    "data.sample(5)"
   ]
  },
  {
   "cell_type": "code",
   "execution_count": 20,
   "id": "trained-genome",
   "metadata": {},
   "outputs": [],
   "source": [
    "from pandas_profiling import ProfileReport"
   ]
  },
  {
   "cell_type": "code",
   "execution_count": 22,
   "id": "better-worthy",
   "metadata": {},
   "outputs": [],
   "source": [
    "relatorio_inicial = ProfileReport(data, title=\"Reações - Relatorio Inicial\", correlations={\"cramers\": {\"calculate\": False}})"
   ]
  },
  {
   "cell_type": "code",
   "execution_count": 23,
   "id": "binding-viewer",
   "metadata": {},
   "outputs": [
    {
     "data": {
      "application/vnd.jupyter.widget-view+json": {
       "model_id": "d312d17b55d54a48a26f8a63c72fe96c",
       "version_major": 2,
       "version_minor": 0
      },
      "text/plain": [
       "Tab(children=(HTML(value='<div id=\"overview-content\" class=\"row variable spacing\">\\n    <div class=\"row\">\\n   …"
      ]
     },
     "metadata": {},
     "output_type": "display_data"
    },
    {
     "data": {
      "text/html": [
       "Report generated with <a href=\"https://github.com/pandas-profiling/pandas-profiling\">pandas-profiling</a>."
      ],
      "text/plain": [
       "<IPython.core.display.HTML object>"
      ]
     },
     "metadata": {},
     "output_type": "display_data"
    }
   ],
   "source": [
    "relatorio_inicial.to_widgets()"
   ]
  },
  {
   "cell_type": "code",
   "execution_count": null,
   "id": "radical-guatemala",
   "metadata": {},
   "outputs": [],
   "source": [
    "relatorio_inicial.to_file(\"01 - relatorio-inicial_reacoes.html\")\n"
   ]
  },
  {
   "cell_type": "markdown",
   "id": "84cc8cd9-415c-4336-85a2-fabad8c68e96",
   "metadata": {},
   "source": [
    "Deleta (arbitrariamente) colunas com menos de 50% de preenchimento dos dados:\n",
    "As colunas com mais de 50% de valores nulos são, respectivamente:\n",
    "1, 39, 40, 45, 46, 48, 64, 67, 68, 69, 78 e 79;\n",
    "\n",
    "Logo, ..."
   ]
  },
  {
   "cell_type": "code",
   "execution_count": 26,
   "id": "66fe51c2-99ac-4d7f-a94f-3353d439a0d5",
   "metadata": {},
   "outputs": [],
   "source": [
    "# TODO: automatizar/melhorar isso aqui:\n",
    "colunas_excluir = [ '1', '39', '40', '45', '46', '48', '64', '67', '68', '69', '78', '79' ]\n",
    "# for coluna in colunas_excluir:\n",
    "\n",
    "data.drop(columns=colunas_excluir, axis=0, inplace=True)\n"
   ]
  },
  {
   "cell_type": "code",
   "execution_count": 27,
   "id": "c03dc6da-8062-4bba-bfd3-07a28bc60321",
   "metadata": {},
   "outputs": [
    {
     "data": {
      "text/plain": [
       "(601, 45)"
      ]
     },
     "execution_count": 27,
     "metadata": {},
     "output_type": "execute_result"
    }
   ],
   "source": [
    "# dimensao atual, sem os 12 compostos removidos por pela alta taxa de valores em branco:\n",
    "data.shape\n"
   ]
  },
  {
   "cell_type": "markdown",
   "id": "cc42e481-369e-4d01-9b1c-ae753ff3c00e",
   "metadata": {},
   "source": [
    "Verificar colunas com baixa cardinalidade (com cardinalidade igual a 1). Colunas cujos valores não possuem variação não contribuem para algoritmo de agrupamento; \n"
   ]
  },
  {
   "cell_type": "code",
   "execution_count": 29,
   "id": "59960433-446d-461f-bddd-30945e5de803",
   "metadata": {},
   "outputs": [],
   "source": [
    "# apenas um coluna apresenta cardinalidade == 1. Coluna correspondente ao composto 48. \n",
    "#Já removido na operação anterior por apresentar 92% dos dados faltantes.\n"
   ]
  },
  {
   "cell_type": "code",
   "execution_count": null,
   "id": "f5927e91-86f6-4e55-b83d-643bd718134a",
   "metadata": {},
   "outputs": [],
   "source": [
    "# salva estado atual da tabela:\n",
    "# salva estado atual do dataframe em arquivo CSV:\n",
    "data.to_csv('03.1 - reacoes_col_.csv')"
   ]
  },
  {
   "cell_type": "code",
   "execution_count": null,
   "id": "f96df34c-5ac0-4cf2-bdc9-910f7db7bf75",
   "metadata": {},
   "outputs": [],
   "source": []
  },
  {
   "cell_type": "code",
   "execution_count": null,
   "id": "3fd4e62f-4495-41bd-9ea1-dc1cfb8121db",
   "metadata": {},
   "outputs": [],
   "source": []
  }
 ],
 "metadata": {
  "kernelspec": {
   "display_name": "Python 3",
   "language": "python",
   "name": "python3"
  },
  "language_info": {
   "codemirror_mode": {
    "name": "ipython",
    "version": 3
   },
   "file_extension": ".py",
   "mimetype": "text/x-python",
   "name": "python",
   "nbconvert_exporter": "python",
   "pygments_lexer": "ipython3",
   "version": "3.6.12"
  }
 },
 "nbformat": 4,
 "nbformat_minor": 5
}

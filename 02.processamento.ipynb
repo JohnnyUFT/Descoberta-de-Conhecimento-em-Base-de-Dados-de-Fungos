{
 "cells": [
  {
   "cell_type": "markdown",
   "id": "2de1c106-c4a2-4999-ba2c-4e6e8f1370bd",
   "metadata": {},
   "source": [
    "### Processamento: Aplicação dos algoritmos de Agrupamento"
   ]
  },
  {
   "cell_type": "code",
   "execution_count": 1,
   "id": "precious-market",
   "metadata": {},
   "outputs": [],
   "source": [
    "import numpy as np\n",
    "import matplotlib.pyplot as plt\n",
    "import pandas as pd\n",
    "import seaborn as sns\n",
    "\n",
    "sns.set()\n",
    "%matplotlib inline\n"
   ]
  },
  {
   "cell_type": "code",
   "execution_count": 2,
   "id": "posted-separate",
   "metadata": {},
   "outputs": [
    {
     "data": {
      "text/html": [
       "<div>\n",
       "<style scoped>\n",
       "    .dataframe tbody tr th:only-of-type {\n",
       "        vertical-align: middle;\n",
       "    }\n",
       "\n",
       "    .dataframe tbody tr th {\n",
       "        vertical-align: top;\n",
       "    }\n",
       "\n",
       "    .dataframe thead th {\n",
       "        text-align: right;\n",
       "    }\n",
       "</style>\n",
       "<table border=\"1\" class=\"dataframe\">\n",
       "  <thead>\n",
       "    <tr style=\"text-align: right;\">\n",
       "      <th></th>\n",
       "      <th>2 +w</th>\n",
       "      <th>2 -</th>\n",
       "      <th>2 -+</th>\n",
       "      <th>2 -c</th>\n",
       "      <th>2 -w</th>\n",
       "      <th>2 w</th>\n",
       "      <th>3 +w</th>\n",
       "      <th>3 -</th>\n",
       "      <th>3 -+</th>\n",
       "      <th>3 -c</th>\n",
       "      <th>...</th>\n",
       "      <th>43 w</th>\n",
       "      <th>44 -</th>\n",
       "      <th>49 -</th>\n",
       "      <th>49 w</th>\n",
       "      <th>50 -</th>\n",
       "      <th>51 -</th>\n",
       "      <th>52 -</th>\n",
       "      <th>53 -</th>\n",
       "      <th>65 -</th>\n",
       "      <th>66 -</th>\n",
       "    </tr>\n",
       "  </thead>\n",
       "  <tbody>\n",
       "    <tr>\n",
       "      <th>UFT.2014(L)7783</th>\n",
       "      <td>0</td>\n",
       "      <td>0</td>\n",
       "      <td>0</td>\n",
       "      <td>0</td>\n",
       "      <td>0</td>\n",
       "      <td>0</td>\n",
       "      <td>0</td>\n",
       "      <td>0</td>\n",
       "      <td>0</td>\n",
       "      <td>0</td>\n",
       "      <td>...</td>\n",
       "      <td>0</td>\n",
       "      <td>0</td>\n",
       "      <td>1</td>\n",
       "      <td>0</td>\n",
       "      <td>1</td>\n",
       "      <td>0</td>\n",
       "      <td>0</td>\n",
       "      <td>0</td>\n",
       "      <td>0</td>\n",
       "      <td>0</td>\n",
       "    </tr>\n",
       "    <tr>\n",
       "      <th>UFT.2014(L)7785</th>\n",
       "      <td>0</td>\n",
       "      <td>1</td>\n",
       "      <td>0</td>\n",
       "      <td>0</td>\n",
       "      <td>0</td>\n",
       "      <td>0</td>\n",
       "      <td>0</td>\n",
       "      <td>0</td>\n",
       "      <td>0</td>\n",
       "      <td>0</td>\n",
       "      <td>...</td>\n",
       "      <td>0</td>\n",
       "      <td>0</td>\n",
       "      <td>1</td>\n",
       "      <td>0</td>\n",
       "      <td>1</td>\n",
       "      <td>0</td>\n",
       "      <td>0</td>\n",
       "      <td>0</td>\n",
       "      <td>0</td>\n",
       "      <td>0</td>\n",
       "    </tr>\n",
       "    <tr>\n",
       "      <th>UFT.2014(L)7737</th>\n",
       "      <td>0</td>\n",
       "      <td>0</td>\n",
       "      <td>0</td>\n",
       "      <td>0</td>\n",
       "      <td>0</td>\n",
       "      <td>0</td>\n",
       "      <td>0</td>\n",
       "      <td>0</td>\n",
       "      <td>0</td>\n",
       "      <td>0</td>\n",
       "      <td>...</td>\n",
       "      <td>0</td>\n",
       "      <td>0</td>\n",
       "      <td>1</td>\n",
       "      <td>0</td>\n",
       "      <td>1</td>\n",
       "      <td>0</td>\n",
       "      <td>0</td>\n",
       "      <td>1</td>\n",
       "      <td>0</td>\n",
       "      <td>1</td>\n",
       "    </tr>\n",
       "    <tr>\n",
       "      <th>UFT.2014(L)7868</th>\n",
       "      <td>0</td>\n",
       "      <td>0</td>\n",
       "      <td>0</td>\n",
       "      <td>0</td>\n",
       "      <td>0</td>\n",
       "      <td>0</td>\n",
       "      <td>0</td>\n",
       "      <td>0</td>\n",
       "      <td>0</td>\n",
       "      <td>0</td>\n",
       "      <td>...</td>\n",
       "      <td>0</td>\n",
       "      <td>0</td>\n",
       "      <td>1</td>\n",
       "      <td>0</td>\n",
       "      <td>1</td>\n",
       "      <td>0</td>\n",
       "      <td>0</td>\n",
       "      <td>0</td>\n",
       "      <td>0</td>\n",
       "      <td>0</td>\n",
       "    </tr>\n",
       "    <tr>\n",
       "      <th>UFT.2014(L)7899</th>\n",
       "      <td>0</td>\n",
       "      <td>0</td>\n",
       "      <td>0</td>\n",
       "      <td>0</td>\n",
       "      <td>0</td>\n",
       "      <td>0</td>\n",
       "      <td>0</td>\n",
       "      <td>0</td>\n",
       "      <td>0</td>\n",
       "      <td>0</td>\n",
       "      <td>...</td>\n",
       "      <td>0</td>\n",
       "      <td>0</td>\n",
       "      <td>1</td>\n",
       "      <td>0</td>\n",
       "      <td>1</td>\n",
       "      <td>0</td>\n",
       "      <td>0</td>\n",
       "      <td>0</td>\n",
       "      <td>0</td>\n",
       "      <td>0</td>\n",
       "    </tr>\n",
       "  </tbody>\n",
       "</table>\n",
       "<p>5 rows × 148 columns</p>\n",
       "</div>"
      ],
      "text/plain": [
       "                 2 +w  2 -  2 -+  2 -c  2 -w  2 w  3 +w  3 -  3 -+  3 -c  ...  \\\n",
       "UFT.2014(L)7783     0    0     0     0     0    0     0    0     0     0  ...   \n",
       "UFT.2014(L)7785     0    1     0     0     0    0     0    0     0     0  ...   \n",
       "UFT.2014(L)7737     0    0     0     0     0    0     0    0     0     0  ...   \n",
       "UFT.2014(L)7868     0    0     0     0     0    0     0    0     0     0  ...   \n",
       "UFT.2014(L)7899     0    0     0     0     0    0     0    0     0     0  ...   \n",
       "\n",
       "                 43 w  44 -  49 -  49 w  50 -  51 -  52 -  53 -  65 -  66 -  \n",
       "UFT.2014(L)7783     0     0     1     0     1     0     0     0     0     0  \n",
       "UFT.2014(L)7785     0     0     1     0     1     0     0     0     0     0  \n",
       "UFT.2014(L)7737     0     0     1     0     1     0     0     1     0     1  \n",
       "UFT.2014(L)7868     0     0     1     0     1     0     0     0     0     0  \n",
       "UFT.2014(L)7899     0     0     1     0     1     0     0     0     0     0  \n",
       "\n",
       "[5 rows x 148 columns]"
      ]
     },
     "execution_count": 2,
     "metadata": {},
     "output_type": "execute_result"
    }
   ],
   "source": [
    "# o arquivo CSV lido é resultado das etapas anteriores do Pipeline desenvolvido:\n",
    "data = pd.read_csv('data/04.2 - reacoes_dummy_encoded.csv', index_col=0)\n",
    "\n",
    "data.sample(5)\n"
   ]
  },
  {
   "cell_type": "code",
   "execution_count": 3,
   "id": "neutral-client",
   "metadata": {},
   "outputs": [],
   "source": [
    "import numpy as np\n",
    "from kmodes.kmodes import KModes"
   ]
  },
  {
   "cell_type": "code",
   "execution_count": 4,
   "id": "sexual-velvet",
   "metadata": {},
   "outputs": [
    {
     "name": "stdout",
     "output_type": "stream",
     "text": [
      "Init: initializing centroids\n",
      "Init: initializing clusters\n",
      "Starting iterations...\n",
      "Run 1, iteration: 1/100, moves: 19, cost: 5840.0\n",
      "Run 1, iteration: 2/100, moves: 0, cost: 5840.0\n"
     ]
    }
   ],
   "source": [
    "# https://www.kaggle.com/ashydv/bank-customer-clustering-k-modes-clustering\n",
    "\n",
    "km_cao = KModes(n_clusters=2, init = \"Cao\", n_init = 1, verbose=1)\n",
    "fitClusters_cao = km_cao.fit_predict(data)\n"
   ]
  },
  {
   "cell_type": "code",
   "execution_count": 5,
   "id": "annual-segment",
   "metadata": {},
   "outputs": [
    {
     "data": {
      "text/plain": [
       "array([1, 0, 0, 0, 0, 0, 1, 0, 0, 1, 1, 1, 1, 1, 1, 0, 0, 0, 1, 0, 1, 0,\n",
       "       0, 0, 0, 0, 0, 0, 0, 1, 1, 1, 0, 1, 0, 0, 0, 0, 0, 0, 1, 0, 0, 0,\n",
       "       0, 0, 0, 0, 0, 1, 1, 0, 1, 0, 0, 0, 0, 0, 0, 0, 0, 0, 0, 0, 0, 0,\n",
       "       0, 0, 0, 0, 1, 0, 0, 0, 1, 0, 0, 0, 1, 1, 0, 1, 1, 1, 0, 0, 0, 0,\n",
       "       0, 1, 0, 0, 0, 0, 0, 0, 0, 0, 1, 0, 0, 0, 0, 1, 0, 0, 0, 0, 0, 1,\n",
       "       1, 1, 1, 1, 0, 0, 0, 0, 0, 0, 0, 1, 0, 0, 0, 0, 0, 0, 0, 1, 1, 0,\n",
       "       0, 0, 1, 1, 1, 0, 0, 0, 0, 0, 0, 1, 1, 0, 0, 0, 0, 0, 1, 1, 1, 0,\n",
       "       0, 0, 1, 1, 0, 1, 0, 0, 0, 0, 0, 0, 1, 0, 0, 0, 0, 1, 0, 0, 0, 0,\n",
       "       0, 0, 0, 1, 0, 0, 0, 0, 1, 0, 0, 0, 0, 0, 0, 0, 0, 1, 0, 0, 0, 0,\n",
       "       0, 0, 0, 0, 1, 1, 0, 0, 0, 0, 1, 1, 1, 1, 1, 0, 1, 1, 0, 0, 0, 0,\n",
       "       0, 0, 0, 0, 0, 0, 0, 0, 0, 0, 0, 0, 0, 0, 0, 0, 0, 0, 0, 0, 0, 0,\n",
       "       1, 1, 1, 0, 0, 1, 0, 1, 0, 1, 0, 0, 0, 1, 0, 0, 1, 1, 0, 0, 1, 0,\n",
       "       0, 1, 0, 0, 1, 1, 1, 0, 0, 0, 0, 0, 1, 1, 0, 0, 0, 0, 0, 0, 0, 0,\n",
       "       0, 1, 0, 0, 0, 0, 0, 0, 0, 1, 0, 0, 0, 0, 0, 0, 0, 0, 0, 1, 0, 0,\n",
       "       0, 0, 0, 0, 0, 0, 0, 0, 0, 0, 0, 0, 0, 0, 0, 1, 1, 0, 0, 0, 0, 0,\n",
       "       0, 0, 0, 0, 0, 1, 0, 0, 0, 0, 0, 0, 0, 0, 0, 0, 0, 0, 0, 0, 0, 0,\n",
       "       0, 0, 0, 0, 1, 0, 1, 1, 0, 0, 1, 0, 1, 1, 0, 1, 0, 1, 0, 1, 0, 0,\n",
       "       1, 0, 0, 0, 0, 0, 1, 1, 1, 0, 1, 0, 0, 1, 0, 0, 1, 0, 0, 0, 1, 0,\n",
       "       0, 0, 0, 0, 0, 0, 0, 0, 0, 0, 0, 0, 0, 0, 0, 0, 1, 0, 0, 0, 0, 0,\n",
       "       0, 0, 0, 0, 0, 0, 0, 0, 0, 0, 1, 0, 1, 1, 1, 1, 1, 0, 1, 1, 0, 0,\n",
       "       1, 0, 0, 0, 1, 0, 0, 0, 1, 1, 0, 1, 1, 0, 1, 0, 1, 0, 0, 0, 1, 0,\n",
       "       1, 1, 0, 1, 0, 1, 0, 0, 0, 0, 0, 0, 1, 0, 0, 0, 0, 0, 0, 0, 0, 0,\n",
       "       0, 0, 0, 0, 1, 1, 1, 0, 0, 0, 0, 0, 0, 0, 1, 0, 0, 1, 0, 0, 0, 0,\n",
       "       0, 0, 0, 0, 0, 0, 0, 0, 1, 0, 1, 0, 0, 0, 0, 1, 1, 1, 1, 0, 0, 0,\n",
       "       0, 0, 0, 0, 0, 0, 0, 0, 1, 0, 0, 0, 0, 0, 0, 0, 0, 0, 0, 0, 0, 0,\n",
       "       0, 0, 0, 0, 0, 0, 0, 0, 0, 0, 0, 0, 0, 0, 0, 0, 0, 0, 0, 0, 0, 0,\n",
       "       0, 0, 0, 0, 0, 0, 0, 0, 0, 0, 0, 0, 1, 0, 0, 0, 0, 0, 0, 0, 0, 0,\n",
       "       0, 1, 0, 0, 1, 0, 0], dtype=uint16)"
      ]
     },
     "execution_count": 5,
     "metadata": {},
     "output_type": "execute_result"
    }
   ],
   "source": [
    "# Predicted Clusters\n",
    "fitClusters_cao\n"
   ]
  },
  {
   "cell_type": "code",
   "execution_count": 6,
   "id": "significant-constant",
   "metadata": {},
   "outputs": [],
   "source": [
    "clusterCentroidsDf = pd.DataFrame(km_cao.cluster_centroids_)\n",
    "clusterCentroidsDf.columns = data.columns\n"
   ]
  },
  {
   "cell_type": "code",
   "execution_count": 7,
   "id": "reflected-coral",
   "metadata": {},
   "outputs": [
    {
     "data": {
      "text/html": [
       "<div>\n",
       "<style scoped>\n",
       "    .dataframe tbody tr th:only-of-type {\n",
       "        vertical-align: middle;\n",
       "    }\n",
       "\n",
       "    .dataframe tbody tr th {\n",
       "        vertical-align: top;\n",
       "    }\n",
       "\n",
       "    .dataframe thead th {\n",
       "        text-align: right;\n",
       "    }\n",
       "</style>\n",
       "<table border=\"1\" class=\"dataframe\">\n",
       "  <thead>\n",
       "    <tr style=\"text-align: right;\">\n",
       "      <th></th>\n",
       "      <th>2 +w</th>\n",
       "      <th>2 -</th>\n",
       "      <th>2 -+</th>\n",
       "      <th>2 -c</th>\n",
       "      <th>2 -w</th>\n",
       "      <th>2 w</th>\n",
       "      <th>3 +w</th>\n",
       "      <th>3 -</th>\n",
       "      <th>3 -+</th>\n",
       "      <th>3 -c</th>\n",
       "      <th>...</th>\n",
       "      <th>43 w</th>\n",
       "      <th>44 -</th>\n",
       "      <th>49 -</th>\n",
       "      <th>49 w</th>\n",
       "      <th>50 -</th>\n",
       "      <th>51 -</th>\n",
       "      <th>52 -</th>\n",
       "      <th>53 -</th>\n",
       "      <th>65 -</th>\n",
       "      <th>66 -</th>\n",
       "    </tr>\n",
       "  </thead>\n",
       "  <tbody>\n",
       "    <tr>\n",
       "      <th>0</th>\n",
       "      <td>0</td>\n",
       "      <td>0</td>\n",
       "      <td>0</td>\n",
       "      <td>0</td>\n",
       "      <td>0</td>\n",
       "      <td>0</td>\n",
       "      <td>0</td>\n",
       "      <td>0</td>\n",
       "      <td>0</td>\n",
       "      <td>0</td>\n",
       "      <td>...</td>\n",
       "      <td>0</td>\n",
       "      <td>0</td>\n",
       "      <td>1</td>\n",
       "      <td>0</td>\n",
       "      <td>1</td>\n",
       "      <td>0</td>\n",
       "      <td>0</td>\n",
       "      <td>0</td>\n",
       "      <td>0</td>\n",
       "      <td>0</td>\n",
       "    </tr>\n",
       "    <tr>\n",
       "      <th>1</th>\n",
       "      <td>0</td>\n",
       "      <td>1</td>\n",
       "      <td>0</td>\n",
       "      <td>0</td>\n",
       "      <td>0</td>\n",
       "      <td>0</td>\n",
       "      <td>0</td>\n",
       "      <td>1</td>\n",
       "      <td>0</td>\n",
       "      <td>0</td>\n",
       "      <td>...</td>\n",
       "      <td>0</td>\n",
       "      <td>1</td>\n",
       "      <td>1</td>\n",
       "      <td>0</td>\n",
       "      <td>1</td>\n",
       "      <td>0</td>\n",
       "      <td>0</td>\n",
       "      <td>0</td>\n",
       "      <td>1</td>\n",
       "      <td>1</td>\n",
       "    </tr>\n",
       "  </tbody>\n",
       "</table>\n",
       "<p>2 rows × 148 columns</p>\n",
       "</div>"
      ],
      "text/plain": [
       "   2 +w  2 -  2 -+  2 -c  2 -w  2 w  3 +w  3 -  3 -+  3 -c  ...  43 w  44 -  \\\n",
       "0     0    0     0     0     0    0     0    0     0     0  ...     0     0   \n",
       "1     0    1     0     0     0    0     0    1     0     0  ...     0     1   \n",
       "\n",
       "   49 -  49 w  50 -  51 -  52 -  53 -  65 -  66 -  \n",
       "0     1     0     1     0     0     0     0     0  \n",
       "1     1     0     1     0     0     0     1     1  \n",
       "\n",
       "[2 rows x 148 columns]"
      ]
     },
     "execution_count": 7,
     "metadata": {},
     "output_type": "execute_result"
    }
   ],
   "source": [
    "# Mode of the clusters\n",
    "clusterCentroidsDf\n"
   ]
  },
  {
   "cell_type": "code",
   "execution_count": 8,
   "id": "becoming-alaska",
   "metadata": {},
   "outputs": [],
   "source": [
    "# pequena variação nos parametros e vejamos os resultados:\n",
    "\n",
    "# Using K-Mode with \"Huang\" initialization\n"
   ]
  },
  {
   "cell_type": "code",
   "execution_count": 9,
   "id": "proprietary-information",
   "metadata": {},
   "outputs": [
    {
     "name": "stdout",
     "output_type": "stream",
     "text": [
      "Init: initializing centroids\n",
      "Init: initializing clusters\n",
      "Starting iterations...\n",
      "Run 1, iteration: 1/100, moves: 164, cost: 5996.0\n",
      "Run 1, iteration: 2/100, moves: 53, cost: 5889.0\n",
      "Run 1, iteration: 3/100, moves: 27, cost: 5821.0\n",
      "Run 1, iteration: 4/100, moves: 23, cost: 5805.0\n",
      "Run 1, iteration: 5/100, moves: 0, cost: 5805.0\n"
     ]
    }
   ],
   "source": [
    "km_huang = KModes(n_clusters=2, init = \"Huang\", n_init = 1, verbose=1)\n",
    "fitClusters_huang = km_huang.fit_predict(data)\n"
   ]
  },
  {
   "cell_type": "code",
   "execution_count": 10,
   "id": "dedicated-belarus",
   "metadata": {},
   "outputs": [
    {
     "data": {
      "text/plain": [
       "array([0, 1, 1, 1, 1, 1, 0, 1, 1, 0, 0, 0, 0, 0, 0, 0, 1, 1, 0, 1, 0, 1,\n",
       "       1, 0, 1, 1, 1, 1, 1, 0, 0, 0, 1, 0, 1, 1, 1, 1, 1, 1, 0, 1, 1, 1,\n",
       "       1, 1, 1, 0, 1, 0, 0, 0, 0, 1, 1, 1, 1, 1, 1, 1, 1, 1, 1, 1, 1, 1,\n",
       "       1, 1, 1, 1, 0, 1, 1, 1, 0, 1, 1, 1, 0, 0, 1, 0, 0, 0, 1, 1, 1, 1,\n",
       "       1, 0, 1, 1, 1, 1, 1, 1, 1, 1, 0, 1, 0, 1, 1, 0, 1, 1, 1, 1, 1, 0,\n",
       "       0, 0, 0, 0, 1, 1, 1, 1, 1, 1, 1, 0, 0, 1, 1, 1, 1, 1, 1, 0, 0, 1,\n",
       "       1, 1, 0, 0, 0, 1, 1, 1, 1, 0, 1, 0, 0, 1, 0, 1, 1, 1, 0, 0, 0, 1,\n",
       "       1, 1, 0, 0, 1, 0, 1, 1, 1, 1, 1, 1, 0, 1, 1, 1, 1, 0, 1, 1, 1, 1,\n",
       "       1, 0, 1, 0, 1, 1, 0, 1, 0, 1, 1, 1, 1, 1, 1, 1, 1, 0, 0, 1, 1, 0,\n",
       "       1, 1, 1, 1, 0, 0, 0, 1, 1, 1, 0, 0, 0, 0, 0, 1, 0, 0, 1, 1, 1, 1,\n",
       "       1, 1, 1, 1, 1, 1, 1, 1, 1, 1, 1, 1, 1, 1, 1, 1, 1, 1, 1, 1, 1, 1,\n",
       "       0, 0, 0, 1, 1, 0, 1, 0, 1, 0, 1, 0, 1, 0, 1, 1, 0, 0, 1, 1, 0, 1,\n",
       "       1, 0, 0, 1, 0, 0, 0, 1, 1, 1, 1, 1, 0, 0, 1, 1, 1, 1, 1, 1, 1, 1,\n",
       "       1, 0, 1, 1, 1, 1, 1, 1, 1, 0, 1, 1, 1, 1, 1, 1, 1, 1, 1, 0, 1, 1,\n",
       "       0, 1, 1, 1, 1, 1, 1, 1, 1, 1, 1, 1, 0, 1, 1, 0, 0, 1, 1, 1, 1, 1,\n",
       "       1, 1, 1, 1, 1, 0, 1, 1, 1, 0, 1, 1, 1, 1, 1, 1, 1, 1, 1, 1, 1, 1,\n",
       "       1, 1, 0, 1, 0, 1, 0, 0, 1, 1, 0, 0, 0, 0, 0, 0, 1, 0, 1, 0, 1, 0,\n",
       "       0, 1, 1, 1, 1, 1, 0, 0, 0, 1, 0, 0, 1, 0, 1, 1, 0, 1, 1, 1, 0, 1,\n",
       "       1, 1, 1, 1, 1, 1, 1, 1, 1, 1, 1, 1, 1, 1, 1, 1, 0, 1, 1, 1, 1, 1,\n",
       "       1, 1, 1, 1, 1, 1, 1, 1, 1, 1, 0, 1, 0, 0, 0, 0, 0, 1, 0, 0, 1, 0,\n",
       "       0, 1, 1, 1, 0, 1, 1, 1, 0, 0, 1, 0, 0, 1, 0, 1, 0, 0, 1, 1, 0, 1,\n",
       "       0, 0, 1, 0, 0, 0, 1, 1, 1, 1, 1, 1, 0, 1, 1, 1, 1, 1, 1, 1, 1, 1,\n",
       "       1, 1, 1, 1, 0, 0, 0, 1, 1, 1, 1, 1, 1, 1, 0, 1, 1, 0, 1, 1, 1, 1,\n",
       "       1, 1, 1, 1, 1, 1, 0, 1, 0, 1, 0, 1, 1, 1, 1, 0, 0, 0, 0, 1, 1, 1,\n",
       "       1, 1, 1, 0, 1, 1, 0, 1, 0, 1, 1, 1, 1, 0, 1, 1, 1, 1, 0, 0, 1, 0,\n",
       "       1, 0, 0, 1, 1, 0, 1, 1, 1, 1, 1, 0, 1, 0, 0, 1, 0, 0, 1, 1, 1, 1,\n",
       "       1, 1, 1, 1, 1, 1, 1, 1, 1, 1, 1, 1, 0, 0, 1, 0, 0, 1, 1, 1, 1, 1,\n",
       "       1, 0, 1, 1, 0, 1, 1], dtype=uint16)"
      ]
     },
     "execution_count": 10,
     "metadata": {},
     "output_type": "execute_result"
    }
   ],
   "source": [
    "# Predicted clusters\n",
    "fitClusters_huang\n"
   ]
  },
  {
   "cell_type": "code",
   "execution_count": 11,
   "id": "available-window",
   "metadata": {},
   "outputs": [],
   "source": [
    "# Choosing K by comparing Cost against each K\n"
   ]
  },
  {
   "cell_type": "code",
   "execution_count": 12,
   "id": "interstate-imagination",
   "metadata": {},
   "outputs": [
    {
     "name": "stdout",
     "output_type": "stream",
     "text": [
      "Init: initializing centroids\n",
      "Init: initializing clusters\n",
      "Starting iterations...\n",
      "Run 1, iteration: 1/100, moves: 0, cost: 8365.0\n",
      "Init: initializing centroids\n",
      "Init: initializing clusters\n",
      "Starting iterations...\n",
      "Run 1, iteration: 1/100, moves: 19, cost: 5840.0\n",
      "Run 1, iteration: 2/100, moves: 0, cost: 5840.0\n",
      "Init: initializing centroids\n",
      "Init: initializing clusters\n",
      "Starting iterations...\n",
      "Run 1, iteration: 1/100, moves: 19, cost: 5747.0\n",
      "Run 1, iteration: 2/100, moves: 0, cost: 5747.0\n",
      "Init: initializing centroids\n",
      "Init: initializing clusters\n",
      "Starting iterations...\n",
      "Run 1, iteration: 1/100, moves: 151, cost: 4893.0\n",
      "Run 1, iteration: 2/100, moves: 16, cost: 4893.0\n"
     ]
    }
   ],
   "source": [
    "cost = []\n",
    "for num_clusters in list(range(1,5)):\n",
    "    kmode = KModes(n_clusters=num_clusters, init = \"Cao\", n_init = 1, verbose=1)\n",
    "    kmode.fit_predict(data)\n",
    "    cost.append(kmode.cost_)\n",
    "    "
   ]
  },
  {
   "cell_type": "code",
   "execution_count": 13,
   "id": "southern-candle",
   "metadata": {},
   "outputs": [
    {
     "data": {
      "image/png": "[encoded data removed]",
      "text/plain": [
       "<Figure size 432x288 with 1 Axes>"
      ]
     },
     "metadata": {
      "needs_background": "light"
     },
     "output_type": "display_data"
    }
   ],
   "source": [
    "y = np.array([i for i in range(1,5,1)])\n",
    "plt.plot(y,cost, 'bx-')\n",
    "plt.xlabel('No. of clusters')\n",
    "plt.ylabel('Cost')\n",
    "plt.title('Elbow Method For Optimal k')\n",
    "plt.show()\n"
   ]
  },
  {
   "cell_type": "markdown",
   "id": "91f18c26-1532-4a48-a054-5ab795cb0749",
   "metadata": {},
   "source": [
    "### 1. Aglomerative Clustering:\n"
   ]
  },
  {
   "cell_type": "code",
   "execution_count": 14,
   "id": "typical-sixth",
   "metadata": {},
   "outputs": [],
   "source": [
    "from sklearn.cluster import AgglomerativeClustering\n",
    "from scipy.cluster.hierarchy import dendrogram"
   ]
  },
  {
   "cell_type": "code",
   "execution_count": 15,
   "id": "velvet-drink",
   "metadata": {},
   "outputs": [],
   "source": [
    "clustering = AgglomerativeClustering().fit(data)\n"
   ]
  },
  {
   "cell_type": "code",
   "execution_count": 16,
   "id": "cc11c10a-be8e-4009-ad0a-32fc46a2410b",
   "metadata": {},
   "outputs": [
    {
     "data": {
      "text/plain": [
       "array([1, 0, 0, 0, 0, 0, 1, 0, 0, 1, 1, 1, 1, 1, 1, 0, 0, 0, 1, 0, 1, 0,\n",
       "       0, 0, 0, 0, 0, 0, 0, 1, 1, 1, 0, 0, 0, 0, 0, 0, 0, 0, 1, 0, 0, 0,\n",
       "       0, 0, 0, 0, 0, 1, 1, 0, 1, 0, 0, 0, 0, 0, 0, 0, 0, 0, 0, 0, 0, 0,\n",
       "       0, 0, 0, 0, 1, 0, 0, 0, 1, 0, 0, 0, 1, 1, 0, 1, 1, 0, 0, 0, 0, 0,\n",
       "       0, 1, 0, 0, 0, 0, 0, 0, 0, 0, 0, 0, 0, 0, 0, 0, 0, 0, 0, 0, 0, 1,\n",
       "       1, 1, 1, 1, 0, 0, 0, 0, 0, 0, 0, 1, 0, 0, 0, 0, 0, 0, 0, 1, 1, 0,\n",
       "       0, 0, 1, 1, 1, 0, 0, 0, 0, 0, 0, 1, 1, 0, 0, 0, 0, 0, 1, 1, 1, 0,\n",
       "       0, 0, 1, 1, 0, 1, 0, 0, 0, 0, 0, 0, 1, 0, 0, 0, 0, 1, 0, 0, 0, 0,\n",
       "       0, 0, 0, 0, 0, 0, 0, 0, 1, 0, 0, 0, 0, 0, 0, 0, 0, 1, 0, 0, 0, 0,\n",
       "       0, 0, 0, 0, 1, 1, 0, 0, 0, 0, 1, 1, 1, 1, 1, 0, 0, 1, 0, 0, 0, 0,\n",
       "       0, 0, 0, 0, 0, 0, 0, 0, 0, 0, 0, 0, 0, 0, 0, 0, 0, 0, 0, 0, 0, 0,\n",
       "       1, 1, 1, 0, 0, 1, 0, 1, 0, 1, 0, 0, 0, 1, 0, 0, 0, 1, 0, 0, 1, 0,\n",
       "       0, 1, 0, 0, 1, 1, 1, 0, 0, 0, 0, 0, 1, 1, 0, 0, 0, 0, 0, 0, 0, 0,\n",
       "       0, 1, 0, 0, 0, 0, 0, 0, 0, 1, 0, 0, 0, 0, 0, 0, 0, 0, 0, 1, 0, 0,\n",
       "       0, 0, 0, 0, 0, 0, 0, 0, 0, 0, 0, 0, 0, 0, 0, 1, 1, 0, 0, 0, 0, 0,\n",
       "       0, 0, 0, 0, 0, 1, 0, 0, 0, 0, 0, 0, 0, 0, 0, 0, 0, 0, 0, 0, 0, 0,\n",
       "       0, 0, 0, 0, 1, 0, 1, 1, 0, 0, 1, 0, 1, 1, 0, 1, 0, 1, 0, 1, 0, 0,\n",
       "       1, 0, 0, 0, 0, 0, 1, 1, 1, 0, 1, 0, 0, 1, 0, 0, 1, 0, 0, 0, 1, 0,\n",
       "       0, 0, 0, 0, 0, 0, 0, 0, 0, 0, 0, 0, 0, 0, 0, 0, 1, 0, 0, 0, 0, 0,\n",
       "       0, 0, 0, 0, 0, 0, 0, 0, 0, 0, 1, 0, 1, 1, 1, 1, 1, 0, 1, 1, 0, 0,\n",
       "       1, 0, 0, 0, 1, 0, 0, 0, 1, 1, 0, 1, 1, 0, 1, 0, 1, 0, 0, 0, 1, 0,\n",
       "       1, 1, 0, 1, 0, 1, 0, 0, 0, 0, 0, 0, 1, 0, 0, 0, 0, 0, 0, 0, 0, 0,\n",
       "       0, 0, 0, 0, 0, 1, 0, 0, 0, 0, 0, 0, 0, 0, 1, 0, 0, 1, 0, 0, 0, 0,\n",
       "       0, 0, 0, 0, 0, 0, 0, 0, 1, 0, 1, 0, 0, 0, 0, 0, 0, 0, 1, 0, 0, 0,\n",
       "       0, 0, 0, 0, 0, 0, 0, 0, 1, 0, 0, 0, 0, 1, 0, 0, 0, 0, 1, 1, 0, 1,\n",
       "       0, 1, 1, 0, 0, 1, 0, 0, 0, 0, 0, 1, 0, 1, 1, 0, 1, 1, 0, 0, 0, 0,\n",
       "       0, 0, 0, 0, 0, 0, 0, 0, 0, 0, 0, 0, 1, 1, 0, 1, 1, 0, 0, 0, 0, 0,\n",
       "       0, 1, 0, 0, 1, 0, 0], dtype=int64)"
      ]
     },
     "execution_count": 16,
     "metadata": {},
     "output_type": "execute_result"
    }
   ],
   "source": [
    "clustering.labels_"
   ]
  },
  {
   "cell_type": "code",
   "execution_count": 17,
   "id": "73f8646f-a35d-4825-b055-dedb31ee6db9",
   "metadata": {},
   "outputs": [],
   "source": [
    "# https://scikit-learn.org/stable/auto_examples/cluster/plot_agglomerative_dendrogram.html#sphx-glr-auto-examples-cluster-plot-agglomerative-dendrogram-py\n",
    "\n",
    "def plot_dendrogram(model, **kwargs):\n",
    "    # Create linkage matrix and then plot the dendrogram\n",
    "\n",
    "    # create the counts of samples under each node\n",
    "    counts = np.zeros(model.children_.shape[0])\n",
    "    n_samples = len(model.labels_)\n",
    "    for i, merge in enumerate(model.children_):\n",
    "        current_count = 0\n",
    "        for child_idx in merge:\n",
    "            if child_idx < n_samples:\n",
    "                current_count += 1  # leaf node\n",
    "            else:\n",
    "                current_count += counts[child_idx - n_samples]\n",
    "        counts[i] = current_count\n",
    "\n",
    "    linkage_matrix = np.column_stack([model.children_, model.distances_,\n",
    "                                      counts]).astype(float)\n",
    "\n",
    "    # Plot the corresponding dendrogram\n",
    "    dendrogram(linkage_matrix, **kwargs)"
   ]
  },
  {
   "cell_type": "code",
   "execution_count": 18,
   "id": "e484f2c0-992f-453b-9b5d-5a9e4661b2be",
   "metadata": {},
   "outputs": [],
   "source": [
    "X = data"
   ]
  },
  {
   "cell_type": "code",
   "execution_count": 19,
   "id": "7fce7dc2-0114-41ad-90a9-237e7079061a",
   "metadata": {},
   "outputs": [],
   "source": [
    "# setting distance_threshold=0 ensures we compute the full tree.\n",
    "model = AgglomerativeClustering(distance_threshold=0, n_clusters=None)\n",
    "\n",
    "model = model.fit(X)\n"
   ]
  },
  {
   "cell_type": "code",
   "execution_count": 20,
   "id": "f5a8e509-3931-4cff-98a4-dab0dab7064d",
   "metadata": {},
   "outputs": [
    {
     "data": {
      "image/png": "[encoded data removed]",
      "text/plain": [
       "<Figure size 720x720 with 1 Axes>"
      ]
     },
     "metadata": {
      "needs_background": "light"
     },
     "output_type": "display_data"
    }
   ],
   "source": [
    "plt.figure(figsize=(10, 10))\n",
    "plt.title('Hierarchical Clustering Dendrogram')\n",
    "# plot the top three levels of the dendrogram\n",
    "plot_dendrogram(model, truncate_mode='level', p=4)\n",
    "plt.xlabel(\"Number of points in node (or index of point if no parenthesis).\")\n",
    "plt.show()\n"
   ]
  },
  {
   "cell_type": "markdown",
   "id": "519e9140-9cbc-4f82-8131-5eb934adf1aa",
   "metadata": {},
   "source": [
    "### 2. DBSCAN\n",
    "Density-Based Spatial Clustering of Applications with Noise"
   ]
  },
  {
   "cell_type": "code",
   "execution_count": 21,
   "id": "5e9370cc-c214-47a0-8698-e7b4340cfe20",
   "metadata": {},
   "outputs": [],
   "source": [
    "# https://medium.com/learningdatascience/anomaly-detection-techniques-in-python-50f650c75aaf\n",
    "\n",
    "from sklearn.cluster import DBSCAN\n",
    "outlier_detection = DBSCAN(\n",
    " eps = .3, \n",
    " metric='euclidean', \n",
    " min_samples = 5,\n",
    " n_jobs = -1)\n",
    "clusters = outlier_detection.fit_predict(data)"
   ]
  },
  {
   "cell_type": "code",
   "execution_count": 22,
   "id": "a079cabb-6329-4d63-be68-67dfe3da3d5c",
   "metadata": {},
   "outputs": [
    {
     "data": {
      "text/plain": [
       "array([-1,  0,  1, -1,  2, -1, -1,  3,  1, -1, -1, -1, -1, -1, -1, -1,  1,\n",
       "       -1, -1, -1, -1,  4,  0, -1, -1, -1, -1, -1,  1, -1, -1, -1, -1, -1,\n",
       "        1, -1, -1,  1, -1,  2, -1, -1,  4, -1,  5, -1, -1, -1, -1, -1, -1,\n",
       "       -1, -1, -1, -1, -1,  1, -1, -1,  0, -1, -1, -1,  1, -1, -1, -1,  1,\n",
       "       -1,  1, -1,  0,  1,  1, -1, -1, -1, -1, -1, -1, -1, -1, -1, -1,  3,\n",
       "       -1, -1, -1,  1, -1,  6,  1,  1,  0,  1,  4,  1, -1, -1, -1, -1, -1,\n",
       "       -1, -1,  1,  7,  6,  8,  2, -1, -1, -1, -1, -1,  8, -1, -1,  3,  5,\n",
       "        1,  4, -1, -1, -1, -1, -1, -1, -1, -1, -1, -1, -1, -1, -1, -1, -1,\n",
       "       -1,  4,  1, -1, -1, -1, -1, -1, -1, -1, -1, -1,  3, -1, -1, -1, -1,\n",
       "       -1,  1,  1, -1, -1,  1, -1,  1,  1,  1, -1,  3,  1, -1, -1,  1, -1,\n",
       "        1, -1, -1,  1, -1,  4,  1, -1,  0, -1,  1,  4, -1, -1, -1,  1, -1,\n",
       "       -1,  1, -1,  0, -1,  8, -1, -1, -1, -1, -1,  1, -1, -1, -1, -1, -1,\n",
       "       -1, -1, -1,  1, -1, -1, -1, -1, -1, -1, -1, -1, -1,  1,  1, -1,  0,\n",
       "        6,  6, -1,  6, -1,  1,  5, -1, -1,  1,  4,  1,  1,  1,  1, -1,  5,\n",
       "        9,  1,  1,  6, -1, -1, -1, -1, -1, -1, -1, -1, -1, -1, -1, -1, -1,\n",
       "       -1, -1, -1, -1, -1, -1, -1, -1, -1, -1, -1, -1, -1, -1, -1, -1, -1,\n",
       "       -1,  4, -1, -1, -1, -1, -1, -1, -1,  8,  8, -1, -1, -1, -1, -1,  8,\n",
       "        3,  1,  1,  1,  1, -1, -1,  9,  7, -1, -1,  6,  1,  9, -1, -1, -1,\n",
       "       -1,  6, -1, -1,  1, -1,  0,  4,  2, -1,  1, -1,  4,  1, -1, -1, -1,\n",
       "       -1, -1, -1, -1, -1, -1, -1,  7,  1, -1, -1,  1, -1,  4,  1,  1, -1,\n",
       "       -1, -1, -1, -1,  1, -1,  5, -1, -1,  1,  1,  1, -1,  5, -1, -1, -1,\n",
       "       -1, -1, -1, -1, -1, -1, -1, -1, -1, -1, -1, -1, -1, -1, -1, -1, -1,\n",
       "       -1,  1, -1, -1, -1,  1, -1, -1, -1, -1, -1, -1,  1, -1, -1, -1, -1,\n",
       "        1,  8,  1, -1, -1, -1, -1,  3,  0,  1,  1, -1,  1,  1, -1,  3,  1,\n",
       "       -1,  1,  9, -1, -1,  1,  3,  1,  1,  8, -1, -1,  1,  0,  1,  1,  1,\n",
       "        6,  2,  7, -1, -1, -1, -1, -1, -1, -1, -1, -1, -1,  0, -1, -1, -1,\n",
       "       -1,  1, -1,  3,  0, -1, -1, -1, -1, -1, -1,  0, -1,  1, -1, -1, -1,\n",
       "       -1, -1, -1, -1, -1, -1, -1, -1, -1, -1,  1, -1, -1,  3, -1, -1,  1,\n",
       "        0,  3,  3,  0,  1, -1,  0,  1,  9,  1,  8,  0, -1, -1, -1, -1,  9,\n",
       "        7,  5, -1, -1, -1, -1, -1, -1, -1, -1, -1, -1, -1, -1, -1, -1, -1,\n",
       "       -1, -1, -1, -1, -1, -1, -1, -1, -1, -1, -1, -1, -1, -1, -1, -1, -1,\n",
       "       -1, -1, -1, -1, -1, -1, -1, -1, -1, -1, -1, -1, 10, -1, 11, -1, 10,\n",
       "       10, 12, 11, 11, 10, 11, -1, 11, 11, -1, -1, 11, 12, 10, 10, -1, 10,\n",
       "       11, -1, 11, 11, -1, 11, 11, 12, -1, 12, 12, -1, 10, -1, -1, -1, 12,\n",
       "       -1, 10, 10, 10, 10, 12, -1, 11, -1, 11, 11, -1, 10, 10, 10, 10, -1,\n",
       "       -1, 10, 10, -1, 10, 10], dtype=int64)"
      ]
     },
     "execution_count": 22,
     "metadata": {},
     "output_type": "execute_result"
    }
   ],
   "source": [
    "clusters"
   ]
  },
  {
   "cell_type": "code",
   "execution_count": 23,
   "id": "644c7611-74fb-4651-bd28-e03325166a08",
   "metadata": {},
   "outputs": [],
   "source": [
    "# TODO: plotar gráfico com resultados;\n",
    "# TODO: rever hiperparametros;\n",
    "colors = ['royalblue', 'maroon', 'forestgreen', 'mediumorchid', 'tan', 'deeppink', 'olive', 'goldenrod', 'lightcyan', 'navy']\n",
    "vectorizer = np.vectorize(lambda x: colors[x % len(colors)])"
   ]
  },
  {
   "cell_type": "code",
   "execution_count": 24,
   "id": "0a06411b-32cd-42f9-9392-025cbef2368e",
   "metadata": {},
   "outputs": [
    {
     "name": "stderr",
     "output_type": "stream",
     "text": [
      "C:\\Users\\John\\.conda\\envs\\machinelearning\\lib\\site-packages\\sklearn\\utils\\deprecation.py:143: FutureWarning: The sklearn.datasets.samples_generator module is  deprecated in version 0.22 and will be removed in version 0.24. The corresponding classes / functions should instead be imported from sklearn.datasets. Anything that cannot be imported from sklearn.datasets is now part of the private API.\n",
      "  warnings.warn(message, FutureWarning)\n"
     ]
    }
   ],
   "source": [
    "from sklearn.datasets.samples_generator import make_blobs"
   ]
  },
  {
   "cell_type": "code",
   "execution_count": 25,
   "id": "2c689cc0-956e-4035-8dc2-bb392e49bc05",
   "metadata": {},
   "outputs": [
    {
     "data": {
      "text/plain": [
       "<matplotlib.collections.PathCollection at 0x182cbd0b8d0>"
      ]
     },
     "execution_count": 25,
     "metadata": {},
     "output_type": "execute_result"
    },
    {
     "data": {
      "image/png": "[encoded data removed]",
      "text/plain": [
       "<Figure size 432x288 with 1 Axes>"
      ]
     },
     "metadata": {
      "needs_background": "light"
     },
     "output_type": "display_data"
    }
   ],
   "source": [
    "# isso é somente um exemplo: tenho 601 pontos no cluster verdadeiro e apenas repetir esse numero aqui\n",
    "X, y = make_blobs(n_samples=601, n_features=148, centers=3, cluster_std=1.0, random_state=None)\n",
    "plt.scatter(X[:,0], X[:,1])"
   ]
  },
  {
   "cell_type": "code",
   "execution_count": 26,
   "id": "86fb2059-d524-41c2-9da5-8c70c1efb015",
   "metadata": {},
   "outputs": [
    {
     "data": {
      "text/plain": [
       "<matplotlib.collections.PathCollection at 0x182cbf64160>"
      ]
     },
     "execution_count": 26,
     "metadata": {},
     "output_type": "execute_result"
    },
    {
     "data": {
      "image/png": "[encoded data removed]",
      "text/plain": [
       "<Figure size 432x288 with 1 Axes>"
      ]
     },
     "metadata": {
      "needs_background": "light"
     },
     "output_type": "display_data"
    }
   ],
   "source": [
    "# isso é somente um exemplo: nao pode ser considerado devido ao fato de terem sido gerados pontos aleatorios no plano.\n",
    "plt.scatter(X[:,0], X[:,1], c=vectorizer(clusters))"
   ]
  },
  {
   "cell_type": "markdown",
   "id": "b7416382-ca95-4d50-bc90-d74dfe52cbff",
   "metadata": {},
   "source": [
    "### 3. HDBSCAN\n",
    "Hierarchical Density-Based Spatial Clustering of Applications with Noise"
   ]
  },
  {
   "cell_type": "code",
   "execution_count": 27,
   "id": "915584ca-ac30-40b7-84ef-51f945f77d6a",
   "metadata": {},
   "outputs": [
    {
     "name": "stderr",
     "output_type": "stream",
     "text": [
      "C:\\Users\\John\\.conda\\envs\\machinelearning\\lib\\site-packages\\hdbscan\\hdbscan_.py:219: UserWarning: Cannot generate Minimum Spanning Tree; the implemented Prim's does not produce the full minimum spanning tree \n",
      "  'the full minimum spanning tree ', UserWarning)\n"
     ]
    }
   ],
   "source": [
    "import hdbscan\n",
    "\n",
    "clusterer = hdbscan.HDBSCAN(min_cluster_size=5, cluster_selection_epsilon=0.3, gen_min_span_tree=True, approx_min_span_tree=False)\n",
    "cluster_labels = clusterer.fit_predict(data)\n"
   ]
  },
  {
   "cell_type": "code",
   "execution_count": 28,
   "id": "ac4e18bd-8ed6-4647-a311-4cb944cbff9d",
   "metadata": {},
   "outputs": [
    {
     "data": {
      "text/plain": [
       "array([21, 31, 39, -1, 26, 38, -1, 37, 39, -1, 21, 17, 23, -1, 12,  8, 39,\n",
       "        8, -1, -1, 10, 32, 31, -1, 38, -1, -1, 39, 39, 21, 12, 21, 25, -1,\n",
       "       39, -1, 15, 39, 27, 26, 21, 20, 32, -1, 27, -1, 30,  4, 38, 23, 23,\n",
       "       25, 21, -1, -1, 41, 39, 20, -1, 31, 38, 38, 13, 39, -1, 20,  4, 39,\n",
       "       -1, 39, -1, 31, 39, 39, 21, 15, 38, 38, 17, 14, -1,  4, 11, 25, 37,\n",
       "       20, 24, 39, 39, 10, 28, 39, 39, 31, 39, 32, 39,  6, -1, -1, 25,  4,\n",
       "       13, 24, 39, 40, 28, 34, 26, 10, -1, 17, 19, 10, 34, 42, -1, 37, 27,\n",
       "       39, 32, 21,  8, 41, 42, 24, 15,  6, 13, 12, 22, 30, 24, 38, 21, -1,\n",
       "       -1, 32, 39, 38, 35, -1, 15, 23, 10,  8,  8, 42, 37, 35, 23, 11, 10,\n",
       "       15, 39, 39, 23, -1, 39, 23, 39, 39, 39, 24, 37, 39,  4, 15, 39, 35,\n",
       "       39,  6, 35, 39, -1, 32, 39, 25, 31, 24, 39, 32, 25, 13, 23, 39, -1,\n",
       "       41, 39, -1, 31, 35, 34, 19, 24, 24,  6, 15, 39, -1, 36, 13, 21, 14,\n",
       "       25, 36, -1, 39, 21, 19, 21, 19, 14,  6, 24, 12, 20, 39, 39, 35, 31,\n",
       "       28, 28, 27, 28, -1, 39, 27, -1, -1, 39, 32, 39, 39, 39, 39, 36, 27,\n",
       "       29, 39, 39, 28, 14, 12,  4, 25, 15, 22, -1, 19, -1, 23, -1, 15, -1,\n",
       "       19, 24, 41, 15, 14, 36, 41, 19, 36, 38, 18, 15, 20, 18, 11, 14, 36,\n",
       "       -1, 32, -1, -1, 23, 12, 24,  5,  9, 34, 34,  9,  8, -1,  8, 23, 34,\n",
       "       37, 39, 39, 39, 39, 16, 23, 29, 40,  5, -1, 28, 39, 29, 16, 30, 18,\n",
       "       -1, 28, 16, 30, 39, -1, 31, 32, 26, 30, 39, 35, 32, 39, 24, 35, 35,\n",
       "       21, 12, 24,  4, 38, 35, 33, 40, 39, 33, 33, 39, 22, 32, 39, 39, 24,\n",
       "       -1,  8, 16, -1, 39, 33, 27, 42, -1, 39, 39, 39, 20, 27, -1, 33, 21,\n",
       "        5,  5, 18, -1,  9,  3, -1, 22, 22, -1, 17, 41, 11, -1, 23, -1, 24,\n",
       "       17, 39, -1, 33, -1, 39, 21, 21, -1,  4, 17, -1, 39,  3,  2, -1, 12,\n",
       "       39, 34, 39, 18, 42, -1, 42, 37, 31, 39, 39, 33, 39, 39, -1, 37, 39,\n",
       "       -1, 39, 29, 26,  5, 39, 37, 39, 39, 34, -1, -1, 39, 31, 39, 39, 39,\n",
       "       28, 26, 40, 23, -1, 18, 23, 21, 23, 11, 41, -1, 12, 31, 16, 11, 20,\n",
       "       36, 39, 22, 37, 31, -1, -1, 11, 24,  7,  4, 31, -1, 39, 21,  5, 16,\n",
       "       -1, 21, 41, 12, 17, 24, 11,  4, -1,  7, 39,  5, 20, 37, 16, 22, 39,\n",
       "       31, 37, 37, 31, 39, -1, 31, 39, 29, 39, 34, 31, -1,  7, -1, 30, 29,\n",
       "       40, 27,  9, 16,  2, -1,  7,  9,  3, 16,  9,  4,  3, 16, 16, 16,  9,\n",
       "       16,  9, 24, 24, 17, 16, 12, 16, 16, 16, 16,  7,  9,  9,  5,  4, 16,\n",
       "        9,  7,  9,  4,  9,  5,  4,  4,  7, 12,  4, 24,  0,  3,  1, 24,  0,\n",
       "        0,  2,  1,  1,  0,  1, 24,  1,  1, -1,  7,  1,  2,  0,  0, -1,  0,\n",
       "        1, -1,  1,  1, -1,  1,  1,  2,  9,  2,  2, -1,  0,  7, -1,  0,  2,\n",
       "       16,  0,  0,  0,  0,  2,  2,  1, -1,  1,  1, -1,  0,  0,  0,  0,  9,\n",
       "        2,  0,  0,  2,  0,  0], dtype=int64)"
      ]
     },
     "execution_count": 28,
     "metadata": {},
     "output_type": "execute_result"
    }
   ],
   "source": [
    "cluster_labels"
   ]
  },
  {
   "cell_type": "code",
   "execution_count": 29,
   "id": "5a0f1eb7-cf35-4018-8d2f-8df446efc16d",
   "metadata": {},
   "outputs": [
    {
     "data": {
      "text/plain": [
       "<matplotlib.collections.PathCollection at 0x182cc05a6a0>"
      ]
     },
     "execution_count": 29,
     "metadata": {},
     "output_type": "execute_result"
    },
    {
     "data": {
      "image/png": "[encoded data removed]",
      "text/plain": [
       "<Figure size 432x288 with 1 Axes>"
      ]
     },
     "metadata": {
      "needs_background": "light"
     },
     "output_type": "display_data"
    }
   ],
   "source": [
    "# TODO: plotar gráfico com resultados;\n",
    "# TODO: rever hiperparametros;\n",
    "\n",
    "# isso é somente um exemplo: nao pode ser considerado devido ao fato de terem sido gerados pontos aleatorios no plano.\n",
    "plt.scatter(X[:,0], X[:,1], c=vectorizer(cluster_labels))"
   ]
  },
  {
   "cell_type": "code",
   "execution_count": 30,
   "id": "f0173b80-43d3-4235-aece-a6358b5195cf",
   "metadata": {},
   "outputs": [
    {
     "data": {
      "text/plain": [
       "<AxesSubplot:ylabel='distance'>"
      ]
     },
     "execution_count": 30,
     "metadata": {},
     "output_type": "execute_result"
    },
    {
     "data": {
      "image/png": "[encoded data removed]",
      "text/plain": [
       "<Figure size 432x288 with 2 Axes>"
      ]
     },
     "metadata": {
      "needs_background": "light"
     },
     "output_type": "display_data"
    }
   ],
   "source": [
    "clusterer = hdbscan.RobustSingleLinkage(cut=0.125, k=7)\n",
    "cluster_labels = clusterer.fit_predict(data)\n",
    "hierarchy = clusterer.cluster_hierarchy_\n",
    "alt_labels = hierarchy.get_clusters(0.100, 5)\n",
    "hierarchy.plot()"
   ]
  },
  {
   "cell_type": "code",
   "execution_count": null,
   "id": "f9320dbf-7e9b-4a4a-abd6-52a9475a6565",
   "metadata": {},
   "outputs": [],
   "source": []
  },
  {
   "cell_type": "markdown",
   "id": "6dd1c8a4-323a-42e2-9dbb-d103e0d52f78",
   "metadata": {},
   "source": [
    "### 4. ROCK "
   ]
  },
  {
   "cell_type": "code",
   "execution_count": null,
   "id": "1f306c4b-2a48-4bfd-b025-ad99ab6cb10b",
   "metadata": {},
   "outputs": [],
   "source": []
  },
  {
   "cell_type": "code",
   "execution_count": null,
   "id": "5baab961-fd7e-4b38-9112-c04b0f774cf2",
   "metadata": {},
   "outputs": [],
   "source": []
  },
  {
   "cell_type": "code",
   "execution_count": null,
   "id": "f21e4ffe-01ca-40d7-8cab-672f75fd9296",
   "metadata": {},
   "outputs": [],
   "source": []
  },
  {
   "cell_type": "markdown",
   "id": "95689256-49f6-4b84-a7e5-cff0fcd0aca6",
   "metadata": {},
   "source": [
    "### 5. Simulated Annealing"
   ]
  },
  {
   "cell_type": "code",
   "execution_count": null,
   "id": "92606765-5cb6-4209-8400-32f197f493ab",
   "metadata": {},
   "outputs": [],
   "source": []
  },
  {
   "cell_type": "code",
   "execution_count": null,
   "id": "b22a2adb-6113-4d7d-b0de-93077c51e251",
   "metadata": {},
   "outputs": [],
   "source": []
  },
  {
   "cell_type": "code",
   "execution_count": null,
   "id": "c1b0c5a9-c0d7-45ee-ac82-6dadbcaf27e2",
   "metadata": {},
   "outputs": [],
   "source": []
  }
 ],
 "metadata": {
  "kernelspec": {
   "display_name": "Python 3",
   "language": "python",
   "name": "python3"
  },
  "language_info": {
   "codemirror_mode": {
    "name": "ipython",
    "version": 3
   },
   "file_extension": ".py",
   "mimetype": "text/x-python",
   "name": "python",
   "nbconvert_exporter": "python",
   "pygments_lexer": "ipython3",
   "version": "3.6.12"
  }
 },
 "nbformat": 4,
 "nbformat_minor": 5
}
